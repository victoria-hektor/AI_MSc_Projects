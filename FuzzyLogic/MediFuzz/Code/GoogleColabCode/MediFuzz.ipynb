{
  "nbformat": 4,
  "nbformat_minor": 0,
  "metadata": {
    "colab": {
      "provenance": []
    },
    "kernelspec": {
      "name": "python3",
      "display_name": "Python 3"
    },
    "language_info": {
      "name": "python"
    }
  },
  "cells": [
    {
      "cell_type": "code",
      "execution_count": null,
      "metadata": {
        "colab": {
          "base_uri": "https://localhost:8080/"
        },
        "id": "E6cuMntDVCOP",
        "outputId": "8291b4d0-b098-46be-d5b5-0bdc90b654df"
      },
      "outputs": [
        {
          "output_type": "stream",
          "name": "stdout",
          "text": [
            "  Input / Output                      Description  \\\n",
            "0        Input 1                 Symptom Severity   \n",
            "1        Input 2          Test Result Consistency   \n",
            "2        Input 3        Patient History Relevance   \n",
            "3         Output  Likelihood of Disease Diagnosis   \n",
            "\n",
            "                              Linguistic Variables  \n",
            "0                              Low, Moderate, High  \n",
            "1  Inconsistent, Moderately Consistent, Consistent  \n",
            "2   Irrelevant, Somewhat Relevant, Highly Relevant  \n",
            "3    Unlikely, Possible, Probable, Highly Probable  \n"
          ]
        }
      ],
      "source": [
        "import pandas as pd\n",
        "\n",
        "# Create a dictionary with the data\n",
        "data = {\n",
        "    \"Input / Output\": [\"Input 1\", \"Input 2\", \"Input 3\", \"Output\"],\n",
        "    \"Description\": [\"Symptom Severity\", \"Test Result Consistency\", \"Patient History Relevance\", \"Likelihood of Disease Diagnosis\"],\n",
        "    \"Linguistic Variables\": [\n",
        "        \"Low, Moderate, High\",\n",
        "        \"Inconsistent, Moderately Consistent, Consistent\",\n",
        "        \"Irrelevant, Somewhat Relevant, Highly Relevant\",\n",
        "        \"Unlikely, Possible, Probable, Highly Probable\"\n",
        "    ]\n",
        "}\n",
        "\n",
        "# Create a DataFrame\n",
        "df = pd.DataFrame(data)\n",
        "\n",
        "# Print the DataFrame\n",
        "print(df)"
      ]
    },
    {
      "cell_type": "code",
      "source": [
        "import numpy as np\n",
        "import pandas as pd\n",
        "\n",
        "# Define ranges for each input variable\n",
        "symptom_severity_levels = np.linspace(0, 10, 100)\n",
        "test_consistency_levels = np.linspace(0, 10, 100)\n",
        "patient_history_relevance_levels = np.linspace(0, 10, 100)\n",
        "\n",
        "# Create meshgrid for all combinations\n",
        "ss, tc, phr = np.meshgrid(symptom_severity_levels, test_consistency_levels, patient_history_relevance_levels, indexing='ij')\n",
        "\n",
        "# Flatten the grids to create a long format table where each row is a combination of inputs\n",
        "data = np.vstack([ss.ravel(), tc.ravel(), phr.ravel()]).T\n",
        "\n",
        "# Create a DataFrame for better visualization and usage\n",
        "df = pd.DataFrame(data, columns=['Symptom Severity', 'Test Result Consistency', 'Patient History Relevance'])\n",
        "\n",
        "# Save the DataFrame to an Excel file for use in other platforms\n",
        "df.to_excel('fuzzy_input_data.xlsx', index=False)\n",
        "\n",
        "# Provide a link to download the Excel file if running in a Google Colab environment (uncomment if needed)\n",
        "# from google.colab import files\n",
        "# files.download('fuzzy_input_data.xlsx')"
      ],
      "metadata": {
        "id": "JwEPNUKUORv3"
      },
      "execution_count": null,
      "outputs": []
    },
    {
      "cell_type": "code",
      "source": [
        "import pandas as pd\n",
        "\n",
        "# Define center or peak points of trapezoidal membership functions for each input\n",
        "# These points are chosen to ideally activate each rule. These might be approximations.\n",
        "\n",
        "# Symptom Severity (Very Low, Low, Medium, High, Very High)\n",
        "ss_points = [1.75, 2.25, 4.75, 7.5, 8.75]  # Midpoints of the flat top of trapezoids\n",
        "\n",
        "# Test Result Consistency (Very Inconsistent, Inconsistent, Moderately Consistent, Consistent, Very Consistent)\n",
        "tc_points = [1.75, 2.25, 4.75, 7.5, 8.75]\n",
        "\n",
        "# Patient History Relevance (Very Irrelevant, Irrelevant, Somewhat Relevant, Relevant, Highly Relevant)\n",
        "phr_points = [1.75, 2.25, 4.75, 7.5, 8.75]\n",
        "\n",
        "# Generate combinations of these points to align with the rules specified\n",
        "data = []\n",
        "for ss in ss_points:\n",
        "    for tc in tc_points:\n",
        "        for phr in phr_points:\n",
        "            data.append([ss, tc, phr])\n",
        "\n",
        "# Convert to DataFrame for better usability and visibility\n",
        "df = pd.DataFrame(data, columns=['Symptom Severity', 'Test Result Consistency', 'Patient History Relevance'])\n",
        "\n",
        "# Save the data to an Excel file\n",
        "df.to_excel('/content/drive/MyDrive/Colab Notebooks/data/rule_activation_data.xlsx', index=False)\n",
        "\n",
        "print(df.head())"
      ],
      "metadata": {
        "colab": {
          "base_uri": "https://localhost:8080/"
        },
        "id": "B-pkC6okwEri",
        "outputId": "268abd39-9d3f-449b-d908-ca6a96db7ece"
      },
      "execution_count": null,
      "outputs": [
        {
          "output_type": "stream",
          "name": "stdout",
          "text": [
            "   Symptom Severity  Test Result Consistency  Patient History Relevance\n",
            "0              1.75                     1.75                       1.75\n",
            "1              1.75                     1.75                       2.25\n",
            "2              1.75                     1.75                       4.75\n",
            "3              1.75                     1.75                       7.50\n",
            "4              1.75                     1.75                       8.75\n"
          ]
        }
      ]
    },
    {
      "cell_type": "code",
      "source": [
        "import numpy as np\n",
        "import pandas as pd\n",
        "\n",
        "# Define the ranges for each input based on the defined membership functions\n",
        "num_samples = 50  # You can increase this for finer granularity\n",
        "symptom_severity = np.linspace(0, 10, num_samples)\n",
        "test_result_consistency = np.linspace(0, 10, num_samples)\n",
        "patient_history_relevance = np.linspace(0, 10, num_samples)\n",
        "\n",
        "# Use meshgrid to create a dense grid of input values\n",
        "SS, TC, PHR = np.meshgrid(symptom_severity, test_result_consistency, patient_history_relevance, indexing='ij')\n",
        "\n",
        "# Flatten the arrays to create a long format table where each row is a combination of inputs\n",
        "data = np.column_stack((SS.ravel(), TC.ravel(), PHR.ravel()))\n",
        "\n",
        "# Create a DataFrame for easier handling\n",
        "df = pd.DataFrame(data, columns=['Symptom Severity', 'Test Result Consistency', 'Patient History Relevance'])\n",
        "\n",
        "# Save the DataFrame to an Excel file for use in MATLAB or other platforms\n",
        "df.to_excel('fuzzy_test_data.xlsx', index=False)\n",
        "\n",
        "# Print some information\n",
        "print(f\"Data shape: {df.shape}\")\n",
        "print(\"First 5 rows of the generated data:\")\n",
        "print(df.head())"
      ],
      "metadata": {
        "colab": {
          "base_uri": "https://localhost:8080/"
        },
        "id": "kGSCRXuW57kz",
        "outputId": "8223304e-c5ad-43a2-a010-526027aecc58"
      },
      "execution_count": null,
      "outputs": [
        {
          "output_type": "stream",
          "name": "stdout",
          "text": [
            "Data shape: (125000, 3)\n",
            "First 5 rows of the generated data:\n",
            "   Symptom Severity  Test Result Consistency  Patient History Relevance\n",
            "0               0.0                      0.0                   0.000000\n",
            "1               0.0                      0.0                   0.204082\n",
            "2               0.0                      0.0                   0.408163\n",
            "3               0.0                      0.0                   0.612245\n",
            "4               0.0                      0.0                   0.816327\n"
          ]
        }
      ]
    },
    {
      "cell_type": "code",
      "source": [
        "pip install scikit-fuzzy"
      ],
      "metadata": {
        "colab": {
          "base_uri": "https://localhost:8080/"
        },
        "id": "Bcb75nmkygSb",
        "outputId": "0d5d46b2-1343-477b-906b-b1a63b4fb312"
      },
      "execution_count": null,
      "outputs": [
        {
          "output_type": "stream",
          "name": "stdout",
          "text": [
            "Collecting scikit-fuzzy\n",
            "  Downloading scikit-fuzzy-0.4.2.tar.gz (993 kB)\n",
            "\u001b[2K     \u001b[90m━━━━━━━━━━━━━━━━━━━━━━━━━━━━━━━━━━━━━━━━\u001b[0m \u001b[32m994.0/994.0 kB\u001b[0m \u001b[31m10.8 MB/s\u001b[0m eta \u001b[36m0:00:00\u001b[0m\n",
            "\u001b[?25h  Preparing metadata (setup.py) ... \u001b[?25l\u001b[?25hdone\n",
            "Requirement already satisfied: numpy>=1.6.0 in /usr/local/lib/python3.10/dist-packages (from scikit-fuzzy) (1.25.2)\n",
            "Requirement already satisfied: scipy>=0.9.0 in /usr/local/lib/python3.10/dist-packages (from scikit-fuzzy) (1.11.4)\n",
            "Requirement already satisfied: networkx>=1.9.0 in /usr/local/lib/python3.10/dist-packages (from scikit-fuzzy) (3.3)\n",
            "Building wheels for collected packages: scikit-fuzzy\n",
            "  Building wheel for scikit-fuzzy (setup.py) ... \u001b[?25l\u001b[?25hdone\n",
            "  Created wheel for scikit-fuzzy: filename=scikit_fuzzy-0.4.2-py3-none-any.whl size=894078 sha256=009d0c1328f0f3d0ddd757b4a79785944b1b2e849b3f38ea2b1afdd285b6b704\n",
            "  Stored in directory: /root/.cache/pip/wheels/4f/86/1b/dfd97134a2c8313e519bcebd95d3fedc7be7944db022094bc8\n",
            "Successfully built scikit-fuzzy\n",
            "Installing collected packages: scikit-fuzzy\n",
            "Successfully installed scikit-fuzzy-0.4.2\n"
          ]
        }
      ]
    },
    {
      "cell_type": "code",
      "source": [
        "import numpy as np\n",
        "import skfuzzy as fuzz\n",
        "from skfuzzy import control as ctrl\n",
        "\n",
        "# New Antecedent/Consequent objects hold universe variables and membership functions\n",
        "symptom_severity = ctrl.Antecedent(np.arange(0, 11, 1), 'symptom_severity')\n",
        "test_consistency = ctrl.Antecedent(np.arange(0, 11, 1), 'test_consistency')\n",
        "history_relevance = ctrl.Antecedent(np.arange(0, 11, 1), 'history_relevance')\n",
        "diagnosis_likelihood = ctrl.Consequent(np.arange(0, 11, 1), 'diagnosis_likelihood')\n",
        "\n",
        "# Auto-membership function population is possible with .automf(3, 5, or 7)\n",
        "symptom_severity.automf(3, names=['low', 'moderate', 'high'])\n",
        "test_consistency.automf(3, names=['inconsistent', 'moderately consistent', 'consistent'])\n",
        "history_relevance.automf(3, names=['irrelevant', 'somewhat relevant', 'highly relevant'])\n",
        "\n",
        "# Custom membership functions can be built interactively with a familiar, Pythonic API\n",
        "diagnosis_likelihood['unlikely'] = fuzz.trimf(diagnosis_likelihood.universe, [0, 0, 3])\n",
        "diagnosis_likelihood['possible'] = fuzz.trimf(diagnosis_likelihood.universe, [2, 5, 8])\n",
        "diagnosis_likelihood['probable'] = fuzz.trimf(diagnosis_likelihood.universe, [7, 9, 10])\n",
        "diagnosis_likelihood['highly probable'] = fuzz.trimf(diagnosis_likelihood.universe, [8, 10, 10])\n",
        "\n",
        "# Rules\n",
        "rule1 = ctrl.Rule(symptom_severity['high'] & test_consistency['consistent'] & history_relevance['highly relevant'], diagnosis_likelihood['highly probable'])\n",
        "rule2 = ctrl.Rule(symptom_severity['low'] | test_consistency['inconsistent'], diagnosis_likelihood['unlikely'])\n",
        "\n",
        "# Control System Creation and Simulation\n",
        "diagnosis_ctrl = ctrl.ControlSystem([rule1, rule2])\n",
        "diagnosis = ctrl.ControlSystemSimulation(diagnosis_ctrl)\n",
        "\n",
        "# Passing inputs to the ControlSystem using Antecedent labels with Pythonic API\n",
        "diagnosis.input['symptom_severity'] = 6.5\n",
        "diagnosis.input['test_consistency'] = 6.5\n",
        "diagnosis.input['history_relevance'] = 6.5\n",
        "\n",
        "# Crunch the numbers\n",
        "diagnosis.compute()\n",
        "\n",
        "print(diagnosis.output['diagnosis_likelihood'])\n",
        "diagnosis_likelihood.view(sim=diagnosis)"
      ],
      "metadata": {
        "colab": {
          "base_uri": "https://localhost:8080/",
          "height": 468
        },
        "id": "Hm_jegRqqKM_",
        "outputId": "4f3a04f4-560a-4a76-a46d-a8220c80756d"
      },
      "execution_count": null,
      "outputs": [
        {
          "output_type": "stream",
          "name": "stdout",
          "text": [
            "9.141176470588237\n"
          ]
        },
        {
          "output_type": "display_data",
          "data": {
            "text/plain": [
              "<Figure size 640x480 with 1 Axes>"
            ],
            "image/png": "[encoded data removed]"
          },
          "metadata": {}
        }
      ]
    },
    {
      "cell_type": "code",
      "source": [
        "import numpy as np\n",
        "import pandas as pd\n",
        "\n",
        "# Set the random seed for reproducibility\n",
        "np.random.seed(0)\n",
        "\n",
        "# Define the number of pseudo data points\n",
        "num_data_points = 100\n",
        "\n",
        "# Generate pseudo patient data for the three inputs\n",
        "# Assume that these inputs are normally distributed around a mean value, which is a common assumption for pseudo data generation.\n",
        "\n",
        "# Symptom Severity ranges from 0 to 10, with most patients having moderate severity\n",
        "symptom_severity = np.random.normal(loc=5, scale=2, size=num_data_points)\n",
        "symptom_severity = np.clip(symptom_severity, 0, 10)  # Ensure values are within bounds\n",
        "\n",
        "# Test Result Consistency also ranges from 0 to 10, with most results being moderately consistent\n",
        "test_consistency = np.random.normal(loc=5, scale=2, size=num_data_points)\n",
        "test_consistency = np.clip(test_consistency, 0, 10)  # Ensure values are within bounds\n",
        "\n",
        "# Patient History Relevance ranges from 0 to 10, with a spread of relevancies\n",
        "history_relevance = np.random.normal(loc=5, scale=2, size=num_data_points)\n",
        "history_relevance = np.clip(history_relevance, 0, 10)  # Ensure values are within bounds\n",
        "\n",
        "# Create a DataFrame to hold the pseudo patient data\n",
        "pseudo_patient_data = pd.DataFrame({\n",
        "    'Symptom Severity': symptom_severity,\n",
        "    'Test Result Consistency': test_consistency,\n",
        "    'Patient History Relevance': history_relevance\n",
        "})\n",
        "\n",
        "pseudo_patient_data.head()\n",
        "# Print the entire DataFrame to the console\n",
        "#with pd.option_context('display.max_rows', None, 'display.max_columns', None):\n",
        "    #print(pseudo_patient_data)\n",
        "\n",
        "file_path = '/content/drive/MyDrive/Colab Notebooks/data/pseudo_patient_data.csv'  # Path in Google Drive where you want to save the file\n",
        "pseudo_patient_data.to_csv(file_path, index=False)"
      ],
      "metadata": {
        "id": "XZXlpBvc2z5W"
      },
      "execution_count": null,
      "outputs": []
    },
    {
      "cell_type": "code",
      "source": [
        "import numpy as np\n",
        "import pandas as pd\n",
        "from scipy.stats import shapiro\n",
        "\n",
        "# Generate pseudo patient data again as the previous data was not saved due to an error.\n",
        "np.random.seed(0)  # Ensure reproducibility\n",
        "num_data_points = 100\n",
        "symptom_severity = np.clip(np.random.normal(5, 2, num_data_points), 0, 10)\n",
        "test_consistency = np.clip(np.random.normal(5, 2, num_data_points), 0, 10)\n",
        "history_relevance = np.clip(np.random.normal(5, 2, num_data_points), 0, 10)\n",
        "pseudo_patient_data = pd.DataFrame({\n",
        "    'Symptom Severity': symptom_severity,\n",
        "    'Test Result Consistency': test_consistency,\n",
        "    'Patient History Relevance': history_relevance\n",
        "})\n",
        "\n",
        "# Descriptive Statistics\n",
        "descriptive_stats = pseudo_patient_data.describe()\n",
        "\n",
        "# Shapiro-Wilk Test\n",
        "sw_test_results = {col: shapiro(pseudo_patient_data[col]) for col in pseudo_patient_data.columns}\n",
        "\n",
        "# Null Values Check\n",
        "null_values = pseudo_patient_data.isnull().sum()\n",
        "\n",
        "# Outlier Detection\n",
        "z_scores = np.abs((pseudo_patient_data - pseudo_patient_data.mean()) / pseudo_patient_data.std())\n",
        "outliers_detected = (z_scores > 3).sum()\n",
        "\n",
        "# Assembling the results\n",
        "preliminary_tests_results = {\n",
        "    'Descriptive Statistics': descriptive_stats,\n",
        "    'Shapiro-Wilk Test': sw_test_results,\n",
        "    'Null Values': null_values,\n",
        "    'Outliers': outliers_detected\n",
        "}\n",
        "\n",
        "preliminary_tests_results"
      ],
      "metadata": {
        "id": "ax1NFv4r98L8",
        "outputId": "69ac4c46-9d92-4655-ed9b-af4c4fa052c6",
        "colab": {
          "base_uri": "https://localhost:8080/"
        }
      },
      "execution_count": null,
      "outputs": [
        {
          "output_type": "execute_result",
          "data": {
            "text/plain": [
              "{'Descriptive Statistics':        Symptom Severity  Test Result Consistency  Patient History Relevance\n",
              " count        100.000000               100.000000                 100.000000\n",
              " mean           5.120676                 5.164026                   4.886987\n",
              " std            2.023184                 2.079759                   1.898699\n",
              " min            0.000000                 0.553194                   0.000000\n",
              " 25%            3.712287                 3.509140                   3.806871\n",
              " 50%            5.188192                 5.049310                   4.849282\n",
              " 75%            6.474155                 6.694960                   6.077313\n",
              " max            9.539509                 9.766290                   9.607833,\n",
              " 'Shapiro-Wilk Test': {'Symptom Severity': ShapiroResult(statistic=0.992516040802002, pvalue=0.8572329878807068),\n",
              "  'Test Result Consistency': ShapiroResult(statistic=0.9735487699508667, pvalue=0.04156402125954628),\n",
              "  'Patient History Relevance': ShapiroResult(statistic=0.9909981489181519, pvalue=0.7448300719261169)},\n",
              " 'Null Values': Symptom Severity             0\n",
              " Test Result Consistency      0\n",
              " Patient History Relevance    0\n",
              " dtype: int64,\n",
              " 'Outliers': Symptom Severity             0\n",
              " Test Result Consistency      0\n",
              " Patient History Relevance    0\n",
              " dtype: int64}"
            ]
          },
          "metadata": {},
          "execution_count": 8
        }
      ]
    },
    {
      "cell_type": "code",
      "source": [
        "import pandas as pd\n",
        "import numpy as np\n",
        "\n",
        "# Set the random seed for reproducibility\n",
        "np.random.seed(0)\n",
        "\n",
        "# Define the number of data points\n",
        "num_data_points = 150\n",
        "\n",
        "# Generate pseudo patient data for the three inputs, scaled between 0 and 10\n",
        "symptom_severity = np.random.rand(num_data_points) * 10\n",
        "test_result_consistency = np.random.rand(num_data_points) * 10\n",
        "patient_history_relevance = np.random.rand(num_data_points) * 10\n",
        "\n",
        "# Create a DataFrame to hold the pseudo patient data\n",
        "pseudo_patient_data = pd.DataFrame({\n",
        "    'Symptom Severity': symptom_severity,\n",
        "    'Test Result Consistency': test_result_consistency,\n",
        "    'Patient History Relevance': patient_history_relevance\n",
        "})\n",
        "\n",
        "# Save the DataFrame to an Excel file\n",
        "excel_file_path = 'pseudo_patient_data.xlsx'\n",
        "pseudo_patient_data.to_excel(excel_file_path, index=False)\n",
        "\n",
        "# Return the file path for download\n",
        "excel_file_path"
      ],
      "metadata": {
        "colab": {
          "base_uri": "https://localhost:8080/",
          "height": 36
        },
        "id": "lci6ElA76L0L",
        "outputId": "2f258b82-9357-42d1-b697-543efc3d0438"
      },
      "execution_count": null,
      "outputs": [
        {
          "output_type": "execute_result",
          "data": {
            "text/plain": [
              "'pseudo_patient_data.xlsx'"
            ],
            "application/vnd.google.colaboratory.intrinsic+json": {
              "type": "string"
            }
          },
          "metadata": {},
          "execution_count": 3
        }
      ]
    },
    {
      "cell_type": "code",
      "source": [
        "from google.colab import drive\n",
        "drive.mount('/content/drive')"
      ],
      "metadata": {
        "colab": {
          "base_uri": "https://localhost:8080/"
        },
        "id": "9zQOzNt-6ONI",
        "outputId": "180f9053-71e7-4d25-a01b-db1f59f4185b"
      },
      "execution_count": null,
      "outputs": [
        {
          "output_type": "stream",
          "name": "stdout",
          "text": [
            "Drive already mounted at /content/drive; to attempt to forcibly remount, call drive.mount(\"/content/drive\", force_remount=True).\n"
          ]
        }
      ]
    },
    {
      "cell_type": "code",
      "source": [
        "import numpy as np\n",
        "import pandas as pd\n",
        "from sklearn.preprocessing import MinMaxScaler\n",
        "\n",
        "# Set the random seed for reproducibility\n",
        "np.random.seed(0)\n",
        "\n",
        "# Define the number of data points\n",
        "num_data_points = 1000\n",
        "\n",
        "# Generate random data points for 'Symptom Severity', 'Test Result Consistency', and 'Patient History Relevance'\n",
        "# Assuming the range for each input variable is from 0 to 10\n",
        "data = np.random.uniform(0, 10, (num_data_points, 3))\n",
        "\n",
        "# Pre-analysis: calculate mean and standard deviation before normalisation\n",
        "mean_vals = np.mean(data, axis=0)\n",
        "std_vals = np.std(data, axis=0)\n",
        "\n",
        "# Perform normalisation using Min-Max scaling to the range [0, 1]\n",
        "scaler = MinMaxScaler(feature_range=(0, 10))\n",
        "normalised_data = scaler.fit_transform(data)\n",
        "\n",
        "# Convert the normalised data to a DataFrame\n",
        "columns = ['Symptom Severity', 'Test Result Consistency', 'Patient History Relevance']\n",
        "normalised_df = pd.DataFrame(normalised_data, columns=columns)\n",
        "\n",
        "# Save the DataFrame to a new Excel file\n",
        "output_file = 'comprehensive_data_points.xlsx'\n",
        "normalised_df.to_excel(output_file, index=False)\n",
        "\n",
        "# Output the pre-analysis stats and the path to the saved file\n",
        "pre_analysis_stats = {'mean': mean_vals.tolist(), 'std': std_vals.tolist()}\n",
        "pre_analysis_stats, output_file"
      ],
      "metadata": {
        "colab": {
          "base_uri": "https://localhost:8080/"
        },
        "id": "-QBYINKTO09j",
        "outputId": "c65b3c5c-a75e-48a1-b30d-60b437bc549c"
      },
      "execution_count": null,
      "outputs": [
        {
          "output_type": "execute_result",
          "data": {
            "text/plain": [
              "({'mean': [5.053773544111949, 4.9855692912724505, 5.087853797068981],\n",
              "  'std': [2.9825306921876664, 2.914382080630865, 2.867445109758321]},\n",
              " 'comprehensive_data_points.xlsx')"
            ]
          },
          "metadata": {},
          "execution_count": 2
        }
      ]
    }
  ]
}
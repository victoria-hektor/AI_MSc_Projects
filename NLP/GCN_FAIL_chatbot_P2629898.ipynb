{
  "cells": [
    {
      "cell_type": "markdown",
      "source": [
        "VH CW - P2629898\n",
        "Chatbot\n",
        "\n",
        "Code Blocks Flow:\n",
        "1. ***Import Libraries***\n",
        "Include all necessary imports at the beginning of the script.\n",
        "\n",
        "2. ***Configuration and Hyperparameters***\n",
        "Set up the model configurations, hyperparameters, and training settings.\n",
        "\n",
        "3. ***Define Helper Functions***\n",
        "Include functions like normalizeString, indexesFromSentence, create_adjacency_matrix, etc.\n",
        "\n",
        "4. ***Define Models and Components***\n",
        "Define the model classes such as GCNN, EncoderRNN, Attn, LuongAttnDecoderRNN, and GreedySearchDecoder.\n",
        "\n",
        "5. Load Pretrained Model*** (If applicable)\n",
        "Load the pretrained model if a loadFilename is provided.\n",
        "\n",
        "6. ***Initialise Models, Embeddings, and Optimisers***\n",
        "Initialise the models (encoder, decoder, GCNN), embeddings, and optimisers.\n",
        "\n",
        "7. ***Training Preparation***\n",
        "Prepare for training by defining the train function and setting the models to training mode.\n",
        "\n",
        "8. ***Training Iterations***\n",
        "Execute the training iterations using the trainIters function.\n",
        "\n",
        "9. ***Evaluation Functions***\n",
        "Define the evaluate and evaluateInput functions for testing the chatbot.\n",
        "\n",
        "10. ***Start Chatbot*** (Interactive Session)\n",
        "Finally, include any code that starts the interactive chat session with the chatbot.\n"
      ],
      "metadata": {
        "id": "BmV57eCNMYxd"
      }
    },
    {
      "cell_type": "code",
      "execution_count": null,
      "metadata": {
        "id": "kXqg-4alzi_H"
      },
      "outputs": [],
      "source": [
        "# For tips on running notebooks in Google Colab, see\n",
        "# https://pytorch.org/tutorials/beginner/colab\n",
        "%matplotlib inline"
      ]
    },
    {
      "cell_type": "code",
      "source": [
        "from google.colab import drive\n",
        "drive.mount('/content/drive')"
      ],
      "metadata": {
        "colab": {
          "base_uri": "https://localhost:8080/"
        },
        "id": "z-0FuaNKt7en",
        "outputId": "eaf43fea-789f-4832-f6c6-346b9d3537ce"
      },
      "execution_count": null,
      "outputs": [
        {
          "output_type": "stream",
          "name": "stdout",
          "text": [
            "Drive already mounted at /content/drive; to attempt to forcibly remount, call drive.mount(\"/content/drive\", force_remount=True).\n"
          ]
        }
      ]
    },
    {
      "cell_type": "markdown",
      "source": [
        "This code sets up the necessary libraries/modules and checks whether CUDA (GPU support) is available, assigning the appropriate device (\"cuda\" or \"cpu\") for computation:"
      ],
      "metadata": {
        "id": "rT4TMRKkvq54"
      }
    },
    {
      "cell_type": "code",
      "execution_count": null,
      "metadata": {
        "id": "K8_1ROHTzi_P"
      },
      "outputs": [],
      "source": [
        "# Import the necessary libraries/modules\n",
        "import torch  # PyTorch library for deep learning\n",
        "from torch.jit import script, trace  # For script and trace in PyTorch\n",
        "import torch.nn as nn  # Neural network module in PyTorch\n",
        "from torch import optim  # Optimisation module in PyTorch\n",
        "import torch.nn.functional as F  # Functional operations for neural networks\n",
        "import csv  # Comma Separated Values (CSV) file handling\n",
        "import random  # Random number generation\n",
        "import re  # Regular expressions for text processing\n",
        "import os  # Operating system interface\n",
        "import unicodedata  # Unicode character database\n",
        "import codecs  # Codec support for reading and writing text files\n",
        "from io import open  # Input/output operations with text files\n",
        "import itertools  # Iteration utilities\n",
        "import math  # Mathematical operations\n",
        "import json  # JSON (JavaScript Object Notation) handling\n",
        "\n",
        "# Check if CUDA (GPU support) is available, and set the device accordingly\n",
        "USE_CUDA = torch.cuda.is_available()\n",
        "device = torch.device(\"cuda\" if USE_CUDA else \"cpu\")"
      ]
    },
    {
      "cell_type": "markdown",
      "source": [
        "This code defines a function printLines that reads and prints the first 'n' lines from a given file. Then, it calls this function with the path to the \"utterances.jsonl\" file within the \"movie-corpus\" directory:"
      ],
      "metadata": {
        "id": "oTi93gZpojXh"
      }
    },
    {
      "cell_type": "code",
      "source": [
        "# Define the name of the corpus folder.\n",
        "corpus_name = \"movie-corpus\"\n",
        "\n",
        "# Create a file path by joining \"data\" and the corpus_name.\n",
        "corpus = os.path.join(\"movie-corpus\", corpus_name)\n",
        "\n",
        "# Define a function called 'printLines' that takes a file path and an optional argument 'n'.\n",
        "def printLines(file, n=10):\n",
        "    # Open the file in binary read mode and assign it to the 'datafile' variable.\n",
        "    with open(file, 'rb') as datafile:\n",
        "        # Read all lines from the file and store them in the 'lines' list.\n",
        "        lines = datafile.readlines()\n",
        "\n",
        "    # Loop through the first 'n' lines (default is 10) in the 'lines' list.\n",
        "    for line in lines[:n]:\n",
        "        # Print each line to the console.\n",
        "        print(line)\n",
        "\n",
        "# Call the 'printLines' function with the file path to \"utterances.jsonl\" in the 'corpus' folder.\n",
        "printLines(os.path.join(corpus, \"utterances.jsonl\"))"
      ],
      "metadata": {
        "id": "etQZY_JwodWm",
        "colab": {
          "base_uri": "https://localhost:8080/"
        },
        "outputId": "a4448958-527a-4c6b-8b18-79fd7385235c"
      },
      "execution_count": null,
      "outputs": [
        {
          "output_type": "stream",
          "name": "stdout",
          "text": [
            "b'{\"id\": \"L1045\", \"conversation_id\": \"L1044\", \"text\": \"They do not!\", \"speaker\": \"u0\", \"meta\": {\"movie_id\": \"m0\", \"parsed\": [{\"rt\": 1, \"toks\": [{\"tok\": \"They\", \"tag\": \"PRP\", \"dep\": \"nsubj\", \"up\": 1, \"dn\": []}, {\"tok\": \"do\", \"tag\": \"VBP\", \"dep\": \"ROOT\", \"dn\": [0, 2, 3]}, {\"tok\": \"not\", \"tag\": \"RB\", \"dep\": \"neg\", \"up\": 1, \"dn\": []}, {\"tok\": \"!\", \"tag\": \".\", \"dep\": \"punct\", \"up\": 1, \"dn\": []}]}]}, \"reply-to\": \"L1044\", \"timestamp\": null, \"vectors\": []}\\n'\n",
            "b'{\"id\": \"L1044\", \"conversation_id\": \"L1044\", \"text\": \"They do to!\", \"speaker\": \"u2\", \"meta\": {\"movie_id\": \"m0\", \"parsed\": [{\"rt\": 1, \"toks\": [{\"tok\": \"They\", \"tag\": \"PRP\", \"dep\": \"nsubj\", \"up\": 1, \"dn\": []}, {\"tok\": \"do\", \"tag\": \"VBP\", \"dep\": \"ROOT\", \"dn\": [0, 2, 3]}, {\"tok\": \"to\", \"tag\": \"TO\", \"dep\": \"dobj\", \"up\": 1, \"dn\": []}, {\"tok\": \"!\", \"tag\": \".\", \"dep\": \"punct\", \"up\": 1, \"dn\": []}]}]}, \"reply-to\": null, \"timestamp\": null, \"vectors\": []}\\n'\n",
            "b'{\"id\": \"L985\", \"conversation_id\": \"L984\", \"text\": \"I hope so.\", \"speaker\": \"u0\", \"meta\": {\"movie_id\": \"m0\", \"parsed\": [{\"rt\": 1, \"toks\": [{\"tok\": \"I\", \"tag\": \"PRP\", \"dep\": \"nsubj\", \"up\": 1, \"dn\": []}, {\"tok\": \"hope\", \"tag\": \"VBP\", \"dep\": \"ROOT\", \"dn\": [0, 2, 3]}, {\"tok\": \"so\", \"tag\": \"RB\", \"dep\": \"advmod\", \"up\": 1, \"dn\": []}, {\"tok\": \".\", \"tag\": \".\", \"dep\": \"punct\", \"up\": 1, \"dn\": []}]}]}, \"reply-to\": \"L984\", \"timestamp\": null, \"vectors\": []}\\n'\n",
            "b'{\"id\": \"L984\", \"conversation_id\": \"L984\", \"text\": \"She okay?\", \"speaker\": \"u2\", \"meta\": {\"movie_id\": \"m0\", \"parsed\": [{\"rt\": 1, \"toks\": [{\"tok\": \"She\", \"tag\": \"PRP\", \"dep\": \"nsubj\", \"up\": 1, \"dn\": []}, {\"tok\": \"okay\", \"tag\": \"RB\", \"dep\": \"ROOT\", \"dn\": [0, 2]}, {\"tok\": \"?\", \"tag\": \".\", \"dep\": \"punct\", \"up\": 1, \"dn\": []}]}]}, \"reply-to\": null, \"timestamp\": null, \"vectors\": []}\\n'\n",
            "b'{\"id\": \"L925\", \"conversation_id\": \"L924\", \"text\": \"Let\\'s go.\", \"speaker\": \"u0\", \"meta\": {\"movie_id\": \"m0\", \"parsed\": [{\"rt\": 0, \"toks\": [{\"tok\": \"Let\", \"tag\": \"VB\", \"dep\": \"ROOT\", \"dn\": [2, 3]}, {\"tok\": \"\\'s\", \"tag\": \"PRP\", \"dep\": \"nsubj\", \"up\": 2, \"dn\": []}, {\"tok\": \"go\", \"tag\": \"VB\", \"dep\": \"ccomp\", \"up\": 0, \"dn\": [1]}, {\"tok\": \".\", \"tag\": \".\", \"dep\": \"punct\", \"up\": 0, \"dn\": []}]}]}, \"reply-to\": \"L924\", \"timestamp\": null, \"vectors\": []}\\n'\n",
            "b'{\"id\": \"L924\", \"conversation_id\": \"L924\", \"text\": \"Wow\", \"speaker\": \"u2\", \"meta\": {\"movie_id\": \"m0\", \"parsed\": [{\"rt\": 0, \"toks\": [{\"tok\": \"Wow\", \"tag\": \"UH\", \"dep\": \"ROOT\", \"dn\": []}]}]}, \"reply-to\": null, \"timestamp\": null, \"vectors\": []}\\n'\n",
            "b'{\"id\": \"L872\", \"conversation_id\": \"L870\", \"text\": \"Okay -- you\\'re gonna need to learn how to lie.\", \"speaker\": \"u0\", \"meta\": {\"movie_id\": \"m0\", \"parsed\": [{\"rt\": 4, \"toks\": [{\"tok\": \"Okay\", \"tag\": \"UH\", \"dep\": \"intj\", \"up\": 4, \"dn\": []}, {\"tok\": \"--\", \"tag\": \":\", \"dep\": \"punct\", \"up\": 4, \"dn\": []}, {\"tok\": \"you\", \"tag\": \"PRP\", \"dep\": \"nsubj\", \"up\": 4, \"dn\": []}, {\"tok\": \"\\'re\", \"tag\": \"VBP\", \"dep\": \"aux\", \"up\": 4, \"dn\": []}, {\"tok\": \"gon\", \"tag\": \"VBG\", \"dep\": \"ROOT\", \"dn\": [0, 1, 2, 3, 6, 12]}, {\"tok\": \"na\", \"tag\": \"TO\", \"dep\": \"aux\", \"up\": 6, \"dn\": []}, {\"tok\": \"need\", \"tag\": \"VB\", \"dep\": \"xcomp\", \"up\": 4, \"dn\": [5, 8]}, {\"tok\": \"to\", \"tag\": \"TO\", \"dep\": \"aux\", \"up\": 8, \"dn\": []}, {\"tok\": \"learn\", \"tag\": \"VB\", \"dep\": \"xcomp\", \"up\": 6, \"dn\": [7, 11]}, {\"tok\": \"how\", \"tag\": \"WRB\", \"dep\": \"advmod\", \"up\": 11, \"dn\": []}, {\"tok\": \"to\", \"tag\": \"TO\", \"dep\": \"aux\", \"up\": 11, \"dn\": []}, {\"tok\": \"lie\", \"tag\": \"VB\", \"dep\": \"xcomp\", \"up\": 8, \"dn\": [9, 10]}, {\"tok\": \".\", \"tag\": \".\", \"dep\": \"punct\", \"up\": 4, \"dn\": []}]}]}, \"reply-to\": \"L871\", \"timestamp\": null, \"vectors\": []}\\n'\n",
            "b'{\"id\": \"L871\", \"conversation_id\": \"L870\", \"text\": \"No\", \"speaker\": \"u2\", \"meta\": {\"movie_id\": \"m0\", \"parsed\": [{\"rt\": 0, \"toks\": [{\"tok\": \"No\", \"tag\": \"UH\", \"dep\": \"ROOT\", \"dn\": []}]}]}, \"reply-to\": \"L870\", \"timestamp\": null, \"vectors\": []}\\n'\n",
            "b'{\"id\": \"L870\", \"conversation_id\": \"L870\", \"text\": \"I\\'m kidding.  You know how sometimes you just become this \\\\\"persona\\\\\"?  And you don\\'t know how to quit?\", \"speaker\": \"u0\", \"meta\": {\"movie_id\": \"m0\", \"parsed\": [{\"rt\": 2, \"toks\": [{\"tok\": \"I\", \"tag\": \"PRP\", \"dep\": \"nsubj\", \"up\": 2, \"dn\": []}, {\"tok\": \"\\'m\", \"tag\": \"VBP\", \"dep\": \"aux\", \"up\": 2, \"dn\": []}, {\"tok\": \"kidding\", \"tag\": \"VBG\", \"dep\": \"ROOT\", \"dn\": [0, 1, 3]}, {\"tok\": \".\", \"tag\": \".\", \"dep\": \"punct\", \"up\": 2, \"dn\": [4]}, {\"tok\": \" \", \"tag\": \"_SP\", \"dep\": \"\", \"up\": 3, \"dn\": []}]}, {\"rt\": 1, \"toks\": [{\"tok\": \"You\", \"tag\": \"PRP\", \"dep\": \"nsubj\", \"up\": 1, \"dn\": []}, {\"tok\": \"know\", \"tag\": \"VBP\", \"dep\": \"ROOT\", \"dn\": [0, 6, 11]}, {\"tok\": \"how\", \"tag\": \"WRB\", \"dep\": \"advmod\", \"up\": 3, \"dn\": []}, {\"tok\": \"sometimes\", \"tag\": \"RB\", \"dep\": \"advmod\", \"up\": 6, \"dn\": [2]}, {\"tok\": \"you\", \"tag\": \"PRP\", \"dep\": \"nsubj\", \"up\": 6, \"dn\": []}, {\"tok\": \"just\", \"tag\": \"RB\", \"dep\": \"advmod\", \"up\": 6, \"dn\": []}, {\"tok\": \"become\", \"tag\": \"VBP\", \"dep\": \"ccomp\", \"up\": 1, \"dn\": [3, 4, 5, 9]}, {\"tok\": \"this\", \"tag\": \"DT\", \"dep\": \"det\", \"up\": 9, \"dn\": []}, {\"tok\": \"\\\\\"\", \"tag\": \"``\", \"dep\": \"punct\", \"up\": 9, \"dn\": []}, {\"tok\": \"persona\", \"tag\": \"NN\", \"dep\": \"attr\", \"up\": 6, \"dn\": [7, 8, 10]}, {\"tok\": \"\\\\\"\", \"tag\": \"\\'\\'\", \"dep\": \"punct\", \"up\": 9, \"dn\": []}, {\"tok\": \"?\", \"tag\": \".\", \"dep\": \"punct\", \"up\": 1, \"dn\": [12]}, {\"tok\": \" \", \"tag\": \"_SP\", \"dep\": \"\", \"up\": 11, \"dn\": []}]}, {\"rt\": 4, \"toks\": [{\"tok\": \"And\", \"tag\": \"CC\", \"dep\": \"cc\", \"up\": 4, \"dn\": []}, {\"tok\": \"you\", \"tag\": \"PRP\", \"dep\": \"nsubj\", \"up\": 4, \"dn\": []}, {\"tok\": \"do\", \"tag\": \"VBP\", \"dep\": \"aux\", \"up\": 4, \"dn\": []}, {\"tok\": \"n\\'t\", \"tag\": \"RB\", \"dep\": \"neg\", \"up\": 4, \"dn\": []}, {\"tok\": \"know\", \"tag\": \"VB\", \"dep\": \"ROOT\", \"dn\": [0, 1, 2, 3, 7, 8]}, {\"tok\": \"how\", \"tag\": \"WRB\", \"dep\": \"advmod\", \"up\": 7, \"dn\": []}, {\"tok\": \"to\", \"tag\": \"TO\", \"dep\": \"aux\", \"up\": 7, \"dn\": []}, {\"tok\": \"quit\", \"tag\": \"VB\", \"dep\": \"xcomp\", \"up\": 4, \"dn\": [5, 6]}, {\"tok\": \"?\", \"tag\": \".\", \"dep\": \"punct\", \"up\": 4, \"dn\": []}]}]}, \"reply-to\": null, \"timestamp\": null, \"vectors\": []}\\n'\n",
            "b'{\"id\": \"L869\", \"conversation_id\": \"L866\", \"text\": \"Like my fear of wearing pastels?\", \"speaker\": \"u0\", \"meta\": {\"movie_id\": \"m0\", \"parsed\": [{\"rt\": 0, \"toks\": [{\"tok\": \"Like\", \"tag\": \"IN\", \"dep\": \"ROOT\", \"dn\": [2, 6]}, {\"tok\": \"my\", \"tag\": \"PRP$\", \"dep\": \"poss\", \"up\": 2, \"dn\": []}, {\"tok\": \"fear\", \"tag\": \"NN\", \"dep\": \"pobj\", \"up\": 0, \"dn\": [1, 3]}, {\"tok\": \"of\", \"tag\": \"IN\", \"dep\": \"prep\", \"up\": 2, \"dn\": [4]}, {\"tok\": \"wearing\", \"tag\": \"VBG\", \"dep\": \"pcomp\", \"up\": 3, \"dn\": [5]}, {\"tok\": \"pastels\", \"tag\": \"NNS\", \"dep\": \"dobj\", \"up\": 4, \"dn\": []}, {\"tok\": \"?\", \"tag\": \".\", \"dep\": \"punct\", \"up\": 0, \"dn\": []}]}]}, \"reply-to\": \"L868\", \"timestamp\": null, \"vectors\": []}\\n'\n"
          ]
        }
      ]
    },
    {
      "cell_type": "markdown",
      "source": [
        "These functions are used for loading lines and conversations from a file, as well as extracting pairs of sentences from those conversations:"
      ],
      "metadata": {
        "id": "2VCzCB1vokd5"
      }
    },
    {
      "cell_type": "code",
      "source": [
        "# Function to load lines and conversations from a file\n",
        "def loadLinesAndConversations(fileName):\n",
        "    lines = {}  # Dictionary to store individual lines\n",
        "    conversations = {}  # Dictionary to store conversations\n",
        "    with open(fileName, 'r', encoding='iso-8859-1') as f:\n",
        "        for line in f:\n",
        "            lineJson = json.loads(line)  # Parse the JSON data from each line\n",
        "            # Extract fields for line object\n",
        "            lineObj = {}\n",
        "            lineObj[\"lineID\"] = lineJson[\"id\"]\n",
        "            lineObj[\"characterID\"] = lineJson[\"speaker\"]\n",
        "            lineObj[\"text\"] = lineJson[\"text\"]\n",
        "            lines[lineObj['lineID']] = lineObj  # Store the line object in the 'lines' dictionary\n",
        "\n",
        "            # Extract fields for conversation object\n",
        "            if lineJson[\"conversation_id\"] not in conversations:\n",
        "                convObj = {}\n",
        "                convObj[\"conversationID\"] = lineJson[\"conversation_id\"]\n",
        "                convObj[\"movieID\"] = lineJson[\"meta\"][\"movie_id\"]\n",
        "                convObj[\"lines\"] = [lineObj]\n",
        "            else:\n",
        "                convObj = conversations[lineJson[\"conversation_id\"]]\n",
        "                convObj[\"lines\"].insert(0, lineObj)\n",
        "            conversations[convObj[\"conversationID\"]] = convObj  # Store the conversation object in the 'conversations' dictionary\n",
        "\n",
        "    return lines, conversations\n",
        "\n",
        "\n",
        "# Function to extract pairs of sentences from conversations\n",
        "def extractSentencePairs(conversations):\n",
        "    qa_pairs = []  # List to store question-answer pairs\n",
        "    for conversation in conversations.values():\n",
        "        # Iterate over all the lines of the conversation\n",
        "        for i in range(len(conversation[\"lines\"]) - 1):  # We ignore the last line\n",
        "            inputLine = conversation[\"lines\"][i][\"text\"].strip()\n",
        "            targetLine = conversation[\"lines\"][i+1][\"text\"].strip()\n",
        "            # Filter out wrong samples (if one of the lists is empty)\n",
        "            if inputLine and targetLine:\n",
        "                qa_pairs.append([inputLine, targetLine])  # Add the pair to the list\n",
        "    return qa_pairs"
      ],
      "metadata": {
        "id": "mP_oLDOcok-P"
      },
      "execution_count": null,
      "outputs": []
    },
    {
      "cell_type": "markdown",
      "source": [
        "This code prepares and processes data from the \"utterances.jsonl\" file, formats it, and saves it to a new CSV file named \"formatted_movie_lines.txt.\""
      ],
      "metadata": {
        "id": "cABke4FCos6u"
      }
    },
    {
      "cell_type": "code",
      "source": [
        "# Define the path to the new file where formatted data will be saved\n",
        "datafile = os.path.join(corpus, \"formatted_movie_lines.txt\")\n",
        "\n",
        "# Define the delimiter used to separate values in the CSV file\n",
        "delimiter = '\\t'\n",
        "\n",
        "# Unescape the delimiter to handle escape sequences if necessary\n",
        "delimiter = str(codecs.decode(delimiter, \"unicode_escape\"))\n",
        "\n",
        "# Initialise dictionaries to store lines and conversations\n",
        "lines = {}  # Dictionary to store individual lines\n",
        "conversations = {}  # Dictionary to store conversations\n",
        "\n",
        "# Load lines and conversations from the \"utterances.jsonl\" file\n",
        "print(\"\\nProcessing corpus into lines and conversations...\")\n",
        "lines, conversations = loadLinesAndConversations(os.path.join(corpus, \"utterances.jsonl\"))\n",
        "\n",
        "# Write the newly formatted data to a CSV file\n",
        "print(\"\\nWriting newly formatted file...\")\n",
        "with open(datafile, 'w', encoding='utf-8') as outputfile:\n",
        "    writer = csv.writer(outputfile, delimiter=delimiter, lineterminator='\\n')\n",
        "    for pair in extractSentencePairs(conversations):\n",
        "        writer.writerow(pair)\n",
        "\n",
        "# Print a sample of lines from the newly created file\n",
        "print(\"\\nSample lines from file:\")\n",
        "printLines(datafile)"
      ],
      "metadata": {
        "id": "ZNu5xxD-otsZ",
        "colab": {
          "base_uri": "https://localhost:8080/"
        },
        "outputId": "81d5a71e-8c75-4acc-c9d4-2f26249cddc0"
      },
      "execution_count": null,
      "outputs": [
        {
          "output_type": "stream",
          "name": "stdout",
          "text": [
            "\n",
            "Processing corpus into lines and conversations...\n",
            "\n",
            "Writing newly formatted file...\n",
            "\n",
            "Sample lines from file:\n",
            "b'They do to!\\tThey do not!\\n'\n",
            "b'She okay?\\tI hope so.\\n'\n",
            "b\"Wow\\tLet's go.\\n\"\n",
            "b'\"I\\'m kidding.  You know how sometimes you just become this \"\"persona\"\"?  And you don\\'t know how to quit?\"\\tNo\\n'\n",
            "b\"No\\tOkay -- you're gonna need to learn how to lie.\\n\"\n",
            "b\"I figured you'd get to the good stuff eventually.\\tWhat good stuff?\\n\"\n",
            "b'What good stuff?\\t\"The \"\"real you\"\".\"\\n'\n",
            "b'\"The \"\"real you\"\".\"\\tLike my fear of wearing pastels?\\n'\n",
            "b'do you listen to this crap?\\tWhat crap?\\n'\n",
            "b\"What crap?\\tMe.  This endless ...blonde babble. I'm like, boring myself.\\n\"\n"
          ]
        }
      ]
    },
    {
      "cell_type": "markdown",
      "source": [
        "This code defines a 'Voc' class for managing a vocabulary, adding words and sentences to it, and trimming it by removing words with low counts:"
      ],
      "metadata": {
        "id": "2H9glH_zo2r0"
      }
    },
    {
      "cell_type": "code",
      "source": [
        "# Define default word tokens\n",
        "PAD_token = 0  # Used for padding short sentences\n",
        "SOS_token = 1  # Start-of-sentence token\n",
        "EOS_token = 2  # End-of-sentence token\n",
        "\n",
        "# Define a vocabulary class to manage word-to-index and index-to-word mappings\n",
        "class Voc:\n",
        "    def __init__(self, name):\n",
        "        self.name = name  # Name of the vocabulary\n",
        "        self.trimmed = False  # Flag to indicate if vocabulary has been trimmed\n",
        "        self.word2index = {}  # Dictionary mapping words to their index\n",
        "        self.word2count = {}  # Dictionary to store word counts\n",
        "        self.index2word = {PAD_token: \"PAD\", SOS_token: \"SOS\", EOS_token: \"EOS\"}  # Dictionary mapping indices to words with default tokens\n",
        "        self.num_words = 3  # Initialise the count of words with default tokens (PAD, SOS, EOS)\n",
        "\n",
        "    # Method to add a sentence to the vocabulary\n",
        "    def addSentence(self, sentence):\n",
        "        for word in sentence.split(' '):\n",
        "            self.addWord(word)\n",
        "\n",
        "    # Method to add a word to the vocabulary\n",
        "    def addWord(self, word):\n",
        "        if word not in self.word2index:\n",
        "            # If the word is not in the vocabulary, add it\n",
        "            self.word2index[word] = self.num_words\n",
        "            self.word2count[word] = 1\n",
        "            self.index2word[self.num_words] = word\n",
        "            self.num_words += 1\n",
        "        else:\n",
        "            # If the word is already in the vocabulary, increment its count\n",
        "            self.word2count[word] += 1\n",
        "\n",
        "    # Method to trim the vocabulary by removing words below a certain count threshold\n",
        "    def trim(self, min_count):\n",
        "        if self.trimmed:\n",
        "            return\n",
        "        self.trimmed = True\n",
        "\n",
        "        keep_words = []\n",
        "\n",
        "        for k, v in self.word2count.items():\n",
        "            if v >= min_count:\n",
        "                keep_words.append(k)\n",
        "\n",
        "        print('keep_words {} / {} = {:.4f}'.format(\n",
        "            len(keep_words), len(self.word2index), len(keep_words) / len(self.word2index)\n",
        "        ))\n",
        "\n",
        "        # Reinitialise dictionaries\n",
        "        self.word2index = {}\n",
        "        self.word2count = {}\n",
        "        self.index2word = {PAD_token: \"PAD\", SOS_token: \"SOS\", EOS_token: \"EOS\"}\n",
        "        self.num_words = 3  # Reset word count to include default tokens\n",
        "\n",
        "        for word in keep_words:\n",
        "            self.addWord(word)"
      ],
      "metadata": {
        "id": "s1wChGTTo1aG"
      },
      "execution_count": null,
      "outputs": []
    },
    {
      "cell_type": "markdown",
      "source": [
        "This code prepares training data by reading and normalising pairs of sentences, filtering them based on sentence length, and creating a vocabulary object ('Voc') to manage word-to-index mappings:"
      ],
      "metadata": {
        "id": "ebnsz-Qlo8Ks"
      }
    },
    {
      "cell_type": "code",
      "source": [
        "# Maximum sentence length to consider\n",
        "MAX_LENGTH = 20\n",
        "\n",
        "# Function to convert Unicode string to plain ASCII\n",
        "def unicodeToAscii(s):\n",
        "    return ''.join(\n",
        "        c for c in unicodedata.normalize('NFD', s)\n",
        "        if unicodedata.category(c) != 'Mn'\n",
        "    )\n",
        "\n",
        "# Function to normalise a string: lowercase, trim, and remove non-letter characters\n",
        "def normalizeString(s):\n",
        "    s = unicodeToAscii(s.lower().strip())  # Convert to lowercase and strip spaces\n",
        "    s = re.sub(r\"([.!?])\", r\" \\1\", s)  # Add spaces around punctuation\n",
        "    s = re.sub(r\"[^a-zA-Z.!?]+\", r\" \", s)  # Remove non-letter characters\n",
        "    s = re.sub(r\"\\s+\", r\" \", s).strip()  # Remove extra spaces and strip\n",
        "    return s\n",
        "\n",
        "# Function to read query/response pairs and return a 'Voc' object and pairs list\n",
        "def readVocs(datafile, corpus_name):\n",
        "    print(\"Reading lines...\")\n",
        "    # Read the file and split it into lines\n",
        "    lines = open(datafile, encoding='utf-8').read().strip().split('\\n')\n",
        "    # Split every line into pairs and normalize them\n",
        "    pairs = [[normalizeString(s) for s in l.split('\\t')] for l in lines]\n",
        "    # Create a 'Voc' object with the given 'corpus_name'\n",
        "    voc = Voc(corpus_name)\n",
        "    return voc, pairs\n",
        "\n",
        "# Function to filter pairs based on sentence length (under MAX_LENGTH)\n",
        "def filterPair(p):\n",
        "    # Input sequences need to preserve the last word for EOS token\n",
        "    return len(p[0].split(' ')) < MAX_LENGTH and len(p[1].split(' ')) < MAX_LENGTH\n",
        "\n",
        "# Function to filter pairs using the 'filterPair' condition\n",
        "def filterPairs(pairs):\n",
        "    return [pair for pair in pairs if filterPair(pair)]\n",
        "\n",
        "# Function to load and prepare training data, returning a populated 'Voc' object and pairs list\n",
        "def loadPrepareData(corpus, corpus_name, datafile, save_dir):\n",
        "    print(\"Start preparing training data ...\")\n",
        "    voc, pairs = readVocs(datafile, corpus_name)\n",
        "    print(\"Read {!s} sentence pairs\".format(len(pairs)))\n",
        "    pairs = filterPairs(pairs)\n",
        "    print(\"Trimmed to {!s} sentence pairs\".format(len(pairs)))\n",
        "    print(\"Counting words...\")\n",
        "    for pair in pairs:\n",
        "        voc.addSentence(pair[0])\n",
        "        voc.addSentence(pair[1])\n",
        "    print(\"Counted words:\", voc.num_words)\n",
        "    return voc, pairs\n",
        "\n",
        "# Define a save directory for the 'Voc' object and pairs list\n",
        "save_dir = os.path.join(\"data\", \"save\")\n",
        "\n",
        "# Load and prepare data using the functions defined above\n",
        "voc, pairs = loadPrepareData(corpus, corpus_name, datafile, save_dir)\n",
        "\n",
        "# Print some example pairs to validate the data\n",
        "print(\"\\npairs:\")\n",
        "for pair in pairs[:10]:\n",
        "    print(pair)"
      ],
      "metadata": {
        "id": "lm_DFK_ho8v2",
        "colab": {
          "base_uri": "https://localhost:8080/"
        },
        "outputId": "7f1b16c4-bae5-4b5d-e137-9901db3abc9b"
      },
      "execution_count": null,
      "outputs": [
        {
          "output_type": "stream",
          "name": "stdout",
          "text": [
            "Start preparing training data ...\n",
            "Reading lines...\n",
            "Read 221282 sentence pairs\n",
            "Trimmed to 145493 sentence pairs\n",
            "Counting words...\n",
            "Counted words: 33170\n",
            "\n",
            "pairs:\n",
            "['they do to !', 'they do not !']\n",
            "['she okay ?', 'i hope so .']\n",
            "['wow', 'let s go .']\n",
            "['no', 'okay you re gonna need to learn how to lie .']\n",
            "['i figured you d get to the good stuff eventually .', 'what good stuff ?']\n",
            "['what good stuff ?', 'the real you .']\n",
            "['the real you .', 'like my fear of wearing pastels ?']\n",
            "['do you listen to this crap ?', 'what crap ?']\n",
            "['what crap ?', 'me . this endless . . .blonde babble . i m like boring myself .']\n",
            "['me . this endless . . .blonde babble . i m like boring myself .', 'thank god ! if i had to hear one more story about your coiffure . . .']\n"
          ]
        }
      ]
    },
    {
      "cell_type": "markdown",
      "source": [
        "This code defines a function 'trimRareWords' to trim rare words from the vocabulary ('voc') and filter pairs that do not contain trimmed words in their input or output sentences:"
      ],
      "metadata": {
        "id": "IqabTZHgpAMo"
      }
    },
    {
      "cell_type": "code",
      "source": [
        "# Minimum word count threshold for trimming\n",
        "MIN_COUNT = 2\n",
        "\n",
        "# Function to trim rare words from the vocabulary and filter pairs\n",
        "def trimRareWords(voc, pairs, MIN_COUNT):\n",
        "    # Trim words used less than MIN_COUNT times from the vocabulary\n",
        "    voc.trim(MIN_COUNT)\n",
        "\n",
        "    # Initialise a list to keep pairs that do not contain trimmed words\n",
        "    keep_pairs = []\n",
        "\n",
        "    for pair in pairs:\n",
        "        input_sentence = pair[0]\n",
        "        output_sentence = pair[1]\n",
        "        keep_input = True\n",
        "        keep_output = True\n",
        "\n",
        "        # Check input sentence\n",
        "        for word in input_sentence.split(' '):\n",
        "            if word not in voc.word2index:\n",
        "                keep_input = False\n",
        "                break\n",
        "\n",
        "        # Check output sentence\n",
        "        for word in output_sentence.split(' '):\n",
        "            if word not in voc.word2index:\n",
        "                keep_output = False\n",
        "                break\n",
        "\n",
        "        # Only keep pairs that do not contain trimmed word(s) in their input or output sentence\n",
        "        if keep_input and keep_output:\n",
        "            keep_pairs.append(pair)\n",
        "\n",
        "    print(\"Trimmed from {} pairs to {}, {:.4f} of total\".format(len(pairs), len(keep_pairs), len(keep_pairs) / len(pairs)))\n",
        "    return keep_pairs\n",
        "\n",
        "# Trim rare words from the vocabulary and filter pairs\n",
        "pairs = trimRareWords(voc, pairs, MIN_COUNT)"
      ],
      "metadata": {
        "id": "omkWF_RypA40",
        "colab": {
          "base_uri": "https://localhost:8080/"
        },
        "outputId": "5bbbfdd5-afc7-4f42-bbeb-4f683923d980"
      },
      "execution_count": null,
      "outputs": [
        {
          "output_type": "stream",
          "name": "stdout",
          "text": [
            "keep_words 23828 / 33167 = 0.7184\n",
            "Trimmed from 145493 pairs to 137486, 0.9450 of total\n"
          ]
        }
      ]
    },
    {
      "cell_type": "markdown",
      "source": [
        "These functions prepare the input and output tensors for training data, including padding and creating binary masks:"
      ],
      "metadata": {
        "id": "6aQxVxt2pCo8"
      }
    },
    {
      "cell_type": "code",
      "source": [
        "# Function to convert a sentence to a list of indexes using the vocabulary\n",
        "def indexesFromSentence(voc, sentence):\n",
        "    return [voc.word2index[word] for word in sentence.split(' ')] + [EOS_token]\n",
        "\n",
        "# Function to pad sequences with zeros to create a rectangular matrix\n",
        "def zeroPadding(l, fillvalue=PAD_token):\n",
        "    return list(itertools.zip_longest(*l, fillvalue=fillvalue))\n",
        "\n",
        "# Function to create a binary matrix indicating the presence of padding tokens\n",
        "def binaryMatrix(l, value=PAD_token):\n",
        "    m = []\n",
        "    for i, seq in enumerate(l):\n",
        "        m.append([])\n",
        "        for token in seq:\n",
        "            if token == PAD_token:\n",
        "                m[i].append(0)\n",
        "            else:\n",
        "                m[i].append(1)\n",
        "    return m\n",
        "\n",
        "# Function to prepare input sequence tensor and lengths\n",
        "def inputVar(l, voc):\n",
        "    indexes_batch = [indexesFromSentence(voc, sentence) for sentence in l]\n",
        "    lengths = torch.tensor([len(indexes) for indexes in indexes_batch])\n",
        "    padList = zeroPadding(indexes_batch)\n",
        "    padVar = torch.LongTensor(padList)\n",
        "    return padVar, lengths\n",
        "\n",
        "# Function to prepare target sequence tensor, padding mask, and max target length\n",
        "def outputVar(l, voc):\n",
        "    indexes_batch = [indexesFromSentence(voc, sentence) for sentence in l]\n",
        "    max_target_len = max([len(indexes) for indexes in indexes_batch])\n",
        "    padList = zeroPadding(indexes_batch)\n",
        "    mask = binaryMatrix(padList)\n",
        "    mask = torch.BoolTensor(mask)\n",
        "    padVar = torch.LongTensor(padList)\n",
        "    return padVar, mask, max_target_len\n",
        "\n",
        "# Function to prepare all items for a given batch of pairs\n",
        "def batch2TrainData(voc, pair_batch):\n",
        "    # Sort the pair batch by the length of the input sequences (for efficient padding)\n",
        "    pair_batch.sort(key=lambda x: len(x[0].split(\" \")), reverse=True)\n",
        "    input_batch, output_batch = [], []\n",
        "    for pair in pair_batch:\n",
        "        input_batch.append(pair[0])\n",
        "        output_batch.append(pair[1])\n",
        "    inp, lengths = inputVar(input_batch, voc)\n",
        "    output, mask, max_target_len = outputVar(output_batch, voc)\n",
        "    return inp, lengths, output, mask, max_target_len\n",
        "\n",
        "# Example code for validation\n",
        "small_batch_size = 5\n",
        "# Create batches of training data with random pairs\n",
        "batches = batch2TrainData(voc, [random.choice(pairs) for _ in range(small_batch_size)])\n",
        "input_variable, lengths, target_variable, mask, max_target_len = batches\n",
        "\n",
        "# Print the prepared data for validation\n",
        "print(\"input_variable:\", input_variable)\n",
        "print(\"lengths:\", lengths)\n",
        "print(\"target_variable:\", target_variable)\n",
        "print(\"mask:\", mask)\n",
        "print(\"max_target_len:\", max_target_len)"
      ],
      "metadata": {
        "id": "6j9t3QvhpFBc",
        "colab": {
          "base_uri": "https://localhost:8080/"
        },
        "outputId": "26089df6-46f2-4127-d3ba-42a917cf5796"
      },
      "execution_count": null,
      "outputs": [
        {
          "output_type": "stream",
          "name": "stdout",
          "text": [
            "input_variable: tensor([[ 1666,   195,    11, 23089, 16223],\n",
            "        [  132,    17,    93,  1015,    14],\n",
            "        [ 8913,   197,    19,   239,     2],\n",
            "        [   10,     6,  1589,    14,     0],\n",
            "        [  174,    11,    14,     2,     0],\n",
            "        [  187,   743,     2,     0,     0],\n",
            "        [  113,   122,     0,     0,     0],\n",
            "        [  332,     6,     0,     0,     0],\n",
            "        [  963,    72,     0,     0,     0],\n",
            "        [   58,   233,     0,     0,     0],\n",
            "        [   39,   130,     0,     0,     0],\n",
            "        [  584,   197,     0,     0,     0],\n",
            "        [ 5510,     6,     0,     0,     0],\n",
            "        [   14,     2,     0,     0,     0],\n",
            "        [    2,     0,     0,     0,     0]])\n",
            "lengths: tensor([15, 14,  6,  5,  3])\n",
            "target_variable: tensor([[   11,    30,    20, 13904,   428],\n",
            "        [  154,  3248,   215,  4924,  9844],\n",
            "        [  960,     6,   110,    14,    10],\n",
            "        [   14,    10,    19,     2,     2],\n",
            "        [   14,   259,  1589,     0,     0],\n",
            "        [   14,    20,    10,     0,     0],\n",
            "        [    2,   109,    11,     0,     0],\n",
            "        [    0,     6,   228,     0,     0],\n",
            "        [    0,    10,   265,     0,     0],\n",
            "        [    0,     2,    20,     0,     0],\n",
            "        [    0,     0,    34,     0,     0],\n",
            "        [    0,     0,   877,     0,     0],\n",
            "        [    0,     0,    14,     0,     0],\n",
            "        [    0,     0,   195,     0,     0],\n",
            "        [    0,     0,  2179,     0,     0],\n",
            "        [    0,     0,   184,     0,     0],\n",
            "        [    0,     0, 22965,     0,     0],\n",
            "        [    0,     0,    14,     0,     0],\n",
            "        [    0,     0,     2,     0,     0]])\n",
            "mask: tensor([[ True,  True,  True,  True,  True],\n",
            "        [ True,  True,  True,  True,  True],\n",
            "        [ True,  True,  True,  True,  True],\n",
            "        [ True,  True,  True,  True,  True],\n",
            "        [ True,  True,  True, False, False],\n",
            "        [ True,  True,  True, False, False],\n",
            "        [ True,  True,  True, False, False],\n",
            "        [False,  True,  True, False, False],\n",
            "        [False,  True,  True, False, False],\n",
            "        [False,  True,  True, False, False],\n",
            "        [False, False,  True, False, False],\n",
            "        [False, False,  True, False, False],\n",
            "        [False, False,  True, False, False],\n",
            "        [False, False,  True, False, False],\n",
            "        [False, False,  True, False, False],\n",
            "        [False, False,  True, False, False],\n",
            "        [False, False,  True, False, False],\n",
            "        [False, False,  True, False, False],\n",
            "        [False, False,  True, False, False]])\n",
            "max_target_len: 19\n"
          ]
        }
      ]
    },
    {
      "cell_type": "markdown",
      "source": [
        "Classification and Testing:"
      ],
      "metadata": {
        "id": "0TJLiZsTf_ps"
      }
    },
    {
      "cell_type": "code",
      "source": [
        "# Import necessary libraries for metrics and plotting\n",
        "from sklearn.metrics import confusion_matrix\n",
        "import seaborn as sns\n",
        "import matplotlib.pyplot as plt\n",
        "\n",
        "# Define sample test data as a list of tuples (input text, expected category)\n",
        "test_data = [\n",
        "    (\"Hello, how are you?\", \"Greeting\"),\n",
        "    (\"What time is it?\", \"Informational\"),\n",
        "    (\"Goodbye and take care!\", \"Farewell\"),\n",
        "    (\"I am happy\", \"Informational\"),\n",
        "    (\"Who are you?\", \"Clarification\")\n",
        "]\n",
        "\n",
        "# Define the categories for classification\n",
        "categories = ['Greeting', 'Farewell', 'Informational', 'Clarification', 'Other']\n",
        "\n",
        "# Function to generate chatbot response based on input text\n",
        "def chatbot_response(input_text):\n",
        "    # Placeholder logic for chatbot responses\n",
        "    if \"hello\" in input_text.lower():\n",
        "        return \"Hello there!\"\n",
        "    elif \"time\" in input_text.lower():\n",
        "        return \"It's 10 AM.\"\n",
        "    elif \"goodbye\" in input_text.lower():\n",
        "        return \"Farewell!\"\n",
        "    else:\n",
        "        return \"I am not sure how to respond to that.\"\n",
        "\n",
        "# Function to classify responses into predefined categories\n",
        "def classify_response(response):\n",
        "    # Basic classification based on keywords\n",
        "    if any(word in response.lower() for word in [\"hello\", \"hi\"]):\n",
        "        return \"Greeting\"\n",
        "    elif any(word in response.lower() for word in [\"bye\", \"farewell\", \"goodbye\"]):\n",
        "        return \"Farewell\"\n",
        "    elif any(word in response.lower() for word in [\"time\", \"when\"]):\n",
        "        return \"Informational\"\n",
        "    else:\n",
        "        return \"Other\"\n",
        "\n",
        "# Lists to store expected and predicted response categories\n",
        "expected = []\n",
        "predicted = []\n",
        "\n",
        "# Loop over test data to evaluate chatbot responses\n",
        "for input_text, expected_response in test_data:\n",
        "    # Get actual response from chatbot and classify both expected and actual responses\n",
        "    actual_response = chatbot_response(input_text)\n",
        "    expected.append(classify_response(expected_response))\n",
        "    predicted.append(classify_response(actual_response))\n",
        "\n",
        "# Generate and plot confusion matrix\n",
        "conf_matrix = confusion_matrix(expected, predicted, labels=categories)\n",
        "sns.heatmap(conf_matrix, annot=True, fmt='d', xticklabels=categories, yticklabels=categories)\n",
        "plt.ylabel('Actual')\n",
        "plt.xlabel('Predicted')\n",
        "plt.show()"
      ],
      "metadata": {
        "id": "6ZNLcpevgDIk",
        "colab": {
          "base_uri": "https://localhost:8080/",
          "height": 534
        },
        "outputId": "0132bb8e-ca43-46e4-ace1-6949d117a2af"
      },
      "execution_count": null,
      "outputs": [
        {
          "output_type": "display_data",
          "data": {
            "text/plain": [
              "<Figure size 640x480 with 2 Axes>"
            ],
            "image/png": "[encoded data removed]"
          },
          "metadata": {}
        }
      ]
    },
    {
      "cell_type": "markdown",
      "source": [
        "GCNN:\n",
        "x = F.relu(self.conv1(x)):\n",
        "\n",
        "Applies the first convolutional layer (conv1) to the input x.\n",
        "The relu (Rectified Linear Unit) activation function is then applied to the output of conv1.\n",
        "x = torch.bmm(adj, x):\n",
        "\n",
        "Performs a batch matrix-matrix product of the adjacency matrix adj and the result from the first convolution.\n",
        "This step integrates the graph structure into the network by using the adjacency matrix.\n",
        "x = self.conv2(x):\n",
        "\n",
        "Applies the second convolutional layer (conv2) to the result of the matrix multiplication.\n",
        "return F.relu(x):\n",
        "\n",
        "Finally, applies the relu activation function to the output of the second convolutional layer and returns this result."
      ],
      "metadata": {
        "id": "t3M0Vj-SGCE8"
      }
    },
    {
      "cell_type": "code",
      "source": [
        "import torch\n",
        "import torch.nn as nn\n",
        "import torch.nn.functional as F\n",
        "import networkx as nx\n",
        "import matplotlib.pyplot as plt\n",
        "\n",
        "class GCNN(nn.Module):\n",
        "    def __init__(self, in_channels, out_channels):\n",
        "        super(GCNN, self).__init__()\n",
        "        self.conv1 = nn.Conv1d(in_channels, out_channels, kernel_size=1)\n",
        "        self.conv2 = nn.Conv1d(out_channels, out_channels, kernel_size=1)\n",
        "\n",
        "    def forward(self, x, adj):\n",
        "        x = F.relu(self.conv1(x))  # Apply the first convolution\n",
        "        x = torch.bmm(adj, x.transpose(1, 2)).transpose(1, 2)  # Fix the batch matrix multiplication\n",
        "        x = self.conv2(x)  # Apply the second convolution\n",
        "        return F.relu(x)\n",
        "\n",
        "# Function to create a graph from an adjacency matrix\n",
        "def create_graph_from_adjacency_matrix(adj_matrix):\n",
        "    G = nx.Graph()\n",
        "    for i in range(len(adj_matrix)):\n",
        "        for j in range(len(adj_matrix)):\n",
        "            if adj_matrix[i, j] == 1:\n",
        "                G.add_edge(i, j)\n",
        "    return G\n",
        "\n",
        "# Function to draw a tree from a graph\n",
        "def draw_tree(G, root_node):\n",
        "    tree = nx.bfs_tree(G, source=root_node)\n",
        "    nx.draw(tree, with_labels=True, node_color='lightblue', node_size=500, font_size=10)\n",
        "    plt.show()\n",
        "\n",
        "# Example values for in_channels and out_channels\n",
        "in_channels = 128\n",
        "out_channels = 64\n",
        "\n",
        "# Sample input data and adjacency matrix\n",
        "input_data = torch.randn(1, in_channels, 10)  # Shape should be [batch_size=1, channels=128, sequence_length=10]\n",
        "adj_matrix = torch.ones(10, 10)  # Shape should be [sequence_length=10, sequence_length=10]\n",
        "\n",
        "# Add batch dimension to adj_matrix\n",
        "adj_matrix = adj_matrix.unsqueeze(0)  # Shape should be [batch_size=1, sequence_length=10, sequence_length=10]\n",
        "\n",
        "gcnn = GCNN(in_channels=in_channels, out_channels=out_channels)\n",
        "gcnn_output = gcnn(input_data, adj_matrix)\n",
        "\n",
        "# Create and visualize the graph\n",
        "G = create_graph_from_adjacency_matrix(adj_matrix.squeeze())  # Remove the batch dimension for visualisation\n",
        "draw_tree(G, root_node=0)  # Specify the root node for the tree"
      ],
      "metadata": {
        "id": "YWs0DJMqn5Ja",
        "colab": {
          "base_uri": "https://localhost:8080/",
          "height": 516
        },
        "outputId": "b2c75e97-0825-44c1-c1ce-c54cbc008c88"
      },
      "execution_count": null,
      "outputs": [
        {
          "output_type": "display_data",
          "data": {
            "text/plain": [
              "<Figure size 640x480 with 1 Axes>"
            ],
            "image/png": "[encoded data removed]"
          },
          "metadata": {}
        }
      ]
    },
    {
      "cell_type": "markdown",
      "source": [
        "### Encoder ###\n",
        "This EncoderRNN class is a part of a sequence-to-sequence (seq2seq) model. It takes input sequences, processes them through a bidirectional GRU (Gated Recurrent Unit), and returns the outputs and the final hidden state:"
      ],
      "metadata": {
        "id": "DRs-6xxTpIY3"
      }
    },
    {
      "cell_type": "code",
      "source": [
        "import torch\n",
        "import torch.nn as nn\n",
        "from torch.nn.utils import rnn as rnn_utils\n",
        "\n",
        "class EncoderRNN(nn.Module):\n",
        "    def __init__(self, hidden_size, embedding, gcnn_output_size, n_layers=1, dropout=0):\n",
        "        super(EncoderRNN, self).__init__()\n",
        "        self.n_layers = n_layers\n",
        "        self.hidden_size = hidden_size\n",
        "        self.embedding = embedding\n",
        "        self.gcnn_output_size = gcnn_output_size\n",
        "\n",
        "        # Adjusting input size for GRU considering concatenated input\n",
        "        combined_input_size = hidden_size + gcnn_output_size\n",
        "        self.gru = nn.GRU(combined_input_size, hidden_size, n_layers,\n",
        "                          dropout=(0 if n_layers == 1 else dropout), bidirectional=True)\n",
        "\n",
        "    def forward(self, input_seq, input_lengths, gcnn_output, hidden=None):\n",
        "        # Convert word indexes to embeddings\n",
        "        embedded = self.embedding(input_seq)\n",
        "\n",
        "        print(\"embedded shape:\", embedded.shape)\n",
        "\n",
        "        # Validate dimensions: embedded and gcnn_output should have the same batch size and sequence length\n",
        "        assert embedded.shape[0] == gcnn_output.shape[0], \"Batch sizes of embedded and GCNN output do not match\"\n",
        "        assert embedded.shape[1] == gcnn_output.shape[1], \"Sequence lengths of embedded and GCNN output do not match\"\n",
        "\n",
        "        # Concatenate embedding and GCNN output along the feature dimension\n",
        "        combined_input = torch.cat((embedded, gcnn_output), dim=2)\n",
        "\n",
        "        # Pack padded batch of sequences for RNN module\n",
        "        packed = rnn_utils.pack_padded_sequence(combined_input, input_lengths, enforce_sorted=False, batch_first=True)\n",
        "\n",
        "        # Forward pass through GRU\n",
        "        outputs, hidden = self.gru(packed, hidden)\n",
        "\n",
        "        # Unpack padding\n",
        "        outputs, _ = rnn_utils.pad_packed_sequence(outputs, batch_first=True)\n",
        "\n",
        "        # Sum bidirectional GRU outputs\n",
        "        outputs = outputs[:, :, :self.hidden_size] + outputs[:, :, self.hidden_size:]\n",
        "\n",
        "        # Return output, final hidden state, and encoder_outputs\n",
        "        encoder_outputs = outputs\n",
        "        return outputs, hidden, encoder_outputs"
      ],
      "metadata": {
        "id": "xxAuaQ_4pLU1"
      },
      "execution_count": null,
      "outputs": []
    },
    {
      "cell_type": "code",
      "source": [
        "import spacy\n",
        "\n",
        "# Load the spaCy English tokenizer\n",
        "nlp = spacy.load(\"en_core_web_sm\")\n",
        "\n",
        "# Tokenize your input text\n",
        "input_text = \"This is a sample sentence.\"\n",
        "tokens = [token.text for token in nlp(input_text)]\n",
        "\n",
        "# Define your vocabulary (a dictionary that maps tokens to indices)\n",
        "vocab = {\"<PAD>\": 0, \"<UNK>\": 1, \"This\": 2, \"is\": 3, \"a\": 4, \"sample\": 5, \"sentence\": 6}\n",
        "\n",
        "# Convert tokens to indices, replacing out-of-vocabulary tokens with \"<UNK>\"\n",
        "input_indices = [vocab.get(token, vocab[\"<UNK>\"]) for token in tokens]\n",
        "\n",
        "max_seq_length = 20  # Define the maximum sequence length you want\n",
        "input_lengths = len(input_indices)\n",
        "\n",
        "# Pad input_indices to max_seq_length if necessary\n",
        "if len(input_indices) < max_seq_length:\n",
        "    input_indices += [vocab[\"<PAD>\"]] * (max_seq_length - len(input_indices))\n",
        "else:\n",
        "    input_indices = input_indices[:max_seq_length]"
      ],
      "metadata": {
        "id": "-9VGcmjKev0x"
      },
      "execution_count": null,
      "outputs": []
    },
    {
      "cell_type": "markdown",
      "source": [
        "### Decoder\n",
        "\n",
        "This Attn class is used for implementing different attention mechanisms (dot, general, concat) in a sequence-to-sequence (seq2seq) model. It calculates attention scores based on the chosen method and returns softmax-normalized probability scores:\n",
        "\n"
      ],
      "metadata": {
        "id": "YqRPMbzgps9W"
      }
    },
    {
      "cell_type": "code",
      "source": [
        "class Attn(nn.Module):\n",
        "    def __init__(self, method, hidden_size):\n",
        "        super(Attn, self).__init__()\n",
        "        self.method = method\n",
        "        if self.method not in ['dot', 'general', 'concat']:\n",
        "            raise ValueError(self.method, \"is not an appropriate attention method.\")\n",
        "        self.hidden_size = hidden_size\n",
        "        if self.method == 'general':\n",
        "            # Linear layer for general attention\n",
        "            self.attn = nn.Linear(self.hidden_size, hidden_size)\n",
        "        elif self.method == 'concat':\n",
        "            # Linear layers for concat attention\n",
        "            self.attn = nn.Linear(self.hidden_size * 2, hidden_size)\n",
        "            self.v = nn.Parameter(torch.FloatTensor(hidden_size))\n",
        "\n",
        "    def dot_score(self, hidden, encoder_output):\n",
        "        # Calculate dot product attention scores\n",
        "        return torch.sum(hidden * encoder_output, dim=2)\n",
        "\n",
        "    def general_score(self, hidden, encoder_output):\n",
        "        # Calculate general attention scores\n",
        "        energy = self.attn(encoder_output)\n",
        "        return torch.sum(hidden * energy, dim=2)\n",
        "\n",
        "    def concat_score(self, hidden, encoder_output):\n",
        "        # Calculate concat attention scores\n",
        "        energy = self.attn(torch.cat((hidden.expand(encoder_output.size(0), -1, -1), encoder_output), 2)).tanh()\n",
        "        return torch.sum(self.v * energy, dim=2)\n",
        "\n",
        "    def forward(self, hidden, encoder_outputs):\n",
        "        # Calculate the attention weights (energies) based on the given method\n",
        "        if self.method == 'general':\n",
        "            attn_energies = self.general_score(hidden, encoder_outputs)\n",
        "        elif self.method == 'concat':\n",
        "            attn_energies = self.concat_score(hidden, encoder_outputs)\n",
        "        elif self.method == 'dot':\n",
        "            attn_energies = self.dot_score(hidden, encoder_outputs)\n",
        "\n",
        "        # Transpose max_length and batch_size dimensions\n",
        "        attn_energies = attn_energies.t()\n",
        "\n",
        "        # Return the softmax normalized probability scores (with added dimension)\n",
        "        return F.softmax(attn_energies, dim=1).unsqueeze(1)"
      ],
      "metadata": {
        "id": "U6mKZK36pvIO"
      },
      "execution_count": null,
      "outputs": []
    },
    {
      "cell_type": "markdown",
      "source": [
        "This 'LuongAttnDecoderRNN' class is a part of a sequence-to-sequence (seq2seq) model with Luong attention. It takes an input step (word), processes it through a GRU, calculates attention scores, and produces an output."
      ],
      "metadata": {
        "id": "rCROwLVUpx29"
      }
    },
    {
      "cell_type": "code",
      "source": [
        "class LuongAttnDecoderRNN(nn.Module):\n",
        "    def __init__(self, attn_model, embedding, hidden_size, output_size, n_layers=1, dropout=0.1):\n",
        "        super(LuongAttnDecoderRNN, self).__init__()\n",
        "\n",
        "        # Keep for reference\n",
        "        self.attn_model = attn_model\n",
        "        self.hidden_size = hidden_size\n",
        "        self.output_size = output_size\n",
        "        self.n_layers = n_layers\n",
        "        self.dropout = dropout\n",
        "\n",
        "        # Define layers\n",
        "        self.embedding = embedding\n",
        "        self.embedding_dropout = nn.Dropout(dropout)\n",
        "        self.gru = nn.GRU(hidden_size, hidden_size, n_layers, dropout=(0 if n_layers == 1 else dropout))\n",
        "        self.concat = nn.Linear(hidden_size * 2, hidden_size)\n",
        "        self.out = nn.Linear(hidden_size, output_size)\n",
        "\n",
        "        self.attn = Attn(attn_model, hidden_size)\n",
        "\n",
        "    def forward(self, input_step, last_hidden, encoder_outputs):\n",
        "        # Note: we run this one step (word) at a time\n",
        "\n",
        "        # Get embedding of current input word\n",
        "        embedded = self.embedding(input_step)\n",
        "        embedded = self.embedding_dropout(embedded)\n",
        "\n",
        "        # Forward through unidirectional GRU\n",
        "        rnn_output, hidden = self.gru(embedded, last_hidden)\n",
        "\n",
        "        # Calculate attention weights from the current GRU output\n",
        "        attn_weights = self.attn(rnn_output, encoder_outputs)\n",
        "\n",
        "        # Multiply attention weights to encoder outputs to get new \"weighted sum\" context vector\n",
        "        context = attn_weights.bmm(encoder_outputs.transpose(0, 1))\n",
        "\n",
        "        # Concatenate weighted context vector and GRU output using Luong eq. 5\n",
        "        rnn_output = rnn_output.squeeze(0)\n",
        "        context = context.squeeze(1)\n",
        "        concat_input = torch.cat((rnn_output, context), 1)\n",
        "        concat_output = torch.tanh(self.concat(concat_input))\n",
        "\n",
        "        # Predict next word using Luong eq. 6\n",
        "        output = self.out(concat_output)\n",
        "        output = F.softmax(output, dim=1)\n",
        "\n",
        "        # Return output and final hidden state\n",
        "        return output, hidden"
      ],
      "metadata": {
        "id": "RIdknsRxpzCW"
      },
      "execution_count": null,
      "outputs": []
    },
    {
      "cell_type": "markdown",
      "source": [
        "Create Adjacency Matrix:"
      ],
      "metadata": {
        "id": "hmzynr77NODR"
      }
    },
    {
      "cell_type": "code",
      "source": [
        "def create_adjacency_matrix(sequence_length):\n",
        "    # Initialise an adjacency matrix with zeros\n",
        "    adj_matrix = torch.zeros(sequence_length, sequence_length)\n",
        "\n",
        "    # Connect each word to its immediate predecessor and successor\n",
        "    for i in range(sequence_length):\n",
        "        if i > 0:\n",
        "            adj_matrix[i, i - 1] = 1  # Connection to previous word\n",
        "        if i < sequence_length - 1:\n",
        "            adj_matrix[i, i + 1] = 1  # Connection to next word\n",
        "\n",
        "    return adj_matrix\n",
        "\n",
        "# Example for a batch\n",
        "batch_size = 5\n",
        "max_seq_length = 10  # Assuming all sequences are padded to a fixed length\n",
        "batch_adj_matrices = [create_adjacency_matrix(max_seq_length) for _ in range(batch_size)]"
      ],
      "metadata": {
        "id": "pLbLIE-pNWjq"
      },
      "execution_count": null,
      "outputs": []
    },
    {
      "cell_type": "markdown",
      "source": [
        "## Define Training Procedure\n",
        "\n",
        "### Masked loss\n",
        "\n",
        "This function is used to calculate the negative log-likelihood loss for a sequence of inputs and target indices while handling padding elements using a binary mask.\n",
        "\n",
        "\n"
      ],
      "metadata": {
        "id": "fiEdfkX_p1U-"
      }
    },
    {
      "cell_type": "code",
      "source": [
        "def maskNLLLoss(inp, target, mask):\n",
        "    # Calculate the negative log-likelihood loss for a sequence of inputs ('inp') and target indices ('target')\n",
        "    # masked by a binary mask ('mask') to handle padding.\n",
        "\n",
        "    # Calculate the total number of elements (tokens) in the batch\n",
        "    nTotal = mask.sum()\n",
        "\n",
        "    # Use the 'gather' function to select the predicted probabilities corresponding to the target indices\n",
        "    # and calculate the cross-entropy loss\n",
        "    crossEntropy = -torch.log(torch.gather(inp, 1, target.view(-1, 1)).squeeze(1))\n",
        "\n",
        "    # Mask the loss using the provided binary mask to ignore padding elements\n",
        "    loss = crossEntropy.masked_select(mask).mean()\n",
        "\n",
        "    # Ensure the loss is on the same device as the input\n",
        "    loss = loss.to(device)\n",
        "\n",
        "    # Return the masked loss and the total number of non-padding elements in the batch\n",
        "    return loss, nTotal.item()"
      ],
      "metadata": {
        "id": "Rkjki7iXp1yG"
      },
      "execution_count": null,
      "outputs": []
    },
    {
      "cell_type": "markdown",
      "source": [
        "### Single training iteration\n",
        "\n",
        "This train function is used to train a sequence-to-sequence model with teacher forcing. It performs a forward pass through the encoder and decoder, calculates the loss, and performs backpropagation to update the model weights:\n",
        "\n",
        "\n"
      ],
      "metadata": {
        "id": "OZ4LpR45p4ZG"
      }
    },
    {
      "cell_type": "code",
      "source": [
        "def train(input_variable, lengths, target_variable, mask, max_target_len, encoder, decoder, embedding,\n",
        "          encoder_optimizer, decoder_optimizer, gcnn, gcnn_optimizer, adj_matrix,\n",
        "          batch_size, clip, max_length=MAX_LENGTH):\n",
        "\n",
        "    # Zero gradients\n",
        "    encoder_optimizer.zero_grad()\n",
        "    decoder_optimizer.zero_grad()\n",
        "    gcnn_optimizer.zero_grad()\n",
        "\n",
        "    # Set device options\n",
        "    input_variable = input_variable.to(device)\n",
        "    target_variable = target_variable.to(device)\n",
        "    mask = mask.to(device)\n",
        "    # Lengths for RNN packing should always be on the CPU\n",
        "    lengths = lengths.to(\"cpu\")\n",
        "\n",
        "    # Preprocess input data through GCNN\n",
        "    gcnn_output = gcnn(input_variable, adj_matrix)\n",
        "    gcnn_output = gcnn_output.to(device)\n",
        "\n",
        "    # Initialise variables\n",
        "    loss = 0\n",
        "    print_losses = []\n",
        "    n_totals = 0\n",
        "\n",
        "    # Forward pass through encoder\n",
        "    # Assuming you're modifying the encoder to take GCNN output as an additional input\n",
        "    encoder_outputs, encoder_hidden = encoder(input_variable, lengths, gcnn_output)\n",
        "\n",
        "    # Create initial decoder input (start with SOS tokens for each sentence)\n",
        "    decoder_input = torch.LongTensor([[SOS_token for _ in range(batch_size)]])\n",
        "    decoder_input = decoder_input.to(device)\n",
        "\n",
        "    # Set initial decoder hidden state to the encoder's final hidden state\n",
        "    decoder_hidden = encoder_hidden[:decoder.n_layers]\n",
        "\n",
        "    # Determine if we are using teacher forcing this iteration\n",
        "    use_teacher_forcing = True if random.random() < teacher_forcing_ratio else False\n",
        "\n",
        "    # Forward batch of sequences through decoder one time step at a time\n",
        "    if use_teacher_forcing:\n",
        "        for t in range(max_target_len):\n",
        "            decoder_output, decoder_hidden = decoder(\n",
        "                decoder_input, decoder_hidden, encoder_outputs\n",
        "            )\n",
        "            # Teacher forcing: next input is current target\n",
        "            decoder_input = target_variable[t].view(1, -1)\n",
        "            # Calculate and accumulate loss\n",
        "            mask_loss, nTotal = maskNLLLoss(decoder_output, target_variable[t], mask[t])\n",
        "            loss += mask_loss\n",
        "            print_losses.append(mask_loss.item() * nTotal)\n",
        "            n_totals += nTotal\n",
        "    else:\n",
        "        for t in range(max_target_len):\n",
        "            decoder_output, decoder_hidden = decoder(\n",
        "                decoder_input, decoder_hidden, encoder_outputs\n",
        "            )\n",
        "            # No teacher forcing: next input is decoder's own current output\n",
        "            _, topi = decoder_output.topk(1)\n",
        "            decoder_input = torch.LongTensor([[topi[i][0] for i in range(batch_size)]])\n",
        "            decoder_input = decoder_input.to(device)\n",
        "            # Calculate and accumulate loss\n",
        "            mask_loss, nTotal = maskNLLLoss(decoder_output, target_variable[t], mask[t])\n",
        "            loss += mask_loss\n",
        "            print_losses.append(mask_loss.item() * nTotal)\n",
        "            n_totals += nTotal\n",
        "\n",
        "    # Perform backpropagation\n",
        "    loss.backward()\n",
        "\n",
        "    # Clip gradients: gradients are modified in place\n",
        "    _ = nn.utils.clip_grad_norm_(encoder.parameters(), clip)\n",
        "    _ = nn.utils.clip_grad_norm_(decoder.parameters(), clip)\n",
        "    _ = nn.utils.clip_grad_norm_(gcnn.parameters(), clip)  # Clip gradients for GCNN\n",
        "\n",
        "    # Adjust model weights\n",
        "    encoder_optimizer.step()\n",
        "    decoder_optimizer.step()\n",
        "    gcnn_optimizer.step()  # Update GCNN weights\n",
        "\n",
        "    return sum(print_losses) / n_totals"
      ],
      "metadata": {
        "id": "Sm-CJLF0p4_f"
      },
      "execution_count": null,
      "outputs": []
    },
    {
      "cell_type": "markdown",
      "source": [
        "### Training iterations\n",
        "\n",
        "This trainIters function is used to train a sequence-to-sequence model for a specified number of iterations. It loads batches of training data, runs training iterations, and saves checkpoints at specified intervals:\n",
        "\n"
      ],
      "metadata": {
        "id": "-_vT50hxp8Yc"
      }
    },
    {
      "cell_type": "code",
      "source": [
        "def trainIters(model_name, voc, pairs, encoder, decoder, encoder_optimizer, decoder_optimizer, gcnn, gcnn_optimizer, embedding, encoder_n_layers, decoder_n_layers, save_dir, n_iteration, batch_size, print_every, save_every, clip, corpus_name, loadFilename):\n",
        "\n",
        "    # Load batches for each iteration\n",
        "    training_batches = [batch2TrainData(voc, [random.choice(pairs) for _ in range(batch_size)])\n",
        "                      for _ in range(n_iteration)]\n",
        "\n",
        "    # Initialisations\n",
        "    print('Initialising ...')\n",
        "    start_iteration = 1\n",
        "    print_loss = 0\n",
        "    if loadFilename:\n",
        "        start_iteration = checkpoint['iteration'] + 1\n",
        "\n",
        "    # Training loop\n",
        "    print(\"Training...\")\n",
        "    for iteration in range(start_iteration, n_iteration + 1):\n",
        "        training_batch = training_batches[iteration - 1]\n",
        "        # Extract fields from the batch\n",
        "        input_variable, lengths, target_variable, mask, max_target_len = training_batch\n",
        "\n",
        "        # Create adjacency matrix for each sequence in the batch\n",
        "        adj_matrices = [create_adjacency_matrix(max_target_len) for _ in range(batch_size)]\n",
        "\n",
        "        # Run a training iteration with the batch\n",
        "        loss = train(input_variable, lengths, target_variable, mask, max_target_len, encoder,\n",
        "                     decoder, embedding, encoder_optimizer, decoder_optimizer, gcnn, gcnn_optimizer, adj_matrices, batch_size, clip)\n",
        "        print_loss += loss\n",
        "\n",
        "        # Print progress\n",
        "        if iteration % print_every == 0:\n",
        "            print_loss_avg = print_loss / print_every\n",
        "            print(\"Iteration: {}; Percent complete: {:.1f}%; Average loss: {:.4f}\".format(iteration, iteration / n_iteration * 100, print_loss_avg))\n",
        "            print_loss = 0\n",
        "\n",
        "        # Save checkpoint\n",
        "        if (iteration % save_every == 0):\n",
        "            directory = os.path.join(save_dir, model_name, corpus_name, '{}-{}_{}'.format(encoder_n_layers, decoder_n_layers, hidden_size))\n",
        "            if not os.path.exists(directory):\n",
        "                os.makedirs(directory)\n",
        "            torch.save({\n",
        "                'iteration': iteration,\n",
        "                'en': encoder.state_dict(),\n",
        "                'de': decoder.state_dict(),\n",
        "                'en_opt': encoder_optimizer.state_dict(),\n",
        "                'de_opt': decoder_optimizer.state_dict(),\n",
        "                'loss': loss,\n",
        "                'voc_dict': voc.__dict__,\n",
        "                'embedding': embedding.state_dict()\n",
        "            }, os.path.join(directory, '{}_{}.tar'.format(iteration, 'checkpoint')))"
      ],
      "metadata": {
        "id": "F7hro0sQp85y"
      },
      "execution_count": null,
      "outputs": []
    },
    {
      "cell_type": "markdown",
      "source": [
        "## Define Evaluation\n",
        "\n",
        "### Greedy decoding\n",
        "This GreedySearchDecoder class is used for performing greedy decoding with a trained encoder-decoder model. It takes an input sequence, feeds it through the encoder, and then iteratively generates the most likely output sequence one token at a time using the decoder:"
      ],
      "metadata": {
        "id": "HXU6_FKxp_kk"
      }
    },
    {
      "cell_type": "code",
      "source": [
        "class GreedySearchDecoder(nn.Module):\n",
        "    def __init__(self, encoder, decoder):\n",
        "        super(GreedySearchDecoder, self).__init__()\n",
        "        self.encoder = encoder\n",
        "        self.decoder = decoder\n",
        "\n",
        "    def forward(self, input_seq, input_length, max_length):\n",
        "        # Forward input through encoder model\n",
        "        encoder_outputs, encoder_hidden = self.encoder(input_seq, input_length)\n",
        "        # Prepare encoder's final hidden layer to be the first hidden input to the decoder\n",
        "        decoder_hidden = encoder_hidden[:decoder.n_layers]\n",
        "        # Initialize decoder input with SOS_token\n",
        "        decoder_input = torch.ones(1, 1, device=device, dtype=torch.long) * SOS_token\n",
        "        # Initialize tensors to append decoded words to\n",
        "        all_tokens = torch.zeros([0], device=device, dtype=torch.long)\n",
        "        all_scores = torch.zeros([0], device=device)\n",
        "        # Iteratively decode one word token at a time\n",
        "        for _ in range(max_length):\n",
        "            # Forward pass through decoder\n",
        "            decoder_output, decoder_hidden = self.decoder(decoder_input, decoder_hidden, encoder_outputs)\n",
        "            # Obtain the most likely word token and its softmax score\n",
        "            decoder_scores, decoder_input = torch.max(decoder_output, dim=1)\n",
        "            # Record token and score\n",
        "            all_tokens = torch.cat((all_tokens, decoder_input), dim=0)\n",
        "            all_scores = torch.cat((all_scores, decoder_scores), dim=0)\n",
        "            # Prepare the current token to be the next decoder input (add a dimension)\n",
        "            decoder_input = torch.unsqueeze(decoder_input, 0)\n",
        "        # Return collections of word tokens and scores\n",
        "        return all_tokens, all_scores"
      ],
      "metadata": {
        "id": "I3YIZhkrqC16"
      },
      "execution_count": null,
      "outputs": []
    },
    {
      "cell_type": "markdown",
      "source": [
        "### Evaluate my text\n",
        "\n",
        "These functions are used for evaluating input sentences using a trained encoder-decoder model and a searcher (e.g., GreedySearchDecoder). The evaluate function takes an input sentence, processes it, and generates a response based on the model's predictions. The evaluateInput function allows users to interact with the model by providing input sentences and receiving responses:"
      ],
      "metadata": {
        "id": "BrzfNEA3qDvm"
      }
    },
    {
      "cell_type": "code",
      "source": [
        "def evaluate(encoder, decoder, searcher, voc, sentence, max_length=MAX_LENGTH):\n",
        "    ### Format input sentence as a batch\n",
        "    # words -> indexes\n",
        "    indexes_batch = [indexesFromSentence(voc, sentence)]\n",
        "    # Create lengths tensor\n",
        "    lengths = torch.tensor([len(indexes) for indexes in indexes_batch])\n",
        "    # Transpose dimensions of the batch to match models' expectations\n",
        "    input_batch = torch.LongTensor(indexes_batch).transpose(0, 1)\n",
        "    # Use the appropriate device\n",
        "    input_batch = input_batch.to(device)\n",
        "    lengths = lengths.to(\"cpu\")\n",
        "    # Decode sentence with searcher\n",
        "    tokens, scores = searcher(input_batch, lengths, max_length)\n",
        "    # indexes -> words\n",
        "    decoded_words = [voc.index2word[token.item()] for token in tokens]\n",
        "    return decoded_words\n",
        "\n",
        "\n",
        "def evaluateInput(encoder, decoder, searcher, voc):\n",
        "    input_sentence = ''\n",
        "    while(1):\n",
        "        try:\n",
        "            # Get input sentence\n",
        "            input_sentence = input('> ')\n",
        "            # Check if it is a quit case\n",
        "            if input_sentence == 'q' or input_sentence == 'quit':\n",
        "                break\n",
        "            # Normalize sentence\n",
        "            input_sentence = normalizeString(input_sentence)\n",
        "            # Evaluate sentence\n",
        "            output_words = evaluate(encoder, decoder, searcher, voc, input_sentence)\n",
        "            # Format and print the response sentence\n",
        "            output_words[:] = [x for x in output_words if not (x == 'EOS' or x == 'PAD')]\n",
        "            print('Bot:', ' '.join(output_words))\n",
        "\n",
        "        except KeyError:\n",
        "            print(\"Error: Encountered an unknown word.\")"
      ],
      "metadata": {
        "id": "FpHFvn9dqFfu"
      },
      "execution_count": null,
      "outputs": []
    },
    {
      "cell_type": "markdown",
      "source": [
        "## Run Model\n",
        "\n",
        "These configurations define various aspects of your model, such as its name, attention mechanism, hidden size, number of layers, dropout rate, batch size, and whether you want to load a pretrained model checkpoint:\n",
        "\n"
      ],
      "metadata": {
        "id": "tTqCf4q1qIez"
      }
    },
    {
      "cell_type": "code",
      "source": [
        "# Configure models\n",
        "model_name = 'cb_model'  # Choose a name for your model\n",
        "attn_model = 'dot'       # Choose an attention mechanism: 'dot', 'general', or 'concat'\n",
        "#attn_model = 'general'  # Uncomment this line to use the 'general' attention mechanism\n",
        "#attn_model = 'concat'   # Uncomment this line to use the 'concat' attention mechanism\n",
        "hidden_size = 500        # Define the hidden size for the encoder and decoder\n",
        "encoder_n_layers = 2     # Number of layers for the encoder\n",
        "decoder_n_layers = 2     # Number of layers for the decoder\n",
        "dropout = 0.01            # Dropout probability for the model\n",
        "batch_size = 128         # Batch size for training\n",
        "\n",
        "# Set checkpoint to load from; set to None if starting from scratch\n",
        "loadFilename = None      # Set to a file path if you want to load a pretrained model checkpoint\n",
        "checkpoint_iter = 4000  # Specify the checkpoint iteration to load (if loadFilename is not None)"
      ],
      "metadata": {
        "id": "aFhzUI1YqJCG"
      },
      "execution_count": null,
      "outputs": []
    },
    {
      "cell_type": "code",
      "source": [
        "# Load model if a `loadFilename` is provided\n",
        "if loadFilename:\n",
        "    # If loading on the same machine the model was trained on\n",
        "    checkpoint = torch.load(loadFilename)\n",
        "    # If loading a model trained on GPU to CPU, use the following line instead\n",
        "    # checkpoint = torch.load(loadFilename, map_location=torch.device('cpu'))\n",
        "\n",
        "    # Load model weights and other relevant data\n",
        "    encoder_sd = checkpoint['en']                    # Encoder state dictionary\n",
        "    decoder_sd = checkpoint['de']                    # Decoder state dictionary\n",
        "    encoder_optimizer_sd = checkpoint['en_opt']      # Encoder optimizer state dictionary\n",
        "    decoder_optimizer_sd = checkpoint['de_opt']      # Decoder optimizer state dictionary\n",
        "    embedding_sd = checkpoint['embedding']           # Embedding state dictionary\n",
        "    voc.__dict__ = checkpoint['voc_dict']             # Vocabulary dictionary\n",
        "\n",
        "# Initialize word embeddings\n",
        "embedding = nn.Embedding(voc.num_words, hidden_size)\n",
        "if loadFilename:\n",
        "    embedding.load_state_dict(embedding_sd)\n",
        "\n",
        "# Define the number of encoder layers as an integer\n",
        "encoder_n_layers = 2  # You can adjust the number of layers as needed\n",
        "\n",
        "# Initialise encoder & decoder models\n",
        "encoder = EncoderRNN(hidden_size, embedding, encoder_n_layers, dropout)\n",
        "decoder = LuongAttnDecoderRNN(attn_model, embedding, hidden_size, voc.num_words, decoder_n_layers, dropout)\n",
        "\n",
        "if loadFilename:\n",
        "    # Load the pretrained model weights\n",
        "    encoder.load_state_dict(encoder_sd)\n",
        "    decoder.load_state_dict(decoder_sd)\n",
        "\n",
        "# Move models to the appropriate device (GPU or CPU)\n",
        "encoder = encoder.to(device)\n",
        "decoder = decoder.to(device)\n",
        "\n",
        "print('Models built and ready to go!')"
      ],
      "metadata": {
        "id": "KoIABElAqM2g",
        "colab": {
          "base_uri": "https://localhost:8080/",
          "height": 407
        },
        "outputId": "d990764b-5d4e-40d1-e41e-681e789c5e96"
      },
      "execution_count": null,
      "outputs": [
        {
          "output_type": "error",
          "ename": "TypeError",
          "evalue": "ignored",
          "traceback": [
            "\u001b[0;31m---------------------------------------------------------------------------\u001b[0m",
            "\u001b[0;31mTypeError\u001b[0m                                 Traceback (most recent call last)",
            "\u001b[0;32m<ipython-input-62-19c72557273e>\u001b[0m in \u001b[0;36m<cell line: 25>\u001b[0;34m()\u001b[0m\n\u001b[1;32m     23\u001b[0m \u001b[0;34m\u001b[0m\u001b[0m\n\u001b[1;32m     24\u001b[0m \u001b[0;31m# Initialise encoder & decoder models\u001b[0m\u001b[0;34m\u001b[0m\u001b[0;34m\u001b[0m\u001b[0m\n\u001b[0;32m---> 25\u001b[0;31m \u001b[0mencoder\u001b[0m \u001b[0;34m=\u001b[0m \u001b[0mEncoderRNN\u001b[0m\u001b[0;34m(\u001b[0m\u001b[0mhidden_size\u001b[0m\u001b[0;34m,\u001b[0m \u001b[0membedding\u001b[0m\u001b[0;34m,\u001b[0m \u001b[0mencoder_n_layers\u001b[0m\u001b[0;34m,\u001b[0m \u001b[0mdropout\u001b[0m\u001b[0;34m)\u001b[0m\u001b[0;34m\u001b[0m\u001b[0;34m\u001b[0m\u001b[0m\n\u001b[0m\u001b[1;32m     26\u001b[0m \u001b[0mdecoder\u001b[0m \u001b[0;34m=\u001b[0m \u001b[0mLuongAttnDecoderRNN\u001b[0m\u001b[0;34m(\u001b[0m\u001b[0mattn_model\u001b[0m\u001b[0;34m,\u001b[0m \u001b[0membedding\u001b[0m\u001b[0;34m,\u001b[0m \u001b[0mhidden_size\u001b[0m\u001b[0;34m,\u001b[0m \u001b[0mvoc\u001b[0m\u001b[0;34m.\u001b[0m\u001b[0mnum_words\u001b[0m\u001b[0;34m,\u001b[0m \u001b[0mdecoder_n_layers\u001b[0m\u001b[0;34m,\u001b[0m \u001b[0mdropout\u001b[0m\u001b[0;34m)\u001b[0m\u001b[0;34m\u001b[0m\u001b[0;34m\u001b[0m\u001b[0m\n\u001b[1;32m     27\u001b[0m \u001b[0;34m\u001b[0m\u001b[0m\n",
            "\u001b[0;32m<ipython-input-50-d9beff359863>\u001b[0m in \u001b[0;36m__init__\u001b[0;34m(self, hidden_size, embedding, gcnn_output_size, n_layers, dropout)\u001b[0m\n\u001b[1;32m     13\u001b[0m         \u001b[0;31m# Adjusting input size for GRU considering concatenated input\u001b[0m\u001b[0;34m\u001b[0m\u001b[0;34m\u001b[0m\u001b[0m\n\u001b[1;32m     14\u001b[0m         \u001b[0mcombined_input_size\u001b[0m \u001b[0;34m=\u001b[0m \u001b[0mhidden_size\u001b[0m \u001b[0;34m+\u001b[0m \u001b[0mgcnn_output_size\u001b[0m\u001b[0;34m\u001b[0m\u001b[0;34m\u001b[0m\u001b[0m\n\u001b[0;32m---> 15\u001b[0;31m         self.gru = nn.GRU(combined_input_size, hidden_size, n_layers,\n\u001b[0m\u001b[1;32m     16\u001b[0m                           dropout=(0 if n_layers == 1 else dropout), bidirectional=True)\n\u001b[1;32m     17\u001b[0m \u001b[0;34m\u001b[0m\u001b[0m\n",
            "\u001b[0;32m/usr/local/lib/python3.10/dist-packages/torch/nn/modules/rnn.py\u001b[0m in \u001b[0;36m__init__\u001b[0;34m(self, *args, **kwargs)\u001b[0m\n\u001b[1;32m   1039\u001b[0m         \u001b[0;32mif\u001b[0m \u001b[0;34m'proj_size'\u001b[0m \u001b[0;32min\u001b[0m \u001b[0mkwargs\u001b[0m\u001b[0;34m:\u001b[0m\u001b[0;34m\u001b[0m\u001b[0;34m\u001b[0m\u001b[0m\n\u001b[1;32m   1040\u001b[0m             \u001b[0;32mraise\u001b[0m \u001b[0mValueError\u001b[0m\u001b[0;34m(\u001b[0m\u001b[0;34m\"proj_size argument is only supported for LSTM, not RNN or GRU\"\u001b[0m\u001b[0;34m)\u001b[0m\u001b[0;34m\u001b[0m\u001b[0;34m\u001b[0m\u001b[0m\n\u001b[0;32m-> 1041\u001b[0;31m         \u001b[0msuper\u001b[0m\u001b[0;34m(\u001b[0m\u001b[0;34m)\u001b[0m\u001b[0;34m.\u001b[0m\u001b[0m__init__\u001b[0m\u001b[0;34m(\u001b[0m\u001b[0;34m'GRU'\u001b[0m\u001b[0;34m,\u001b[0m \u001b[0;34m*\u001b[0m\u001b[0margs\u001b[0m\u001b[0;34m,\u001b[0m \u001b[0;34m**\u001b[0m\u001b[0mkwargs\u001b[0m\u001b[0;34m)\u001b[0m\u001b[0;34m\u001b[0m\u001b[0;34m\u001b[0m\u001b[0m\n\u001b[0m\u001b[1;32m   1042\u001b[0m \u001b[0;34m\u001b[0m\u001b[0m\n\u001b[1;32m   1043\u001b[0m     \u001b[0;34m@\u001b[0m\u001b[0moverload\u001b[0m  \u001b[0;31m# type: ignore[override]\u001b[0m\u001b[0;34m\u001b[0m\u001b[0;34m\u001b[0m\u001b[0m\n",
            "\u001b[0;32m/usr/local/lib/python3.10/dist-packages/torch/nn/modules/rnn.py\u001b[0m in \u001b[0;36m__init__\u001b[0;34m(self, mode, input_size, hidden_size, num_layers, bias, batch_first, dropout, bidirectional, proj_size, device, dtype)\u001b[0m\n\u001b[1;32m    107\u001b[0m         \u001b[0mself\u001b[0m\u001b[0;34m.\u001b[0m\u001b[0m_flat_weights_names\u001b[0m \u001b[0;34m=\u001b[0m \u001b[0;34m[\u001b[0m\u001b[0;34m]\u001b[0m\u001b[0;34m\u001b[0m\u001b[0;34m\u001b[0m\u001b[0m\n\u001b[1;32m    108\u001b[0m         \u001b[0mself\u001b[0m\u001b[0;34m.\u001b[0m\u001b[0m_all_weights\u001b[0m \u001b[0;34m=\u001b[0m \u001b[0;34m[\u001b[0m\u001b[0;34m]\u001b[0m\u001b[0;34m\u001b[0m\u001b[0;34m\u001b[0m\u001b[0m\n\u001b[0;32m--> 109\u001b[0;31m         \u001b[0;32mfor\u001b[0m \u001b[0mlayer\u001b[0m \u001b[0;32min\u001b[0m \u001b[0mrange\u001b[0m\u001b[0;34m(\u001b[0m\u001b[0mnum_layers\u001b[0m\u001b[0;34m)\u001b[0m\u001b[0;34m:\u001b[0m\u001b[0;34m\u001b[0m\u001b[0;34m\u001b[0m\u001b[0m\n\u001b[0m\u001b[1;32m    110\u001b[0m             \u001b[0;32mfor\u001b[0m \u001b[0mdirection\u001b[0m \u001b[0;32min\u001b[0m \u001b[0mrange\u001b[0m\u001b[0;34m(\u001b[0m\u001b[0mnum_directions\u001b[0m\u001b[0;34m)\u001b[0m\u001b[0;34m:\u001b[0m\u001b[0;34m\u001b[0m\u001b[0;34m\u001b[0m\u001b[0m\n\u001b[1;32m    111\u001b[0m                 \u001b[0mreal_hidden_size\u001b[0m \u001b[0;34m=\u001b[0m \u001b[0mproj_size\u001b[0m \u001b[0;32mif\u001b[0m \u001b[0mproj_size\u001b[0m \u001b[0;34m>\u001b[0m \u001b[0;36m0\u001b[0m \u001b[0;32melse\u001b[0m \u001b[0mhidden_size\u001b[0m\u001b[0;34m\u001b[0m\u001b[0;34m\u001b[0m\u001b[0m\n",
            "\u001b[0;31mTypeError\u001b[0m: 'float' object cannot be interpreted as an integer"
          ]
        }
      ]
    },
    {
      "cell_type": "markdown",
      "source": [
        "### Run Training ###\n",
        "\n",
        "This code block sets up various training parameters, including gradient clipping, teacher forcing ratio, learning rates, and the number of training iterations. It also initializes the optimizer for both the encoder and decoder. Finally, it starts the training loop by calling the trainIters function with the provided parameters.\n",
        "\n",
        "\n"
      ],
      "metadata": {
        "id": "KnYGiizOqO7d"
      }
    },
    {
      "cell_type": "code",
      "source": [
        "# Configure training/optimisation\n",
        "clip = 50.0                   # Gradient clipping threshold to prevent exploding gradients\n",
        "teacher_forcing_ratio = 0.7   # Probability of using teacher forcing during training (1.0 means always)\n",
        "learning_rate = 0.0001        # Learning rate for the optimiser\n",
        "decoder_learning_ratio = 5.0  # Learning rate multiplier for the decoder compared to the encoder\n",
        "n_iteration = 1000            # Number of training iterations\n",
        "print_every = 100           # Print training progress every `print_every` iterations\n",
        "save_every = 100             # Save a checkpoint every `save_every` iterations\n",
        "\n",
        "# Ensure dropout layers are in train mode\n",
        "encoder.train()\n",
        "decoder.train()\n",
        "\n",
        "# Initialise optimisers\n",
        "print('Building optimisers ...')\n",
        "encoder_optimizer = optim.Adam(encoder.parameters(), lr=learning_rate)\n",
        "decoder_optimizer = optim.Adam(decoder.parameters(), lr=learning_rate * decoder_learning_ratio)\n",
        "\n",
        "# Load optimiser states if a checkpoint is provided\n",
        "if loadFilename:\n",
        "    encoder_optimizer.load_state_dict(encoder_optimizer_sd)\n",
        "    decoder_optimizer.load_state_dict(decoder_optimizer_sd)\n",
        "\n",
        "# If you have CUDA, configure CUDA to call\n",
        "for state in encoder_optimizer.state.values():\n",
        "    for k, v in state.items():\n",
        "        if isinstance(v, torch.Tensor):\n",
        "            state[k] = v.cuda()\n",
        "\n",
        "for state in decoder_optimizer.state.values():\n",
        "    for k, v in state.items():\n",
        "        if isinstance(v, torch.Tensor):\n",
        "            state[k] = v.cuda()\n",
        "\n",
        "# Initialise a variable to keep track of the best loss observed\n",
        "best_loss_recorded = float('inf')\n",
        "\n",
        "# Begin the training process\n",
        "print(\"Starting Training!\")\n",
        "for current_iteration in range(1, n_iteration + 1):\n",
        "    # Conduct a single training iteration\n",
        "    current_loss = train(model_name, voc, pairs, encoder, decoder, encoder_optimizer, decoder_optimizer,\n",
        "                         embedding, encoder_n_layers, decoder_n_layers, batch_size, clip)\n",
        "\n",
        "    # Update the best (lowest) loss if the current loss is lower\n",
        "    if current_loss < best_loss_recorded:\n",
        "        best_loss_recorded = current_loss\n",
        "\n",
        "    # Output training progress at specified intervals\n",
        "    if current_iteration % print_every == 100:\n",
        "        print(f\"Iteration: {current_iteration}/{n_iteration}, Loss: {current_loss:.4f}\")\n",
        "\n",
        "    # Save the model state at specified intervals\n",
        "    if current_iteration % save_every == 0:\n",
        "        save_checkpoint(current_iteration, encoder, decoder, encoder_optimizer, decoder_optimizer, best_loss_recorded, save_dir)\n",
        "\n",
        "# After completing all iterations, report the best loss achieved\n",
        "print(f\"Best (Lowest) Loss Recorded: {best_loss_recorded:.4f}\")"
      ],
      "metadata": {
        "id": "NbPl-c_kqPgU",
        "colab": {
          "base_uri": "https://localhost:8080/",
          "height": 245
        },
        "outputId": "14aac8fa-aa8c-486e-a049-79b2b92d3fcf"
      },
      "execution_count": null,
      "outputs": [
        {
          "output_type": "error",
          "ename": "NameError",
          "evalue": "ignored",
          "traceback": [
            "\u001b[0;31m---------------------------------------------------------------------------\u001b[0m",
            "\u001b[0;31mNameError\u001b[0m                                 Traceback (most recent call last)",
            "\u001b[0;32m<ipython-input-63-576ff9ab69d3>\u001b[0m in \u001b[0;36m<cell line: 12>\u001b[0;34m()\u001b[0m\n\u001b[1;32m     10\u001b[0m \u001b[0;31m# Ensure dropout layers are in train mode\u001b[0m\u001b[0;34m\u001b[0m\u001b[0;34m\u001b[0m\u001b[0m\n\u001b[1;32m     11\u001b[0m \u001b[0mencoder\u001b[0m\u001b[0;34m.\u001b[0m\u001b[0mtrain\u001b[0m\u001b[0;34m(\u001b[0m\u001b[0;34m)\u001b[0m\u001b[0;34m\u001b[0m\u001b[0;34m\u001b[0m\u001b[0m\n\u001b[0;32m---> 12\u001b[0;31m \u001b[0mdecoder\u001b[0m\u001b[0;34m.\u001b[0m\u001b[0mtrain\u001b[0m\u001b[0;34m(\u001b[0m\u001b[0;34m)\u001b[0m\u001b[0;34m\u001b[0m\u001b[0;34m\u001b[0m\u001b[0m\n\u001b[0m\u001b[1;32m     13\u001b[0m \u001b[0;34m\u001b[0m\u001b[0m\n\u001b[1;32m     14\u001b[0m \u001b[0;31m# Initialise optimisers\u001b[0m\u001b[0;34m\u001b[0m\u001b[0;34m\u001b[0m\u001b[0m\n",
            "\u001b[0;31mNameError\u001b[0m: name 'decoder' is not defined"
          ]
        }
      ]
    },
    {
      "cell_type": "markdown",
      "metadata": {
        "id": "Q9bVadTTzi_f"
      },
      "source": [
        "### Run Evaluation\n",
        "\n",
        "\n"
      ]
    },
    {
      "cell_type": "code",
      "execution_count": null,
      "metadata": {
        "id": "f_N5hle9zi_f"
      },
      "outputs": [],
      "source": [
        "# Set dropout layers to ``eval`` mode\n",
        "encoder.eval()\n",
        "decoder.eval()\n",
        "\n",
        "# Initialise search module\n",
        "searcher = GreedySearchDecoder(encoder, decoder)\n",
        "\n",
        "# Begin chatting (uncomment and run the following line to begin)\n",
        "evaluateInput(encoder, decoder, searcher, voc)"
      ]
    }
  ],
  "metadata": {
    "kernelspec": {
      "display_name": "Python 3",
      "name": "python3"
    },
    "language_info": {
      "codemirror_mode": {
        "name": "ipython",
        "version": 3
      },
      "file_extension": ".py",
      "mimetype": "text/x-python",
      "name": "python",
      "nbconvert_exporter": "python",
      "pygments_lexer": "ipython3",
      "version": "3.10.13"
    },
    "colab": {
      "provenance": []
    }
  },
  "nbformat": 4,
  "nbformat_minor": 0
}
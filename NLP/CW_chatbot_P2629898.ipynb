{
  "cells": [
    {
      "cell_type": "code",
      "execution_count": 24,
      "metadata": {
        "id": "kXqg-4alzi_H"
      },
      "outputs": [],
      "source": [
        "# For tips on running notebooks in Google Colab, see\n",
        "# https://pytorch.org/tutorials/beginner/colab\n",
        "%matplotlib inline"
      ]
    },
    {
      "cell_type": "code",
      "source": [
        "from google.colab import drive\n",
        "drive.mount('/content/drive')"
      ],
      "metadata": {
        "colab": {
          "base_uri": "https://localhost:8080/"
        },
        "id": "z-0FuaNKt7en",
        "outputId": "4ca56ef9-310e-4a43-da2c-18ee08a599ba"
      },
      "execution_count": 25,
      "outputs": [
        {
          "output_type": "stream",
          "name": "stdout",
          "text": [
            "Drive already mounted at /content/drive; to attempt to forcibly remount, call drive.mount(\"/content/drive\", force_remount=True).\n"
          ]
        }
      ]
    },
    {
      "cell_type": "markdown",
      "source": [
        "This code sets up the necessary libraries/modules and checks whether CUDA (GPU support) is available, assigning the appropriate device (\"cuda\" or \"cpu\") for computation:"
      ],
      "metadata": {
        "id": "rT4TMRKkvq54"
      }
    },
    {
      "cell_type": "code",
      "execution_count": 26,
      "metadata": {
        "id": "K8_1ROHTzi_P"
      },
      "outputs": [],
      "source": [
        "# Import the necessary libraries/modules\n",
        "import torch  # PyTorch library for deep learning\n",
        "from torch.jit import script, trace  # For script and trace in PyTorch\n",
        "import torch.nn as nn  # Neural network module in PyTorch\n",
        "from torch import optim  # Optimisation module in PyTorch\n",
        "import torch.nn.functional as F  # Functional operations for neural networks\n",
        "import csv  # Comma Separated Values (CSV) file handling\n",
        "import random  # Random number generation\n",
        "import re  # Regular expressions for text processing\n",
        "import os  # Operating system interface\n",
        "import unicodedata  # Unicode character database\n",
        "import codecs  # Codec support for reading and writing text files\n",
        "from io import open  # Input/output operations with text files\n",
        "import itertools  # Iteration utilities\n",
        "import math  # Mathematical operations\n",
        "import json  # JSON (JavaScript Object Notation) handling\n",
        "\n",
        "# Check if CUDA (GPU support) is available, and set the device accordingly\n",
        "USE_CUDA = torch.cuda.is_available()\n",
        "device = torch.device(\"cuda\" if USE_CUDA else \"cpu\")"
      ]
    },
    {
      "cell_type": "markdown",
      "source": [
        "This code defines a function printLines that reads and prints the first 'n' lines from a given file. Then, it calls this function with the path to the \"utterances.jsonl\" file within the \"movie-corpus\" directory:"
      ],
      "metadata": {
        "id": "z8Drcefmv_vk"
      }
    },
    {
      "cell_type": "code",
      "execution_count": 27,
      "metadata": {
        "id": "QCJtfxyhzi_Q",
        "colab": {
          "base_uri": "https://localhost:8080/"
        },
        "outputId": "baf1707c-9341-461f-be94-2c8e0d709066"
      },
      "outputs": [
        {
          "output_type": "stream",
          "name": "stdout",
          "text": [
            "b'{\"id\": \"L1045\", \"conversation_id\": \"L1044\", \"text\": \"They do not!\", \"speaker\": \"u0\", \"meta\": {\"movie_id\": \"m0\", \"parsed\": [{\"rt\": 1, \"toks\": [{\"tok\": \"They\", \"tag\": \"PRP\", \"dep\": \"nsubj\", \"up\": 1, \"dn\": []}, {\"tok\": \"do\", \"tag\": \"VBP\", \"dep\": \"ROOT\", \"dn\": [0, 2, 3]}, {\"tok\": \"not\", \"tag\": \"RB\", \"dep\": \"neg\", \"up\": 1, \"dn\": []}, {\"tok\": \"!\", \"tag\": \".\", \"dep\": \"punct\", \"up\": 1, \"dn\": []}]}]}, \"reply-to\": \"L1044\", \"timestamp\": null, \"vectors\": []}\\n'\n",
            "b'{\"id\": \"L1044\", \"conversation_id\": \"L1044\", \"text\": \"They do to!\", \"speaker\": \"u2\", \"meta\": {\"movie_id\": \"m0\", \"parsed\": [{\"rt\": 1, \"toks\": [{\"tok\": \"They\", \"tag\": \"PRP\", \"dep\": \"nsubj\", \"up\": 1, \"dn\": []}, {\"tok\": \"do\", \"tag\": \"VBP\", \"dep\": \"ROOT\", \"dn\": [0, 2, 3]}, {\"tok\": \"to\", \"tag\": \"TO\", \"dep\": \"dobj\", \"up\": 1, \"dn\": []}, {\"tok\": \"!\", \"tag\": \".\", \"dep\": \"punct\", \"up\": 1, \"dn\": []}]}]}, \"reply-to\": null, \"timestamp\": null, \"vectors\": []}\\n'\n",
            "b'{\"id\": \"L985\", \"conversation_id\": \"L984\", \"text\": \"I hope so.\", \"speaker\": \"u0\", \"meta\": {\"movie_id\": \"m0\", \"parsed\": [{\"rt\": 1, \"toks\": [{\"tok\": \"I\", \"tag\": \"PRP\", \"dep\": \"nsubj\", \"up\": 1, \"dn\": []}, {\"tok\": \"hope\", \"tag\": \"VBP\", \"dep\": \"ROOT\", \"dn\": [0, 2, 3]}, {\"tok\": \"so\", \"tag\": \"RB\", \"dep\": \"advmod\", \"up\": 1, \"dn\": []}, {\"tok\": \".\", \"tag\": \".\", \"dep\": \"punct\", \"up\": 1, \"dn\": []}]}]}, \"reply-to\": \"L984\", \"timestamp\": null, \"vectors\": []}\\n'\n",
            "b'{\"id\": \"L984\", \"conversation_id\": \"L984\", \"text\": \"She okay?\", \"speaker\": \"u2\", \"meta\": {\"movie_id\": \"m0\", \"parsed\": [{\"rt\": 1, \"toks\": [{\"tok\": \"She\", \"tag\": \"PRP\", \"dep\": \"nsubj\", \"up\": 1, \"dn\": []}, {\"tok\": \"okay\", \"tag\": \"RB\", \"dep\": \"ROOT\", \"dn\": [0, 2]}, {\"tok\": \"?\", \"tag\": \".\", \"dep\": \"punct\", \"up\": 1, \"dn\": []}]}]}, \"reply-to\": null, \"timestamp\": null, \"vectors\": []}\\n'\n",
            "b'{\"id\": \"L925\", \"conversation_id\": \"L924\", \"text\": \"Let\\'s go.\", \"speaker\": \"u0\", \"meta\": {\"movie_id\": \"m0\", \"parsed\": [{\"rt\": 0, \"toks\": [{\"tok\": \"Let\", \"tag\": \"VB\", \"dep\": \"ROOT\", \"dn\": [2, 3]}, {\"tok\": \"\\'s\", \"tag\": \"PRP\", \"dep\": \"nsubj\", \"up\": 2, \"dn\": []}, {\"tok\": \"go\", \"tag\": \"VB\", \"dep\": \"ccomp\", \"up\": 0, \"dn\": [1]}, {\"tok\": \".\", \"tag\": \".\", \"dep\": \"punct\", \"up\": 0, \"dn\": []}]}]}, \"reply-to\": \"L924\", \"timestamp\": null, \"vectors\": []}\\n'\n",
            "b'{\"id\": \"L924\", \"conversation_id\": \"L924\", \"text\": \"Wow\", \"speaker\": \"u2\", \"meta\": {\"movie_id\": \"m0\", \"parsed\": [{\"rt\": 0, \"toks\": [{\"tok\": \"Wow\", \"tag\": \"UH\", \"dep\": \"ROOT\", \"dn\": []}]}]}, \"reply-to\": null, \"timestamp\": null, \"vectors\": []}\\n'\n",
            "b'{\"id\": \"L872\", \"conversation_id\": \"L870\", \"text\": \"Okay -- you\\'re gonna need to learn how to lie.\", \"speaker\": \"u0\", \"meta\": {\"movie_id\": \"m0\", \"parsed\": [{\"rt\": 4, \"toks\": [{\"tok\": \"Okay\", \"tag\": \"UH\", \"dep\": \"intj\", \"up\": 4, \"dn\": []}, {\"tok\": \"--\", \"tag\": \":\", \"dep\": \"punct\", \"up\": 4, \"dn\": []}, {\"tok\": \"you\", \"tag\": \"PRP\", \"dep\": \"nsubj\", \"up\": 4, \"dn\": []}, {\"tok\": \"\\'re\", \"tag\": \"VBP\", \"dep\": \"aux\", \"up\": 4, \"dn\": []}, {\"tok\": \"gon\", \"tag\": \"VBG\", \"dep\": \"ROOT\", \"dn\": [0, 1, 2, 3, 6, 12]}, {\"tok\": \"na\", \"tag\": \"TO\", \"dep\": \"aux\", \"up\": 6, \"dn\": []}, {\"tok\": \"need\", \"tag\": \"VB\", \"dep\": \"xcomp\", \"up\": 4, \"dn\": [5, 8]}, {\"tok\": \"to\", \"tag\": \"TO\", \"dep\": \"aux\", \"up\": 8, \"dn\": []}, {\"tok\": \"learn\", \"tag\": \"VB\", \"dep\": \"xcomp\", \"up\": 6, \"dn\": [7, 11]}, {\"tok\": \"how\", \"tag\": \"WRB\", \"dep\": \"advmod\", \"up\": 11, \"dn\": []}, {\"tok\": \"to\", \"tag\": \"TO\", \"dep\": \"aux\", \"up\": 11, \"dn\": []}, {\"tok\": \"lie\", \"tag\": \"VB\", \"dep\": \"xcomp\", \"up\": 8, \"dn\": [9, 10]}, {\"tok\": \".\", \"tag\": \".\", \"dep\": \"punct\", \"up\": 4, \"dn\": []}]}]}, \"reply-to\": \"L871\", \"timestamp\": null, \"vectors\": []}\\n'\n",
            "b'{\"id\": \"L871\", \"conversation_id\": \"L870\", \"text\": \"No\", \"speaker\": \"u2\", \"meta\": {\"movie_id\": \"m0\", \"parsed\": [{\"rt\": 0, \"toks\": [{\"tok\": \"No\", \"tag\": \"UH\", \"dep\": \"ROOT\", \"dn\": []}]}]}, \"reply-to\": \"L870\", \"timestamp\": null, \"vectors\": []}\\n'\n",
            "b'{\"id\": \"L870\", \"conversation_id\": \"L870\", \"text\": \"I\\'m kidding.  You know how sometimes you just become this \\\\\"persona\\\\\"?  And you don\\'t know how to quit?\", \"speaker\": \"u0\", \"meta\": {\"movie_id\": \"m0\", \"parsed\": [{\"rt\": 2, \"toks\": [{\"tok\": \"I\", \"tag\": \"PRP\", \"dep\": \"nsubj\", \"up\": 2, \"dn\": []}, {\"tok\": \"\\'m\", \"tag\": \"VBP\", \"dep\": \"aux\", \"up\": 2, \"dn\": []}, {\"tok\": \"kidding\", \"tag\": \"VBG\", \"dep\": \"ROOT\", \"dn\": [0, 1, 3]}, {\"tok\": \".\", \"tag\": \".\", \"dep\": \"punct\", \"up\": 2, \"dn\": [4]}, {\"tok\": \" \", \"tag\": \"_SP\", \"dep\": \"\", \"up\": 3, \"dn\": []}]}, {\"rt\": 1, \"toks\": [{\"tok\": \"You\", \"tag\": \"PRP\", \"dep\": \"nsubj\", \"up\": 1, \"dn\": []}, {\"tok\": \"know\", \"tag\": \"VBP\", \"dep\": \"ROOT\", \"dn\": [0, 6, 11]}, {\"tok\": \"how\", \"tag\": \"WRB\", \"dep\": \"advmod\", \"up\": 3, \"dn\": []}, {\"tok\": \"sometimes\", \"tag\": \"RB\", \"dep\": \"advmod\", \"up\": 6, \"dn\": [2]}, {\"tok\": \"you\", \"tag\": \"PRP\", \"dep\": \"nsubj\", \"up\": 6, \"dn\": []}, {\"tok\": \"just\", \"tag\": \"RB\", \"dep\": \"advmod\", \"up\": 6, \"dn\": []}, {\"tok\": \"become\", \"tag\": \"VBP\", \"dep\": \"ccomp\", \"up\": 1, \"dn\": [3, 4, 5, 9]}, {\"tok\": \"this\", \"tag\": \"DT\", \"dep\": \"det\", \"up\": 9, \"dn\": []}, {\"tok\": \"\\\\\"\", \"tag\": \"``\", \"dep\": \"punct\", \"up\": 9, \"dn\": []}, {\"tok\": \"persona\", \"tag\": \"NN\", \"dep\": \"attr\", \"up\": 6, \"dn\": [7, 8, 10]}, {\"tok\": \"\\\\\"\", \"tag\": \"\\'\\'\", \"dep\": \"punct\", \"up\": 9, \"dn\": []}, {\"tok\": \"?\", \"tag\": \".\", \"dep\": \"punct\", \"up\": 1, \"dn\": [12]}, {\"tok\": \" \", \"tag\": \"_SP\", \"dep\": \"\", \"up\": 11, \"dn\": []}]}, {\"rt\": 4, \"toks\": [{\"tok\": \"And\", \"tag\": \"CC\", \"dep\": \"cc\", \"up\": 4, \"dn\": []}, {\"tok\": \"you\", \"tag\": \"PRP\", \"dep\": \"nsubj\", \"up\": 4, \"dn\": []}, {\"tok\": \"do\", \"tag\": \"VBP\", \"dep\": \"aux\", \"up\": 4, \"dn\": []}, {\"tok\": \"n\\'t\", \"tag\": \"RB\", \"dep\": \"neg\", \"up\": 4, \"dn\": []}, {\"tok\": \"know\", \"tag\": \"VB\", \"dep\": \"ROOT\", \"dn\": [0, 1, 2, 3, 7, 8]}, {\"tok\": \"how\", \"tag\": \"WRB\", \"dep\": \"advmod\", \"up\": 7, \"dn\": []}, {\"tok\": \"to\", \"tag\": \"TO\", \"dep\": \"aux\", \"up\": 7, \"dn\": []}, {\"tok\": \"quit\", \"tag\": \"VB\", \"dep\": \"xcomp\", \"up\": 4, \"dn\": [5, 6]}, {\"tok\": \"?\", \"tag\": \".\", \"dep\": \"punct\", \"up\": 4, \"dn\": []}]}]}, \"reply-to\": null, \"timestamp\": null, \"vectors\": []}\\n'\n",
            "b'{\"id\": \"L869\", \"conversation_id\": \"L866\", \"text\": \"Like my fear of wearing pastels?\", \"speaker\": \"u0\", \"meta\": {\"movie_id\": \"m0\", \"parsed\": [{\"rt\": 0, \"toks\": [{\"tok\": \"Like\", \"tag\": \"IN\", \"dep\": \"ROOT\", \"dn\": [2, 6]}, {\"tok\": \"my\", \"tag\": \"PRP$\", \"dep\": \"poss\", \"up\": 2, \"dn\": []}, {\"tok\": \"fear\", \"tag\": \"NN\", \"dep\": \"pobj\", \"up\": 0, \"dn\": [1, 3]}, {\"tok\": \"of\", \"tag\": \"IN\", \"dep\": \"prep\", \"up\": 2, \"dn\": [4]}, {\"tok\": \"wearing\", \"tag\": \"VBG\", \"dep\": \"pcomp\", \"up\": 3, \"dn\": [5]}, {\"tok\": \"pastels\", \"tag\": \"NNS\", \"dep\": \"dobj\", \"up\": 4, \"dn\": []}, {\"tok\": \"?\", \"tag\": \".\", \"dep\": \"punct\", \"up\": 0, \"dn\": []}]}]}, \"reply-to\": \"L868\", \"timestamp\": null, \"vectors\": []}\\n'\n"
          ]
        }
      ],
      "source": [
        "import os  # Import the 'os' module to work with file paths.\n",
        "\n",
        "# Define the name of the corpus folder.\n",
        "corpus_name = \"movie-corpus\"\n",
        "\n",
        "# Create a file path by joining \"data\" and the corpus_name.\n",
        "corpus = os.path.join(\"movie-corpus\", corpus_name)\n",
        "\n",
        "# Define a function called 'printLines' that takes a file path and an optional argument 'n'.\n",
        "def printLines(file, n=10):\n",
        "    # Open the file in binary read mode and assign it to the 'datafile' variable.\n",
        "    with open(file, 'rb') as datafile:\n",
        "        # Read all lines from the file and store them in the 'lines' list.\n",
        "        lines = datafile.readlines()\n",
        "\n",
        "    # Loop through the first 'n' lines (default is 10) in the 'lines' list.\n",
        "    for line in lines[:n]:\n",
        "        # Print each line to the console.\n",
        "        print(line)\n",
        "\n",
        "# Call the 'printLines' function with the file path to \"utterances.jsonl\" in the 'corpus' folder.\n",
        "printLines(os.path.join(corpus, \"utterances.jsonl\"))"
      ]
    },
    {
      "cell_type": "markdown",
      "source": [
        "These functions are used for loading lines and conversations from a file, as well as extracting pairs of sentences from those conversations:"
      ],
      "metadata": {
        "id": "pwny8N3fwQ2k"
      }
    },
    {
      "cell_type": "code",
      "execution_count": 28,
      "metadata": {
        "id": "KyEito6xzi_R"
      },
      "outputs": [],
      "source": [
        "# Function to load lines and conversations from a file\n",
        "def loadLinesAndConversations(fileName):\n",
        "    lines = {}  # Dictionary to store individual lines\n",
        "    conversations = {}  # Dictionary to store conversations\n",
        "    with open(fileName, 'r', encoding='iso-8859-1') as f:\n",
        "        for line in f:\n",
        "            lineJson = json.loads(line)  # Parse the JSON data from each line\n",
        "            # Extract fields for line object\n",
        "            lineObj = {}\n",
        "            lineObj[\"lineID\"] = lineJson[\"id\"]\n",
        "            lineObj[\"characterID\"] = lineJson[\"speaker\"]\n",
        "            lineObj[\"text\"] = lineJson[\"text\"]\n",
        "            lines[lineObj['lineID']] = lineObj  # Store the line object in the 'lines' dictionary\n",
        "\n",
        "            # Extract fields for conversation object\n",
        "            if lineJson[\"conversation_id\"] not in conversations:\n",
        "                convObj = {}\n",
        "                convObj[\"conversationID\"] = lineJson[\"conversation_id\"]\n",
        "                convObj[\"movieID\"] = lineJson[\"meta\"][\"movie_id\"]\n",
        "                convObj[\"lines\"] = [lineObj]\n",
        "            else:\n",
        "                convObj = conversations[lineJson[\"conversation_id\"]]\n",
        "                convObj[\"lines\"].insert(0, lineObj)\n",
        "            conversations[convObj[\"conversationID\"]] = convObj  # Store the conversation object in the 'conversations' dictionary\n",
        "\n",
        "    return lines, conversations\n",
        "\n",
        "\n",
        "# Function to extract pairs of sentences from conversations\n",
        "def extractSentencePairs(conversations):\n",
        "    qa_pairs = []  # List to store question-answer pairs\n",
        "    for conversation in conversations.values():\n",
        "        # Iterate over all the lines of the conversation\n",
        "        for i in range(len(conversation[\"lines\"]) - 1):  # We ignore the last line\n",
        "            inputLine = conversation[\"lines\"][i][\"text\"].strip()\n",
        "            targetLine = conversation[\"lines\"][i+1][\"text\"].strip()\n",
        "            # Filter out wrong samples (if one of the lists is empty)\n",
        "            if inputLine and targetLine:\n",
        "                qa_pairs.append([inputLine, targetLine])  # Add the pair to the list\n",
        "    return qa_pairs"
      ]
    },
    {
      "cell_type": "markdown",
      "metadata": {
        "id": "NnIkhMULzi_R"
      },
      "source": [
        "This code prepares and processes data from the \"utterances.jsonl\" file, formats it, and saves it to a new CSV file named \"formatted_movie_lines.txt.\""
      ]
    },
    {
      "cell_type": "code",
      "execution_count": 29,
      "metadata": {
        "id": "6grhS9BSzi_S",
        "colab": {
          "base_uri": "https://localhost:8080/"
        },
        "outputId": "9ac82359-5121-4b56-dea1-0b0039f3daea"
      },
      "outputs": [
        {
          "output_type": "stream",
          "name": "stdout",
          "text": [
            "\n",
            "Processing corpus into lines and conversations...\n",
            "\n",
            "Writing newly formatted file...\n",
            "\n",
            "Sample lines from file:\n",
            "b'They do to!\\tThey do not!\\n'\n",
            "b'She okay?\\tI hope so.\\n'\n",
            "b\"Wow\\tLet's go.\\n\"\n",
            "b'\"I\\'m kidding.  You know how sometimes you just become this \"\"persona\"\"?  And you don\\'t know how to quit?\"\\tNo\\n'\n",
            "b\"No\\tOkay -- you're gonna need to learn how to lie.\\n\"\n",
            "b\"I figured you'd get to the good stuff eventually.\\tWhat good stuff?\\n\"\n",
            "b'What good stuff?\\t\"The \"\"real you\"\".\"\\n'\n",
            "b'\"The \"\"real you\"\".\"\\tLike my fear of wearing pastels?\\n'\n",
            "b'do you listen to this crap?\\tWhat crap?\\n'\n",
            "b\"What crap?\\tMe.  This endless ...blonde babble. I'm like, boring myself.\\n\"\n"
          ]
        }
      ],
      "source": [
        "# Define the path to the new file where formatted data will be saved\n",
        "datafile = os.path.join(corpus, \"formatted_movie_lines.txt\")\n",
        "\n",
        "# Define the delimiter used to separate values in the CSV file\n",
        "delimiter = '\\t'\n",
        "\n",
        "# Unescape the delimiter to handle escape sequences if necessary\n",
        "delimiter = str(codecs.decode(delimiter, \"unicode_escape\"))\n",
        "\n",
        "# Initialise dictionaries to store lines and conversations\n",
        "lines = {}  # Dictionary to store individual lines\n",
        "conversations = {}  # Dictionary to store conversations\n",
        "\n",
        "# Load lines and conversations from the \"utterances.jsonl\" file\n",
        "print(\"\\nProcessing corpus into lines and conversations...\")\n",
        "lines, conversations = loadLinesAndConversations(os.path.join(corpus, \"utterances.jsonl\"))\n",
        "\n",
        "# Write the newly formatted data to a CSV file\n",
        "print(\"\\nWriting newly formatted file...\")\n",
        "with open(datafile, 'w', encoding='utf-8') as outputfile:\n",
        "    writer = csv.writer(outputfile, delimiter=delimiter, lineterminator='\\n')\n",
        "    for pair in extractSentencePairs(conversations):\n",
        "        writer.writerow(pair)\n",
        "\n",
        "# Print a sample of lines from the newly created file\n",
        "print(\"\\nSample lines from file:\")\n",
        "printLines(datafile)"
      ]
    },
    {
      "cell_type": "markdown",
      "metadata": {
        "id": "rOEP-YQNzi_S"
      },
      "source": [
        "This code defines a 'Voc' class for managing a vocabulary, adding words and sentences to it, and trimming it by removing words with low counts:"
      ]
    },
    {
      "cell_type": "code",
      "execution_count": 30,
      "metadata": {
        "id": "3MpOOoDZzi_S"
      },
      "outputs": [],
      "source": [
        "# Define default word tokens\n",
        "PAD_token = 0  # Used for padding short sentences\n",
        "SOS_token = 1  # Start-of-sentence token\n",
        "EOS_token = 2  # End-of-sentence token\n",
        "\n",
        "# Define a vocabulary class to manage word-to-index and index-to-word mappings\n",
        "class Voc:\n",
        "    def __init__(self, name):\n",
        "        self.name = name  # Name of the vocabulary\n",
        "        self.trimmed = False  # Flag to indicate if vocabulary has been trimmed\n",
        "        self.word2index = {}  # Dictionary mapping words to their index\n",
        "        self.word2count = {}  # Dictionary to store word counts\n",
        "        self.index2word = {PAD_token: \"PAD\", SOS_token: \"SOS\", EOS_token: \"EOS\"}  # Dictionary mapping indices to words with default tokens\n",
        "        self.num_words = 3  # Initialise the count of words with default tokens (PAD, SOS, EOS)\n",
        "\n",
        "    # Method to add a sentence to the vocabulary\n",
        "    def addSentence(self, sentence):\n",
        "        for word in sentence.split(' '):\n",
        "            self.addWord(word)\n",
        "\n",
        "    # Method to add a word to the vocabulary\n",
        "    def addWord(self, word):\n",
        "        if word not in self.word2index:\n",
        "            # If the word is not in the vocabulary, add it\n",
        "            self.word2index[word] = self.num_words\n",
        "            self.word2count[word] = 1\n",
        "            self.index2word[self.num_words] = word\n",
        "            self.num_words += 1\n",
        "        else:\n",
        "            # If the word is already in the vocabulary, increment its count\n",
        "            self.word2count[word] += 1\n",
        "\n",
        "    # Method to trim the vocabulary by removing words below a certain count threshold\n",
        "    def trim(self, min_count):\n",
        "        if self.trimmed:\n",
        "            return\n",
        "        self.trimmed = True\n",
        "\n",
        "        keep_words = []\n",
        "\n",
        "        for k, v in self.word2count.items():\n",
        "            if v >= min_count:\n",
        "                keep_words.append(k)\n",
        "\n",
        "        print('keep_words {} / {} = {:.4f}'.format(\n",
        "            len(keep_words), len(self.word2index), len(keep_words) / len(self.word2index)\n",
        "        ))\n",
        "\n",
        "        # Reinitialise dictionaries\n",
        "        self.word2index = {}\n",
        "        self.word2count = {}\n",
        "        self.index2word = {PAD_token: \"PAD\", SOS_token: \"SOS\", EOS_token: \"EOS\"}\n",
        "        self.num_words = 3  # Reset word count to include default tokens\n",
        "\n",
        "        for word in keep_words:\n",
        "            self.addWord(word)"
      ]
    },
    {
      "cell_type": "markdown",
      "metadata": {
        "id": "tcYbL2Xlzi_T"
      },
      "source": [
        "This code prepares training data by reading and normalizing pairs of sentences, filtering them based on sentence length, and creating a vocabulary object ('Voc') to manage word-to-index mappings:"
      ]
    },
    {
      "cell_type": "code",
      "execution_count": 31,
      "metadata": {
        "id": "f8FWpwXWzi_T",
        "colab": {
          "base_uri": "https://localhost:8080/"
        },
        "outputId": "591c0763-c129-4e95-e814-032b8bba38c5"
      },
      "outputs": [
        {
          "output_type": "stream",
          "name": "stdout",
          "text": [
            "Start preparing training data ...\n",
            "Reading lines...\n",
            "Read 221282 sentence pairs\n",
            "Trimmed to 145493 sentence pairs\n",
            "Counting words...\n",
            "Counted words: 33170\n",
            "\n",
            "pairs:\n",
            "['they do to !', 'they do not !']\n",
            "['she okay ?', 'i hope so .']\n",
            "['wow', 'let s go .']\n",
            "['no', 'okay you re gonna need to learn how to lie .']\n",
            "['i figured you d get to the good stuff eventually .', 'what good stuff ?']\n",
            "['what good stuff ?', 'the real you .']\n",
            "['the real you .', 'like my fear of wearing pastels ?']\n",
            "['do you listen to this crap ?', 'what crap ?']\n",
            "['what crap ?', 'me . this endless . . .blonde babble . i m like boring myself .']\n",
            "['me . this endless . . .blonde babble . i m like boring myself .', 'thank god ! if i had to hear one more story about your coiffure . . .']\n"
          ]
        }
      ],
      "source": [
        "# Maximum sentence length to consider\n",
        "MAX_LENGTH = 20\n",
        "\n",
        "# Function to convert Unicode string to plain ASCII\n",
        "def unicodeToAscii(s):\n",
        "    return ''.join(\n",
        "        c for c in unicodedata.normalize('NFD', s)\n",
        "        if unicodedata.category(c) != 'Mn'\n",
        "    )\n",
        "\n",
        "# Function to normalize a string: lowercase, trim, and remove non-letter characters\n",
        "def normalizeString(s):\n",
        "    s = unicodeToAscii(s.lower().strip())  # Convert to lowercase and strip spaces\n",
        "    s = re.sub(r\"([.!?])\", r\" \\1\", s)  # Add spaces around punctuation\n",
        "    s = re.sub(r\"[^a-zA-Z.!?]+\", r\" \", s)  # Remove non-letter characters\n",
        "    s = re.sub(r\"\\s+\", r\" \", s).strip()  # Remove extra spaces and strip\n",
        "    return s\n",
        "\n",
        "# Function to read query/response pairs and return a 'Voc' object and pairs list\n",
        "def readVocs(datafile, corpus_name):\n",
        "    print(\"Reading lines...\")\n",
        "    # Read the file and split it into lines\n",
        "    lines = open(datafile, encoding='utf-8').read().strip().split('\\n')\n",
        "    # Split every line into pairs and normalize them\n",
        "    pairs = [[normalizeString(s) for s in l.split('\\t')] for l in lines]\n",
        "    # Create a 'Voc' object with the given 'corpus_name'\n",
        "    voc = Voc(corpus_name)\n",
        "    return voc, pairs\n",
        "\n",
        "# Function to filter pairs based on sentence length (under MAX_LENGTH)\n",
        "def filterPair(p):\n",
        "    # Input sequences need to preserve the last word for EOS token\n",
        "    return len(p[0].split(' ')) < MAX_LENGTH and len(p[1].split(' ')) < MAX_LENGTH\n",
        "\n",
        "# Function to filter pairs using the 'filterPair' condition\n",
        "def filterPairs(pairs):\n",
        "    return [pair for pair in pairs if filterPair(pair)]\n",
        "\n",
        "# Function to load and prepare training data, returning a populated 'Voc' object and pairs list\n",
        "def loadPrepareData(corpus, corpus_name, datafile, save_dir):\n",
        "    print(\"Start preparing training data ...\")\n",
        "    voc, pairs = readVocs(datafile, corpus_name)\n",
        "    print(\"Read {!s} sentence pairs\".format(len(pairs)))\n",
        "    pairs = filterPairs(pairs)\n",
        "    print(\"Trimmed to {!s} sentence pairs\".format(len(pairs)))\n",
        "    print(\"Counting words...\")\n",
        "    for pair in pairs:\n",
        "        voc.addSentence(pair[0])\n",
        "        voc.addSentence(pair[1])\n",
        "    print(\"Counted words:\", voc.num_words)\n",
        "    return voc, pairs\n",
        "\n",
        "# Define a save directory for the 'Voc' object and pairs list\n",
        "save_dir = os.path.join(\"data\", \"save\")\n",
        "\n",
        "# Load and prepare data using the functions defined above\n",
        "voc, pairs = loadPrepareData(corpus, corpus_name, datafile, save_dir)\n",
        "\n",
        "# Print some example pairs to validate the data\n",
        "print(\"\\npairs:\")\n",
        "for pair in pairs[:10]:\n",
        "    print(pair)"
      ]
    },
    {
      "cell_type": "markdown",
      "metadata": {
        "id": "CpdDsCQxzi_T"
      },
      "source": [
        "This code defines a function 'trimRareWords' to trim rare words from the vocabulary ('voc') and filter pairs that do not contain trimmed words in their input or output sentences:"
      ]
    },
    {
      "cell_type": "code",
      "execution_count": 32,
      "metadata": {
        "id": "Pu5VIRagzi_T",
        "colab": {
          "base_uri": "https://localhost:8080/"
        },
        "outputId": "46c63a33-6670-4277-f789-31a1cd3fa108"
      },
      "outputs": [
        {
          "output_type": "stream",
          "name": "stdout",
          "text": [
            "keep_words 17175 / 33167 = 0.5178\n",
            "Trimmed from 145493 pairs to 126905, 0.8722 of total\n"
          ]
        }
      ],
      "source": [
        "# Minimum word count threshold for trimming\n",
        "MIN_COUNT = 3\n",
        "\n",
        "# Function to trim rare words from the vocabulary and filter pairs\n",
        "def trimRareWords(voc, pairs, MIN_COUNT):\n",
        "    # Trim words used less than MIN_COUNT times from the vocabulary\n",
        "    voc.trim(MIN_COUNT)\n",
        "\n",
        "    # Initialise a list to keep pairs that do not contain trimmed words\n",
        "    keep_pairs = []\n",
        "\n",
        "    for pair in pairs:\n",
        "        input_sentence = pair[0]\n",
        "        output_sentence = pair[1]\n",
        "        keep_input = True\n",
        "        keep_output = True\n",
        "\n",
        "        # Check input sentence\n",
        "        for word in input_sentence.split(' '):\n",
        "            if word not in voc.word2index:\n",
        "                keep_input = False\n",
        "                break\n",
        "\n",
        "        # Check output sentence\n",
        "        for word in output_sentence.split(' '):\n",
        "            if word not in voc.word2index:\n",
        "                keep_output = False\n",
        "                break\n",
        "\n",
        "        # Only keep pairs that do not contain trimmed word(s) in their input or output sentence\n",
        "        if keep_input and keep_output:\n",
        "            keep_pairs.append(pair)\n",
        "\n",
        "    print(\"Trimmed from {} pairs to {}, {:.4f} of total\".format(len(pairs), len(keep_pairs), len(keep_pairs) / len(pairs)))\n",
        "    return keep_pairs\n",
        "\n",
        "# Trim rare words from the vocabulary and filter pairs\n",
        "pairs = trimRareWords(voc, pairs, MIN_COUNT)"
      ]
    },
    {
      "cell_type": "markdown",
      "metadata": {
        "id": "rK0xOgc_zi_T"
      },
      "source": [
        "These functions prepare the input and output tensors for training data, including padding and creating binary masks:"
      ]
    },
    {
      "cell_type": "code",
      "execution_count": 33,
      "metadata": {
        "id": "FebgmPKzzi_U",
        "colab": {
          "base_uri": "https://localhost:8080/"
        },
        "outputId": "ee2ae0c4-2885-4713-83bb-fc7220cb4a4f"
      },
      "outputs": [
        {
          "output_type": "stream",
          "name": "stdout",
          "text": [
            "input_variable: tensor([[ 3796,    20,    63,  1519,    11],\n",
            "        [  122,   256,  2674,  1324,  5834],\n",
            "        [    8,   285,    39,   116,  1297],\n",
            "        [  114,   462,  5183,     6,    14],\n",
            "        [  386,  9671,   181,  1324,     2],\n",
            "        [   55,   997,    59,   116,     0],\n",
            "        [   14, 13658,   685,     6,     0],\n",
            "        [ 3201,    10,    10,     2,     0],\n",
            "        [   78,     2,     2,     0,     0],\n",
            "        [ 8272,     0,     0,     0,     0],\n",
            "        [   14,     0,     0,     0,     0],\n",
            "        [  386,     0,     0,     0,     0],\n",
            "        [  186,     0,     0,     0,     0],\n",
            "        [ 4371,     0,     0,     0,     0],\n",
            "        [   78,     0,     0,     0,     0],\n",
            "        [10810,     0,     0,     0,     0],\n",
            "        [ 7389,     0,     0,     0,     0],\n",
            "        [   14,     0,     0,     0,     0],\n",
            "        [    2,     0,     0,     0,     0]])\n",
            "lengths: tensor([19,  9,  9,  8,  5])\n",
            "target_variable: tensor([[  679, 13657,    19,   128,    34],\n",
            "        [  139,   171,    14,    42,    90],\n",
            "        [  925,    14,     2,    34,    20],\n",
            "        [   14,   549,     0,    20,   860],\n",
            "        [ 3687,    14,     0,   199,    10],\n",
            "        [ 1691, 11876,     0,   106,     2],\n",
            "        [  181,   450,     0,    10,     0],\n",
            "        [  839,  4991,     0,   128,     0],\n",
            "        [   14,    14,     0,   116,     0],\n",
            "        [   14,   194,     0,    10,     0],\n",
            "        [   14,    68,     0,     2,     0],\n",
            "        [  186,  1890,     0,     0,     0],\n",
            "        [   14,    14,     0,     0,     0],\n",
            "        [   14,     2,     0,     0,     0],\n",
            "        [   14,     0,     0,     0,     0],\n",
            "        [   55,     0,     0,     0,     0],\n",
            "        [   14,     0,     0,     0,     0],\n",
            "        [   14,     0,     0,     0,     0],\n",
            "        [   14,     0,     0,     0,     0],\n",
            "        [    2,     0,     0,     0,     0]])\n",
            "mask: tensor([[ True,  True,  True,  True,  True],\n",
            "        [ True,  True,  True,  True,  True],\n",
            "        [ True,  True,  True,  True,  True],\n",
            "        [ True,  True, False,  True,  True],\n",
            "        [ True,  True, False,  True,  True],\n",
            "        [ True,  True, False,  True,  True],\n",
            "        [ True,  True, False,  True, False],\n",
            "        [ True,  True, False,  True, False],\n",
            "        [ True,  True, False,  True, False],\n",
            "        [ True,  True, False,  True, False],\n",
            "        [ True,  True, False,  True, False],\n",
            "        [ True,  True, False, False, False],\n",
            "        [ True,  True, False, False, False],\n",
            "        [ True,  True, False, False, False],\n",
            "        [ True, False, False, False, False],\n",
            "        [ True, False, False, False, False],\n",
            "        [ True, False, False, False, False],\n",
            "        [ True, False, False, False, False],\n",
            "        [ True, False, False, False, False],\n",
            "        [ True, False, False, False, False]])\n",
            "max_target_len: 20\n"
          ]
        }
      ],
      "source": [
        "# Function to convert a sentence to a list of indexes using the vocabulary\n",
        "def indexesFromSentence(voc, sentence):\n",
        "    return [voc.word2index[word] for word in sentence.split(' ')] + [EOS_token]\n",
        "\n",
        "# Function to pad sequences with zeros to create a rectangular matrix\n",
        "def zeroPadding(l, fillvalue=PAD_token):\n",
        "    return list(itertools.zip_longest(*l, fillvalue=fillvalue))\n",
        "\n",
        "# Function to create a binary matrix indicating the presence of padding tokens\n",
        "def binaryMatrix(l, value=PAD_token):\n",
        "    m = []\n",
        "    for i, seq in enumerate(l):\n",
        "        m.append([])\n",
        "        for token in seq:\n",
        "            if token == PAD_token:\n",
        "                m[i].append(0)\n",
        "            else:\n",
        "                m[i].append(1)\n",
        "    return m\n",
        "\n",
        "# Function to prepare input sequence tensor and lengths\n",
        "def inputVar(l, voc):\n",
        "    indexes_batch = [indexesFromSentence(voc, sentence) for sentence in l]\n",
        "    lengths = torch.tensor([len(indexes) for indexes in indexes_batch])\n",
        "    padList = zeroPadding(indexes_batch)\n",
        "    padVar = torch.LongTensor(padList)\n",
        "    return padVar, lengths\n",
        "\n",
        "# Function to prepare target sequence tensor, padding mask, and max target length\n",
        "def outputVar(l, voc):\n",
        "    indexes_batch = [indexesFromSentence(voc, sentence) for sentence in l]\n",
        "    max_target_len = max([len(indexes) for indexes in indexes_batch])\n",
        "    padList = zeroPadding(indexes_batch)\n",
        "    mask = binaryMatrix(padList)\n",
        "    mask = torch.BoolTensor(mask)\n",
        "    padVar = torch.LongTensor(padList)\n",
        "    return padVar, mask, max_target_len\n",
        "\n",
        "# Function to prepare all items for a given batch of pairs\n",
        "def batch2TrainData(voc, pair_batch):\n",
        "    # Sort the pair batch by the length of the input sequences (for efficient padding)\n",
        "    pair_batch.sort(key=lambda x: len(x[0].split(\" \")), reverse=True)\n",
        "    input_batch, output_batch = [], []\n",
        "    for pair in pair_batch:\n",
        "        input_batch.append(pair[0])\n",
        "        output_batch.append(pair[1])\n",
        "    inp, lengths = inputVar(input_batch, voc)\n",
        "    output, mask, max_target_len = outputVar(output_batch, voc)\n",
        "    return inp, lengths, output, mask, max_target_len\n",
        "\n",
        "# Example code for validation\n",
        "small_batch_size = 5\n",
        "# Create batches of training data with random pairs\n",
        "batches = batch2TrainData(voc, [random.choice(pairs) for _ in range(small_batch_size)])\n",
        "input_variable, lengths, target_variable, mask, max_target_len = batches\n",
        "\n",
        "# Print the prepared data for validation\n",
        "print(\"input_variable:\", input_variable)\n",
        "print(\"lengths:\", lengths)\n",
        "print(\"target_variable:\", target_variable)\n",
        "print(\"mask:\", mask)\n",
        "print(\"max_target_len:\", max_target_len)"
      ]
    },
    {
      "cell_type": "markdown",
      "metadata": {
        "id": "qsZYHHa0zi_U"
      },
      "source": [
        "### Encoder ###\n",
        "This EncoderRNN class is a part of a sequence-to-sequence (seq2seq) model. It takes input sequences, processes them through a bidirectional GRU (Gated Recurrent Unit), and returns the outputs and the final hidden state:"
      ]
    },
    {
      "cell_type": "code",
      "execution_count": 34,
      "metadata": {
        "id": "7iQcjXVazi_W"
      },
      "outputs": [],
      "source": [
        "class EncoderRNN(nn.Module):\n",
        "    def __init__(self, hidden_size, embedding, n_layers=1, dropout=0):\n",
        "        super(EncoderRNN, self).__init__()\n",
        "        self.n_layers = n_layers\n",
        "        self.hidden_size = hidden_size\n",
        "        self.embedding = embedding\n",
        "\n",
        "        # Initialize GRU; the input_size and hidden_size parameters are both set to 'hidden_size'\n",
        "        #   because our input size is a word embedding with number of features == hidden_size\n",
        "        self.gru = nn.GRU(hidden_size, hidden_size, n_layers,\n",
        "                          dropout=(0 if n_layers == 1 else dropout), bidirectional=True)\n",
        "\n",
        "    def forward(self, input_seq, input_lengths, hidden=None):\n",
        "        # Convert word indexes to embeddings\n",
        "        embedded = self.embedding(input_seq)\n",
        "        # Pack padded batch of sequences for RNN module\n",
        "        packed = nn.utils.rnn.pack_padded_sequence(embedded, input_lengths)\n",
        "        # Forward pass through GRU\n",
        "        outputs, hidden = self.gru(packed, hidden)\n",
        "        # Unpack padding\n",
        "        outputs, _ = nn.utils.rnn.pad_packed_sequence(outputs)\n",
        "        # Sum bidirectional GRU outputs\n",
        "        outputs = outputs[:, :, :self.hidden_size] + outputs[:, : ,self.hidden_size:]\n",
        "        # Return output and final hidden state\n",
        "        return outputs, hidden"
      ]
    },
    {
      "cell_type": "markdown",
      "metadata": {
        "id": "b9oq1g1mzi_W"
      },
      "source": [
        "### Decoder\n",
        "\n",
        "This Attn class is used for implementing different attention mechanisms (dot, general, concat) in a sequence-to-sequence (seq2seq) model. It calculates attention scores based on the chosen method and returns softmax-normalized probability scores:\n",
        "\n"
      ]
    },
    {
      "cell_type": "code",
      "execution_count": 35,
      "metadata": {
        "id": "deLHyzPxzi_W"
      },
      "outputs": [],
      "source": [
        "import torch\n",
        "import torch.nn as nn\n",
        "import torch.nn.functional as F\n",
        "\n",
        "class Attn(nn.Module):\n",
        "    def __init__(self, method, hidden_size):\n",
        "        super(Attn, self).__init__()\n",
        "        self.method = method\n",
        "        if self.method not in ['dot', 'general', 'concat']:\n",
        "            raise ValueError(self.method, \"is not an appropriate attention method.\")\n",
        "        self.hidden_size = hidden_size\n",
        "        if self.method == 'general':\n",
        "            # Linear layer for general attention\n",
        "            self.attn = nn.Linear(self.hidden_size, hidden_size)\n",
        "        elif self.method == 'concat':\n",
        "            # Linear layers for concat attention\n",
        "            self.attn = nn.Linear(self.hidden_size * 2, hidden_size)\n",
        "            self.v = nn.Parameter(torch.FloatTensor(hidden_size))\n",
        "\n",
        "    def dot_score(self, hidden, encoder_output):\n",
        "        # Calculate dot product attention scores\n",
        "        return torch.sum(hidden * encoder_output, dim=2)\n",
        "\n",
        "    def general_score(self, hidden, encoder_output):\n",
        "        # Calculate general attention scores\n",
        "        energy = self.attn(encoder_output)\n",
        "        return torch.sum(hidden * energy, dim=2)\n",
        "\n",
        "    def concat_score(self, hidden, encoder_output):\n",
        "        # Calculate concat attention scores\n",
        "        energy = self.attn(torch.cat((hidden.expand(encoder_output.size(0), -1, -1), encoder_output), 2)).tanh()\n",
        "        return torch.sum(self.v * energy, dim=2)\n",
        "\n",
        "    def forward(self, hidden, encoder_outputs):\n",
        "        # Calculate the attention weights (energies) based on the given method\n",
        "        if self.method == 'general':\n",
        "            attn_energies = self.general_score(hidden, encoder_outputs)\n",
        "        elif self.method == 'concat':\n",
        "            attn_energies = self.concat_score(hidden, encoder_outputs)\n",
        "        elif self.method == 'dot':\n",
        "            attn_energies = self.dot_score(hidden, encoder_outputs)\n",
        "\n",
        "        # Transpose max_length and batch_size dimensions\n",
        "        attn_energies = attn_energies.t()\n",
        "\n",
        "        # Return the softmax normalized probability scores (with added dimension)\n",
        "        return F.softmax(attn_energies, dim=1).unsqueeze(1)"
      ]
    },
    {
      "cell_type": "markdown",
      "metadata": {
        "id": "Ac2n9OnMzi_X"
      },
      "source": [
        "This 'LuongAttnDecoderRNN' class is a part of a sequence-to-sequence (seq2seq) model with Luong attention. It takes an input step (word), processes it through a GRU, calculates attention scores, and produces an output."
      ]
    },
    {
      "cell_type": "code",
      "execution_count": 36,
      "metadata": {
        "id": "gHzWG8MKzi_X"
      },
      "outputs": [],
      "source": [
        "class LuongAttnDecoderRNN(nn.Module):\n",
        "    def __init__(self, attn_model, embedding, hidden_size, output_size, n_layers=1, dropout=0.1):\n",
        "        super(LuongAttnDecoderRNN, self).__init__()\n",
        "\n",
        "        # Keep for reference\n",
        "        self.attn_model = attn_model\n",
        "        self.hidden_size = hidden_size\n",
        "        self.output_size = output_size\n",
        "        self.n_layers = n_layers\n",
        "        self.dropout = dropout\n",
        "\n",
        "        # Define layers\n",
        "        self.embedding = embedding\n",
        "        self.embedding_dropout = nn.Dropout(dropout)\n",
        "        self.gru = nn.GRU(hidden_size, hidden_size, n_layers, dropout=(0 if n_layers == 1 else dropout))\n",
        "        self.concat = nn.Linear(hidden_size * 2, hidden_size)\n",
        "        self.out = nn.Linear(hidden_size, output_size)\n",
        "\n",
        "        # Initialize attention mechanism\n",
        "        self.attn = Attn(attn_model, hidden_size)\n",
        "\n",
        "    def forward(self, input_step, last_hidden, encoder_outputs):\n",
        "        # Note: we run this one step (word) at a time\n",
        "        # Get embedding of the current input word\n",
        "        embedded = self.embedding(input_step)\n",
        "        embedded = self.embedding_dropout(embedded)\n",
        "        # Forward through unidirectional GRU\n",
        "        rnn_output, hidden = self.gru(embedded, last_hidden)\n",
        "        # Calculate attention weights from the current GRU output\n",
        "        attn_weights = self.attn(rnn_output, encoder_outputs)\n",
        "        # Multiply attention weights with encoder outputs to get the new \"weighted sum\" context vector\n",
        "        context = attn_weights.bmm(encoder_outputs.transpose(0, 1))\n",
        "        # Squeeze dimensions to match shapes for concatenation\n",
        "        rnn_output = rnn_output.squeeze(0)\n",
        "        context = context.squeeze(1)\n",
        "        # Concatenate weighted context vector and GRU output using Luong Eq. 5\n",
        "        concat_input = torch.cat((rnn_output, context), 1)\n",
        "        concat_output = torch.tanh(self.concat(concat_input))\n",
        "        # Predict the next word using Luong Eq. 6\n",
        "        output = self.out(concat_output)\n",
        "        output = F.softmax(output, dim=1)\n",
        "        # Return the output and the final hidden state\n",
        "        return output, hidden"
      ]
    },
    {
      "cell_type": "markdown",
      "metadata": {
        "id": "dqm-zsJozi_X"
      },
      "source": [
        "## Define Training Procedure\n",
        "\n",
        "### Masked loss\n",
        "\n",
        "This function is used to calculate the negative log-likelihood loss for a sequence of inputs and target indices while handling padding elements using a binary mask.\n",
        "\n",
        "\n"
      ]
    },
    {
      "cell_type": "code",
      "execution_count": 37,
      "metadata": {
        "id": "rLhSP278zi_X"
      },
      "outputs": [],
      "source": [
        "def maskNLLLoss(inp, target, mask):\n",
        "    # Calculate the negative log-likelihood loss for a sequence of inputs ('inp') and target indices ('target')\n",
        "    # masked by a binary mask ('mask') to handle padding.\n",
        "\n",
        "    # Calculate the total number of elements (tokens) in the batch\n",
        "    nTotal = mask.sum()\n",
        "\n",
        "    # Use the 'gather' function to select the predicted probabilities corresponding to the target indices\n",
        "    # and calculate the cross-entropy loss\n",
        "    crossEntropy = -torch.log(torch.gather(inp, 1, target.view(-1, 1)).squeeze(1))\n",
        "\n",
        "    # Mask the loss using the provided binary mask to ignore padding elements\n",
        "    loss = crossEntropy.masked_select(mask).mean()\n",
        "\n",
        "    # Ensure the loss is on the same device as the input\n",
        "    loss = loss.to(device)\n",
        "\n",
        "    # Return the masked loss and the total number of non-padding elements in the batch\n",
        "    return loss, nTotal.item()"
      ]
    },
    {
      "cell_type": "markdown",
      "metadata": {
        "id": "A4g0zrs-zi_X"
      },
      "source": [
        "### Single training iteration\n",
        "\n",
        "This train function is used to train a sequence-to-sequence model with teacher forcing. It performs a forward pass through the encoder and decoder, calculates the loss, and performs backpropagation to update the model weights:\n",
        "\n",
        "\n"
      ]
    },
    {
      "cell_type": "code",
      "execution_count": 38,
      "metadata": {
        "id": "gal7ubGHzi_X"
      },
      "outputs": [],
      "source": [
        "def train(input_variable, lengths, target_variable, mask, max_target_len, encoder, decoder, embedding,\n",
        "          encoder_optimizer, decoder_optimizer, batch_size, clip, max_length=MAX_LENGTH):\n",
        "\n",
        "    # Zero gradients\n",
        "    encoder_optimizer.zero_grad()\n",
        "    decoder_optimizer.zero_grad()\n",
        "\n",
        "    # Set device options\n",
        "    input_variable = input_variable.to(device)\n",
        "    target_variable = target_variable.to(device)\n",
        "    mask = mask.to(device)\n",
        "    # Lengths for RNN packing should always be on the CPU\n",
        "    lengths = lengths.to(\"cpu\")\n",
        "\n",
        "    # Initialise variables\n",
        "    loss = 0\n",
        "    print_losses = []\n",
        "    n_totals = 0\n",
        "\n",
        "    # Forward pass through encoder\n",
        "    encoder_outputs, encoder_hidden = encoder(input_variable, lengths)\n",
        "\n",
        "    # Create initial decoder input (start with SOS tokens for each sentence)\n",
        "    decoder_input = torch.LongTensor([[SOS_token for _ in range(batch_size)]])\n",
        "    decoder_input = decoder_input.to(device)\n",
        "\n",
        "    # Set initial decoder hidden state to the encoder's final hidden state\n",
        "    decoder_hidden = encoder_hidden[:decoder.n_layers]\n",
        "\n",
        "    # Determine if we are using teacher forcing this iteration\n",
        "    use_teacher_forcing = True if random.random() < teacher_forcing_ratio else False\n",
        "\n",
        "    # Forward batch of sequences through decoder one time step at a time\n",
        "    if use_teacher_forcing:\n",
        "        for t in range(max_target_len):\n",
        "            decoder_output, decoder_hidden = decoder(\n",
        "                decoder_input, decoder_hidden, encoder_outputs\n",
        "            )\n",
        "            # Teacher forcing: next input is current target\n",
        "            decoder_input = target_variable[t].view(1, -1)\n",
        "            # Calculate and accumulate loss\n",
        "            mask_loss, nTotal = maskNLLLoss(decoder_output, target_variable[t], mask[t])\n",
        "            loss += mask_loss\n",
        "            print_losses.append(mask_loss.item() * nTotal)\n",
        "            n_totals += nTotal\n",
        "    else:\n",
        "        for t in range(max_target_len):\n",
        "            decoder_output, decoder_hidden = decoder(\n",
        "                decoder_input, decoder_hidden, encoder_outputs\n",
        "            )\n",
        "            # No teacher forcing: next input is decoder's own current output\n",
        "            _, topi = decoder_output.topk(1)\n",
        "            decoder_input = torch.LongTensor([[topi[i][0] for i in range(batch_size)]])\n",
        "            decoder_input = decoder_input.to(device)\n",
        "            # Calculate and accumulate loss\n",
        "            mask_loss, nTotal = maskNLLLoss(decoder_output, target_variable[t], mask[t])\n",
        "            loss += mask_loss\n",
        "            print_losses.append(mask_loss.item() * nTotal)\n",
        "            n_totals += nTotal\n",
        "\n",
        "    # Perform backpropagation\n",
        "    loss.backward()\n",
        "\n",
        "    # Clip gradients: gradients are modified in place\n",
        "    _ = nn.utils.clip_grad_norm_(encoder.parameters(), clip)\n",
        "    _ = nn.utils.clip_grad_norm_(decoder.parameters(), clip)\n",
        "\n",
        "    # Adjust model weights\n",
        "    encoder_optimizer.step()\n",
        "    decoder_optimizer.step()\n",
        "\n",
        "    return sum(print_losses) / n_totals"
      ]
    },
    {
      "cell_type": "markdown",
      "metadata": {
        "id": "8BpUnJgCzi_Y"
      },
      "source": [
        "### Training iterations\n",
        "\n",
        "This trainIters function is used to train a sequence-to-sequence model for a specified number of iterations. It loads batches of training data, runs training iterations, and saves checkpoints at specified intervals:\n",
        "\n"
      ]
    },
    {
      "cell_type": "code",
      "execution_count": 40,
      "metadata": {
        "id": "6d1kpfuHzi_Y"
      },
      "outputs": [],
      "source": [
        "import matplotlib.pyplot as plt\n",
        "import os\n",
        "import torch\n",
        "import random  # Make sure to import random if you're using it\n",
        "\n",
        "def trainIters(model_name, voc, pairs, encoder, decoder, encoder_optimizer, decoder_optimizer,\n",
        "               embedding, encoder_n_layers, decoder_n_layers, save_dir, n_iteration, batch_size,\n",
        "               print_every, save_every, clip, corpus_name, loadFilename):\n",
        "\n",
        "    training_batches = [batch2TrainData(voc, [random.choice(pairs) for _ in range(batch_size)])\n",
        "                        for _ in range(n_iteration)]\n",
        "\n",
        "    print('Initialising ...')\n",
        "    start_iteration = 1\n",
        "    print_loss = 0\n",
        "    if loadFilename:\n",
        "        start_iteration = checkpoint['iteration'] + 1\n",
        "\n",
        "    # Prepare to store loss values for plotting\n",
        "    loss_values = []\n",
        "\n",
        "    print(\"Training...\")\n",
        "    for iteration in range(start_iteration, n_iteration + 1):\n",
        "        training_batch = training_batches[iteration - 1]\n",
        "        input_variable, lengths, target_variable, mask, max_target_len = training_batch\n",
        "\n",
        "        loss = train(input_variable, lengths, target_variable, mask, max_target_len, encoder,\n",
        "                     decoder, embedding, encoder_optimizer, decoder_optimizer, batch_size, clip)\n",
        "        print_loss += loss\n",
        "\n",
        "        # Print progress and append to loss_values every print_every iterations\n",
        "        if iteration % print_every == 0:\n",
        "            print_loss_avg = print_loss / print_every\n",
        "            print(\"Iteration: {}; Percent complete: {:.1f}%; Average loss: {:.4f}\".format(\n",
        "                iteration, iteration / n_iteration * 100, print_loss_avg))\n",
        "            print_loss = 0\n",
        "            loss_values.append(print_loss_avg)\n",
        "\n",
        "        # Save checkpoint every save_every iterations\n",
        "        if iteration % save_every == 0:\n",
        "            directory = os.path.join(save_dir, model_name, corpus_name, '{}-{}_{}'.format(encoder_n_layers, decoder_n_layers, 'hidden_size_placeholder'))  # Replace 'hidden_size_placeholder' with actual value\n",
        "            if not os.path.exists(directory):\n",
        "                os.makedirs(directory)\n",
        "            torch.save({\n",
        "                'iteration': iteration,\n",
        "                'en': encoder.state_dict(),\n",
        "                'de': decoder.state_dict(),\n",
        "                'en_opt': encoder_optimizer.state_dict(),\n",
        "                'de_opt': decoder_optimizer.state_dict(),\n",
        "                'loss': loss,\n",
        "                'voc_dict': voc.__dict__,\n",
        "                'embedding': embedding.state_dict()\n",
        "            }, os.path.join(directory, '{}_{}.tar'.format(iteration, 'checkpoint')))\n",
        "\n",
        "    # Plot the loss over time after the training loop\n",
        "    plt.figure()\n",
        "    x_values = range(print_every, print_every * len(loss_values) + 1, print_every)\n",
        "    plt.plot(x_values, loss_values, marker='o')\n",
        "    plt.xlabel('Iteration')\n",
        "    plt.ylabel('Average Loss')\n",
        "    plt.title('Training Loss Over Time')\n",
        "    plt.grid(True)\n",
        "    plt.show()\n",
        "\n",
        "    # Return the loss values for further analysis or use\n",
        "    return loss_values"
      ]
    },
    {
      "cell_type": "markdown",
      "metadata": {
        "id": "Y-dpwGMWzi_Y"
      },
      "source": [
        "## Define Evaluation\n",
        "\n",
        "### Greedy decoding\n",
        "This GreedySearchDecoder class is used for performing greedy decoding with a trained encoder-decoder model. It takes an input sequence, feeds it through the encoder, and then iteratively generates the most likely output sequence one token at a time using the decoder:"
      ]
    },
    {
      "cell_type": "code",
      "execution_count": 41,
      "metadata": {
        "id": "shckFdbXzi_Y"
      },
      "outputs": [],
      "source": [
        "class GreedySearchDecoder(nn.Module):\n",
        "    def __init__(self, encoder, decoder):\n",
        "        super(GreedySearchDecoder, self).__init__()\n",
        "        self.encoder = encoder\n",
        "        self.decoder = decoder\n",
        "\n",
        "    def forward(self, input_seq, input_length, max_length):\n",
        "        # Forward input through encoder model\n",
        "        encoder_outputs, encoder_hidden = self.encoder(input_seq, input_length)\n",
        "        # Prepare encoder's final hidden layer to be the first hidden input to the decoder\n",
        "        decoder_hidden = encoder_hidden[:decoder.n_layers]\n",
        "        # Initialize decoder input with SOS_token\n",
        "        decoder_input = torch.ones(1, 1, device=device, dtype=torch.long) * SOS_token\n",
        "        # Initialize tensors to append decoded words to\n",
        "        all_tokens = torch.zeros([0], device=device, dtype=torch.long)\n",
        "        all_scores = torch.zeros([0], device=device)\n",
        "        # Iteratively decode one word token at a time\n",
        "        for _ in range(max_length):\n",
        "            # Forward pass through decoder\n",
        "            decoder_output, decoder_hidden = self.decoder(decoder_input, decoder_hidden, encoder_outputs)\n",
        "            # Obtain the most likely word token and its softmax score\n",
        "            decoder_scores, decoder_input = torch.max(decoder_output, dim=1)\n",
        "            # Record token and score\n",
        "            all_tokens = torch.cat((all_tokens, decoder_input), dim=0)\n",
        "            all_scores = torch.cat((all_scores, decoder_scores), dim=0)\n",
        "            # Prepare the current token to be the next decoder input (add a dimension)\n",
        "            decoder_input = torch.unsqueeze(decoder_input, 0)\n",
        "        # Return collections of word tokens and scores\n",
        "        return all_tokens, all_scores"
      ]
    },
    {
      "cell_type": "markdown",
      "metadata": {
        "id": "NijbRg0vzi_Y"
      },
      "source": [
        "### Evaluate my text\n",
        "\n",
        "These functions are used for evaluating input sentences using a trained encoder-decoder model and a searcher (e.g., GreedySearchDecoder). The evaluate function takes an input sentence, processes it, and generates a response based on the model's predictions. The evaluateInput function allows users to interact with the model by providing input sentences and receiving responses:"
      ]
    },
    {
      "cell_type": "code",
      "execution_count": 42,
      "metadata": {
        "id": "RZVqt17dzi_Y"
      },
      "outputs": [],
      "source": [
        "def evaluate(encoder, decoder, searcher, voc, sentence, max_length=MAX_LENGTH):\n",
        "    ### Format input sentence as a batch\n",
        "    # words -> indexes\n",
        "    indexes_batch = [indexesFromSentence(voc, sentence)]\n",
        "    # Create lengths tensor\n",
        "    lengths = torch.tensor([len(indexes) for indexes in indexes_batch])\n",
        "    # Transpose dimensions of the batch to match models' expectations\n",
        "    input_batch = torch.LongTensor(indexes_batch).transpose(0, 1)\n",
        "    # Use the appropriate device\n",
        "    input_batch = input_batch.to(device)\n",
        "    lengths = lengths.to(\"cpu\")\n",
        "    # Decode sentence with searcher\n",
        "    tokens, scores = searcher(input_batch, lengths, max_length)\n",
        "    # indexes -> words\n",
        "    decoded_words = [voc.index2word[token.item()] for token in tokens]\n",
        "    return decoded_words\n",
        "\n",
        "\n",
        "def evaluateInput(encoder, decoder, searcher, voc):\n",
        "    input_sentence = ''\n",
        "    while(1):\n",
        "        try:\n",
        "            # Get input sentence\n",
        "            input_sentence = input('> ')\n",
        "            # Check if it is a quit case\n",
        "            if input_sentence == 'q' or input_sentence == 'quit':\n",
        "                break\n",
        "            # Normalize sentence\n",
        "            input_sentence = normalizeString(input_sentence)\n",
        "            # Evaluate sentence\n",
        "            output_words = evaluate(encoder, decoder, searcher, voc, input_sentence)\n",
        "            # Format and print the response sentence\n",
        "            output_words[:] = [x for x in output_words if not (x == 'EOS' or x == 'PAD')]\n",
        "            print('Bot:', ' '.join(output_words))\n",
        "\n",
        "        except KeyError:\n",
        "            print(\"Error: Encountered an unknown word.\")"
      ]
    },
    {
      "cell_type": "markdown",
      "metadata": {
        "id": "xcIqg9XNzi_Z"
      },
      "source": [
        "## Run Model\n",
        "\n",
        "These configurations define various aspects of your model, such as its name, attention mechanism, hidden size, number of layers, dropout rate, batch size, and whether you want to load a pretrained model checkpoint:\n",
        "\n"
      ]
    },
    {
      "cell_type": "code",
      "execution_count": 43,
      "metadata": {
        "id": "yYBTBixGzi_Z"
      },
      "outputs": [],
      "source": [
        "# Configure models\n",
        "model_name = 'cb_model'  # Choose a name for your model\n",
        "#attn_model = 'dot'       # Choose an attention mechanism: 'dot', 'general', or 'concat'\n",
        "attn_model = 'general'  # Uncomment this line to use the 'general' attention mechanism\n",
        "#attn_model = 'concat'   # Uncomment this line to use the 'concat' attention mechanism\n",
        "hidden_size = 500        # Define the hidden size for the encoder and decoder\n",
        "encoder_n_layers = 2     # Number of layers for the encoder\n",
        "decoder_n_layers = 2     # Number of layers for the decoder\n",
        "dropout = 0.01            # Dropout probability for the model\n",
        "batch_size = 128         # Batch size for training\n",
        "\n",
        "# Set checkpoint to load from; set to None if starting from scratch\n",
        "loadFilename = None      # Set to a file path if you want to load a pretrained model checkpoint\n",
        "checkpoint_iter = 4000  # Specify the checkpoint iteration to load (if loadFilename is not None)\n"
      ]
    },
    {
      "cell_type": "markdown",
      "metadata": {
        "id": "Z_CXr0D2zi_Z"
      },
      "source": [
        "Sample code to load from a checkpoint:\n",
        "\n",
        "```python\n",
        "loadFilename = os.path.join(save_dir, model_name, corpus_name,\n",
        "                    '{}-{}_{}'.format(encoder_n_layers, decoder_n_layers, hidden_size),\n",
        "                    '{}_checkpoint.tar'.format(checkpoint_iter))\n",
        "```\n"
      ]
    },
    {
      "cell_type": "code",
      "execution_count": 44,
      "metadata": {
        "id": "OZb7AyNnzi_e",
        "colab": {
          "base_uri": "https://localhost:8080/"
        },
        "outputId": "b710894e-417c-495a-d4a1-5e2354b39ee1"
      },
      "outputs": [
        {
          "output_type": "stream",
          "name": "stdout",
          "text": [
            "Models built and ready to go!\n"
          ]
        }
      ],
      "source": [
        "# Load model if a `loadFilename` is provided\n",
        "if loadFilename:\n",
        "    # If loading on the same machine the model was trained on\n",
        "    checkpoint = torch.load(loadFilename)\n",
        "    # If loading a model trained on GPU to CPU, use the following line instead\n",
        "    # checkpoint = torch.load(loadFilename, map_location=torch.device('cpu'))\n",
        "\n",
        "    # Load model weights and other relevant data\n",
        "    encoder_sd = checkpoint['en']                    # Encoder state dictionary\n",
        "    decoder_sd = checkpoint['de']                    # Decoder state dictionary\n",
        "    encoder_optimizer_sd = checkpoint['en_opt']      # Encoder optimizer state dictionary\n",
        "    decoder_optimizer_sd = checkpoint['de_opt']      # Decoder optimizer state dictionary\n",
        "    embedding_sd = checkpoint['embedding']           # Embedding state dictionary\n",
        "    voc.__dict__ = checkpoint['voc_dict']             # Vocabulary dictionary\n",
        "\n",
        "# Initialize word embeddings\n",
        "embedding = nn.Embedding(voc.num_words, hidden_size)\n",
        "if loadFilename:\n",
        "    embedding.load_state_dict(embedding_sd)\n",
        "\n",
        "# Initialize encoder & decoder models\n",
        "encoder = EncoderRNN(hidden_size, embedding, encoder_n_layers, dropout)\n",
        "decoder = LuongAttnDecoderRNN(attn_model, embedding, hidden_size, voc.num_words, decoder_n_layers, dropout)\n",
        "\n",
        "if loadFilename:\n",
        "    # Load the pretrained model weights\n",
        "    encoder.load_state_dict(encoder_sd)\n",
        "    decoder.load_state_dict(decoder_sd)\n",
        "\n",
        "# Move models to the appropriate device (GPU or CPU)\n",
        "encoder = encoder.to(device)\n",
        "decoder = decoder.to(device)\n",
        "\n",
        "print('Models built and ready to go!')"
      ]
    },
    {
      "cell_type": "markdown",
      "metadata": {
        "id": "RCkK_dtpzi_e"
      },
      "source": [
        "### Run Training ###\n",
        "\n",
        "This code block sets up various training parameters, including gradient clipping, teacher forcing ratio, learning rates, and the number of training iterations. It also initializes the optimizer for both the encoder and decoder. Finally, it starts the training loop by calling the trainIters function with the provided parameters.\n",
        "\n",
        "\n"
      ]
    },
    {
      "cell_type": "code",
      "execution_count": 45,
      "metadata": {
        "id": "vs4LAMrszi_f",
        "colab": {
          "base_uri": "https://localhost:8080/",
          "height": 1000
        },
        "outputId": "ab688a87-f384-49d1-93af-17953e4d86f3"
      },
      "outputs": [
        {
          "output_type": "stream",
          "name": "stdout",
          "text": [
            "Building optimisers ...\n",
            "Starting Training!\n",
            "Initialising ...\n",
            "Training...\n",
            "Iteration: 100; Percent complete: 1.0%; Average loss: 5.7959\n",
            "Iteration: 200; Percent complete: 2.0%; Average loss: 5.1588\n",
            "Iteration: 300; Percent complete: 3.0%; Average loss: 4.9476\n",
            "Iteration: 400; Percent complete: 4.0%; Average loss: 4.7917\n",
            "Iteration: 500; Percent complete: 5.0%; Average loss: 4.7937\n",
            "Iteration: 600; Percent complete: 6.0%; Average loss: 4.6163\n",
            "Iteration: 700; Percent complete: 7.0%; Average loss: 4.5173\n",
            "Iteration: 800; Percent complete: 8.0%; Average loss: 4.5252\n",
            "Iteration: 900; Percent complete: 9.0%; Average loss: 4.5650\n",
            "Iteration: 1000; Percent complete: 10.0%; Average loss: 4.4603\n",
            "Iteration: 1100; Percent complete: 11.0%; Average loss: 4.4489\n",
            "Iteration: 1200; Percent complete: 12.0%; Average loss: 4.4551\n",
            "Iteration: 1300; Percent complete: 13.0%; Average loss: 4.3807\n",
            "Iteration: 1400; Percent complete: 14.0%; Average loss: 4.2438\n",
            "Iteration: 1500; Percent complete: 15.0%; Average loss: 4.4423\n",
            "Iteration: 1600; Percent complete: 16.0%; Average loss: 4.4616\n",
            "Iteration: 1700; Percent complete: 17.0%; Average loss: 4.3206\n",
            "Iteration: 1800; Percent complete: 18.0%; Average loss: 4.2926\n",
            "Iteration: 1900; Percent complete: 19.0%; Average loss: 4.3291\n",
            "Iteration: 2000; Percent complete: 20.0%; Average loss: 4.3889\n",
            "Iteration: 2100; Percent complete: 21.0%; Average loss: 4.3019\n",
            "Iteration: 2200; Percent complete: 22.0%; Average loss: 4.1593\n",
            "Iteration: 2300; Percent complete: 23.0%; Average loss: 4.2732\n",
            "Iteration: 2400; Percent complete: 24.0%; Average loss: 4.1882\n",
            "Iteration: 2500; Percent complete: 25.0%; Average loss: 4.2836\n",
            "Iteration: 2600; Percent complete: 26.0%; Average loss: 4.2929\n",
            "Iteration: 2700; Percent complete: 27.0%; Average loss: 4.1833\n",
            "Iteration: 2800; Percent complete: 28.0%; Average loss: 4.1730\n",
            "Iteration: 2900; Percent complete: 29.0%; Average loss: 4.0898\n",
            "Iteration: 3000; Percent complete: 30.0%; Average loss: 4.1482\n",
            "Iteration: 3100; Percent complete: 31.0%; Average loss: 4.2352\n",
            "Iteration: 3200; Percent complete: 32.0%; Average loss: 4.1480\n",
            "Iteration: 3300; Percent complete: 33.0%; Average loss: 4.2653\n",
            "Iteration: 3400; Percent complete: 34.0%; Average loss: 4.0870\n",
            "Iteration: 3500; Percent complete: 35.0%; Average loss: 4.1104\n",
            "Iteration: 3600; Percent complete: 36.0%; Average loss: 4.1954\n",
            "Iteration: 3700; Percent complete: 37.0%; Average loss: 4.1730\n",
            "Iteration: 3800; Percent complete: 38.0%; Average loss: 4.0601\n",
            "Iteration: 3900; Percent complete: 39.0%; Average loss: 4.0408\n",
            "Iteration: 4000; Percent complete: 40.0%; Average loss: 4.0301\n",
            "Iteration: 4100; Percent complete: 41.0%; Average loss: 4.1180\n",
            "Iteration: 4200; Percent complete: 42.0%; Average loss: 4.0328\n",
            "Iteration: 4300; Percent complete: 43.0%; Average loss: 4.0933\n",
            "Iteration: 4400; Percent complete: 44.0%; Average loss: 3.9659\n",
            "Iteration: 4500; Percent complete: 45.0%; Average loss: 4.0246\n",
            "Iteration: 4600; Percent complete: 46.0%; Average loss: 4.0761\n",
            "Iteration: 4700; Percent complete: 47.0%; Average loss: 4.0077\n",
            "Iteration: 4800; Percent complete: 48.0%; Average loss: 3.9570\n",
            "Iteration: 4900; Percent complete: 49.0%; Average loss: 3.9481\n",
            "Iteration: 5000; Percent complete: 50.0%; Average loss: 4.0215\n",
            "Iteration: 5100; Percent complete: 51.0%; Average loss: 4.0325\n",
            "Iteration: 5200; Percent complete: 52.0%; Average loss: 3.9007\n",
            "Iteration: 5300; Percent complete: 53.0%; Average loss: 4.0379\n",
            "Iteration: 5400; Percent complete: 54.0%; Average loss: 3.9645\n",
            "Iteration: 5500; Percent complete: 55.0%; Average loss: 4.0826\n",
            "Iteration: 5600; Percent complete: 56.0%; Average loss: 3.9069\n",
            "Iteration: 5700; Percent complete: 57.0%; Average loss: 3.9302\n",
            "Iteration: 5800; Percent complete: 58.0%; Average loss: 3.9600\n",
            "Iteration: 5900; Percent complete: 59.0%; Average loss: 3.9365\n",
            "Iteration: 6000; Percent complete: 60.0%; Average loss: 3.9665\n",
            "Iteration: 6100; Percent complete: 61.0%; Average loss: 4.0310\n",
            "Iteration: 6200; Percent complete: 62.0%; Average loss: 4.0553\n",
            "Iteration: 6300; Percent complete: 63.0%; Average loss: 3.7495\n",
            "Iteration: 6400; Percent complete: 64.0%; Average loss: 3.6980\n",
            "Iteration: 6500; Percent complete: 65.0%; Average loss: 3.7856\n",
            "Iteration: 6600; Percent complete: 66.0%; Average loss: 3.7338\n",
            "Iteration: 6700; Percent complete: 67.0%; Average loss: 3.8884\n",
            "Iteration: 6800; Percent complete: 68.0%; Average loss: 3.8241\n",
            "Iteration: 6900; Percent complete: 69.0%; Average loss: 3.9214\n",
            "Iteration: 7000; Percent complete: 70.0%; Average loss: 3.7583\n",
            "Iteration: 7100; Percent complete: 71.0%; Average loss: 3.8162\n",
            "Iteration: 7200; Percent complete: 72.0%; Average loss: 3.6716\n",
            "Iteration: 7300; Percent complete: 73.0%; Average loss: 3.6382\n",
            "Iteration: 7400; Percent complete: 74.0%; Average loss: 3.7415\n",
            "Iteration: 7500; Percent complete: 75.0%; Average loss: 3.7736\n",
            "Iteration: 7600; Percent complete: 76.0%; Average loss: 3.7774\n",
            "Iteration: 7700; Percent complete: 77.0%; Average loss: 3.5392\n",
            "Iteration: 7800; Percent complete: 78.0%; Average loss: 3.6223\n",
            "Iteration: 7900; Percent complete: 79.0%; Average loss: 3.7388\n",
            "Iteration: 8000; Percent complete: 80.0%; Average loss: 3.6994\n",
            "Iteration: 8100; Percent complete: 81.0%; Average loss: 3.7441\n",
            "Iteration: 8200; Percent complete: 82.0%; Average loss: 3.7402\n",
            "Iteration: 8300; Percent complete: 83.0%; Average loss: 3.6916\n",
            "Iteration: 8400; Percent complete: 84.0%; Average loss: 3.7176\n",
            "Iteration: 8500; Percent complete: 85.0%; Average loss: 3.6240\n",
            "Iteration: 8600; Percent complete: 86.0%; Average loss: 3.5362\n",
            "Iteration: 8700; Percent complete: 87.0%; Average loss: 3.5832\n",
            "Iteration: 8800; Percent complete: 88.0%; Average loss: 3.6903\n",
            "Iteration: 8900; Percent complete: 89.0%; Average loss: 3.6365\n",
            "Iteration: 9000; Percent complete: 90.0%; Average loss: 3.5937\n",
            "Iteration: 9100; Percent complete: 91.0%; Average loss: 3.5304\n",
            "Iteration: 9200; Percent complete: 92.0%; Average loss: 3.6934\n",
            "Iteration: 9300; Percent complete: 93.0%; Average loss: 3.4230\n",
            "Iteration: 9400; Percent complete: 94.0%; Average loss: 3.6381\n",
            "Iteration: 9500; Percent complete: 95.0%; Average loss: 3.6285\n",
            "Iteration: 9600; Percent complete: 96.0%; Average loss: 3.5541\n",
            "Iteration: 9700; Percent complete: 97.0%; Average loss: 3.4841\n",
            "Iteration: 9800; Percent complete: 98.0%; Average loss: 3.4664\n",
            "Iteration: 9900; Percent complete: 99.0%; Average loss: 3.6619\n",
            "Iteration: 10000; Percent complete: 100.0%; Average loss: 3.4517\n"
          ]
        },
        {
          "output_type": "display_data",
          "data": {
            "text/plain": [
              "<Figure size 640x480 with 1 Axes>"
            ],
            "image/png": "[encoded data removed]"
          },
          "metadata": {}
        },
        {
          "output_type": "execute_result",
          "data": {
            "text/plain": [
              "[5.79585596440193,\n",
              " 5.158836472667,\n",
              " 4.94755381444455,\n",
              " 4.791713713891906,\n",
              " 4.793701493325575,\n",
              " 4.616315167015185,\n",
              " 4.517290163506621,\n",
              " 4.525191675594025,\n",
              " 4.5650161945682575,\n",
              " 4.460287178907377,\n",
              " 4.4488937252992296,\n",
              " 4.45509426048469,\n",
              " 4.380748904908698,\n",
              " 4.243750515249484,\n",
              " 4.44231362312365,\n",
              " 4.461577130029006,\n",
              " 4.320558533454686,\n",
              " 4.2926383999455435,\n",
              " 4.3290882991789275,\n",
              " 4.388923506660292,\n",
              " 4.30187153565468,\n",
              " 4.159268759589429,\n",
              " 4.273160785663854,\n",
              " 4.1881692997879725,\n",
              " 4.283638836126308,\n",
              " 4.292947153849367,\n",
              " 4.183258055530579,\n",
              " 4.173034660901456,\n",
              " 4.0897893203775775,\n",
              " 4.148231960175232,\n",
              " 4.235187940177993,\n",
              " 4.148049565009848,\n",
              " 4.265323619138607,\n",
              " 4.087028618452515,\n",
              " 4.1104289693651115,\n",
              " 4.195415301431458,\n",
              " 4.173040515254308,\n",
              " 4.060116193582008,\n",
              " 4.040796931902688,\n",
              " 4.030087230712285,\n",
              " 4.1179671681262064,\n",
              " 4.032848461228182,\n",
              " 4.093277613342854,\n",
              " 3.965907998370546,\n",
              " 4.024620065759967,\n",
              " 4.076060476433547,\n",
              " 4.007711158549615,\n",
              " 3.9569904232584427,\n",
              " 3.948092744083805,\n",
              " 4.021544818263415,\n",
              " 4.032479669258132,\n",
              " 3.9007230276756677,\n",
              " 4.037869450954634,\n",
              " 3.9644613864858376,\n",
              " 4.082574483418378,\n",
              " 3.9068747334653473,\n",
              " 3.930224487380944,\n",
              " 3.9599569075320424,\n",
              " 3.936451341074646,\n",
              " 3.9664953557296774,\n",
              " 4.031006405651748,\n",
              " 4.055348756095157,\n",
              " 3.749489253304115,\n",
              " 3.6980058650403778,\n",
              " 3.785562510794457,\n",
              " 3.7338490186487134,\n",
              " 3.8883877013904833,\n",
              " 3.8240659159645833,\n",
              " 3.9213927405466587,\n",
              " 3.7582724633090043,\n",
              " 3.8162357300233656,\n",
              " 3.671640645314204,\n",
              " 3.6381997775915753,\n",
              " 3.741453997764042,\n",
              " 3.7735894187435424,\n",
              " 3.7773599081066527,\n",
              " 3.5392464939973114,\n",
              " 3.6223145599067936,\n",
              " 3.7387664052318064,\n",
              " 3.6993720836317356,\n",
              " 3.744096932208671,\n",
              " 3.7401969327938023,\n",
              " 3.691556382716657,\n",
              " 3.717577883908415,\n",
              " 3.624010816619578,\n",
              " 3.5362280827990555,\n",
              " 3.58321871528744,\n",
              " 3.690259153734349,\n",
              " 3.6364894962782732,\n",
              " 3.5936970157543446,\n",
              " 3.530446258173135,\n",
              " 3.6933941100457797,\n",
              " 3.422960765385661,\n",
              " 3.6380675867519283,\n",
              " 3.6285171612028364,\n",
              " 3.5540908272998633,\n",
              " 3.4840931701553735,\n",
              " 3.466443837611302,\n",
              " 3.661855787709316,\n",
              " 3.4516915676651347]"
            ]
          },
          "metadata": {},
          "execution_count": 45
        }
      ],
      "source": [
        "# Configure training/optimisation\n",
        "clip = 50.0                   # Gradient clipping threshold to prevent exploding gradients\n",
        "teacher_forcing_ratio = 0.7   # Probability of using teacher forcing during training (1.0 means always)\n",
        "learning_rate = 0.0001        # Learning rate for the optimiser\n",
        "decoder_learning_ratio = 5.0  # Learning rate multiplier for the decoder compared to the encoder\n",
        "n_iteration = 10000            # Number of training iterations\n",
        "print_every = 100           # Print training progress every `print_every` iterations\n",
        "save_every = 500             # Save a checkpoint every `save_every` iterations\n",
        "\n",
        "# Ensure dropout layers are in train mode\n",
        "encoder.train()\n",
        "decoder.train()\n",
        "\n",
        "# Initialise optimisers\n",
        "print('Building optimisers ...')\n",
        "encoder_optimizer = optim.Adam(encoder.parameters(), lr=learning_rate)\n",
        "decoder_optimizer = optim.Adam(decoder.parameters(), lr=learning_rate * decoder_learning_ratio)\n",
        "\n",
        "# Load optimiser states if a checkpoint is provided\n",
        "if loadFilename:\n",
        "    encoder_optimizer.load_state_dict(encoder_optimizer_sd)\n",
        "    decoder_optimizer.load_state_dict(decoder_optimizer_sd)\n",
        "\n",
        "# If you have CUDA, configure CUDA to call\n",
        "for state in encoder_optimizer.state.values():\n",
        "    for k, v in state.items():\n",
        "        if isinstance(v, torch.Tensor):\n",
        "            state[k] = v.cuda()\n",
        "\n",
        "for state in decoder_optimizer.state.values():\n",
        "    for k, v in state.items():\n",
        "        if isinstance(v, torch.Tensor):\n",
        "            state[k] = v.cuda()\n",
        "\n",
        "# Run training iterations\n",
        "print(\"Starting Training!\")\n",
        "trainIters(model_name, voc, pairs, encoder, decoder, encoder_optimizer, decoder_optimizer,\n",
        "           embedding, encoder_n_layers, decoder_n_layers, save_dir, n_iteration, batch_size,\n",
        "           print_every, save_every, clip, corpus_name, loadFilename)"
      ]
    },
    {
      "cell_type": "markdown",
      "metadata": {
        "id": "Q9bVadTTzi_f"
      },
      "source": [
        "### Run Evaluation\n",
        "\n",
        "To chat with your model, run the following block.\n",
        "\n",
        "\n"
      ]
    },
    {
      "cell_type": "code",
      "execution_count": 46,
      "metadata": {
        "id": "f_N5hle9zi_f",
        "colab": {
          "base_uri": "https://localhost:8080/"
        },
        "outputId": "443fa6a0-d1bb-4cdb-d1cd-33178958a136"
      },
      "outputs": [
        {
          "name": "stdout",
          "output_type": "stream",
          "text": [
            "> Hey\n",
            "Bot: hey . . . . . .\n",
            "> How are you?\n",
            "Bot: i m fine . .\n",
            "> Who am I?\n",
            "Bot: you re not . . . . . . .\n",
            "> Not who?\n",
            "Bot: you . . .\n",
            "> I feel this way a lot.\n",
            "Bot: i m not . . . . .\n",
            "> Where are you?\n",
            "Bot: i m in the bathroom . . .\n",
            "> Who are you??\n",
            "Bot: i m . . . . . . .\n",
            "> ...?\n",
            "Bot: . . . he s banging . . . . . . . . .\n",
            "> What?!?\n",
            "Bot: i don t . . . . . . .\n",
            "> q\n"
          ]
        }
      ],
      "source": [
        "# Set dropout layers to ``eval`` mode\n",
        "encoder.eval()\n",
        "decoder.eval()\n",
        "\n",
        "# Initialise search module\n",
        "searcher = GreedySearchDecoder(encoder, decoder)\n",
        "\n",
        "# Begin chatting (uncomment and run the following line to begin)\n",
        "evaluateInput(encoder, decoder, searcher, voc)"
      ]
    }
  ],
  "metadata": {
    "kernelspec": {
      "display_name": "Python 3",
      "name": "python3"
    },
    "language_info": {
      "codemirror_mode": {
        "name": "ipython",
        "version": 3
      },
      "file_extension": ".py",
      "mimetype": "text/x-python",
      "name": "python",
      "nbconvert_exporter": "python",
      "pygments_lexer": "ipython3",
      "version": "3.10.13"
    },
    "colab": {
      "provenance": [],
      "gpuType": "T4"
    },
    "accelerator": "GPU"
  },
  "nbformat": 4,
  "nbformat_minor": 0
}